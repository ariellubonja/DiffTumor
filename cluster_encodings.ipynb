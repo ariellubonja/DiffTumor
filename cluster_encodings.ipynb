{
 "cells": [
  {
   "cell_type": "markdown",
   "metadata": {
    "jp-MarkdownHeadingCollapsed": true
   },
   "source": [
    "# Data Preprocessing"
   ]
  },
  {
   "cell_type": "markdown",
   "metadata": {},
   "source": [
    "## Load Data"
   ]
  },
  {
   "cell_type": "code",
   "execution_count": 109,
   "metadata": {},
   "outputs": [
    {
     "name": "stderr",
     "output_type": "stream",
     "text": [
      "/var/folders/21/rybqmdj15yz5lp1lppq1761m0000gn/T/ipykernel_7682/935794250.py:7: FutureWarning:\n",
      "\n",
      "You are using `torch.load` with `weights_only=False` (the current default value), which uses the default pickle module implicitly. It is possible to construct malicious pickle data which will execute arbitrary code during unpickling (See https://github.com/pytorch/pytorch/blob/main/SECURITY.md#untrusted-models for more details). In a future release, the default value for `weights_only` will be flipped to `True`. This limits the functions that could be executed during unpickling. Arbitrary objects will no longer be allowed to be loaded via this mode unless they are explicitly allowlisted by the user via `torch.serialization.add_safe_globals`. We recommend you start setting `weights_only=True` for any use case where you don't have full control of the loaded file. Please open an issue on GitHub for any issues related to this experimental feature.\n",
      "\n"
     ]
    },
    {
     "name": "stdout",
     "output_type": "stream",
     "text": [
      "torch.Size([46, 55, 8, 24, 24, 24])\n",
      "46\n"
     ]
    },
    {
     "name": "stderr",
     "output_type": "stream",
     "text": [
      "/var/folders/21/rybqmdj15yz5lp1lppq1761m0000gn/T/ipykernel_7682/935794250.py:9: FutureWarning:\n",
      "\n",
      "You are using `torch.load` with `weights_only=False` (the current default value), which uses the default pickle module implicitly. It is possible to construct malicious pickle data which will execute arbitrary code during unpickling (See https://github.com/pytorch/pytorch/blob/main/SECURITY.md#untrusted-models for more details). In a future release, the default value for `weights_only` will be flipped to `True`. This limits the functions that could be executed during unpickling. Arbitrary objects will no longer be allowed to be loaded via this mode unless they are explicitly allowlisted by the user via `torch.serialization.add_safe_globals`. We recommend you start setting `weights_only=True` for any use case where you don't have full control of the loaded file. Please open an issue on GitHub for any issues related to this experimental feature.\n",
      "\n",
      "/var/folders/21/rybqmdj15yz5lp1lppq1761m0000gn/T/ipykernel_7682/935794250.py:11: FutureWarning:\n",
      "\n",
      "You are using `torch.load` with `weights_only=False` (the current default value), which uses the default pickle module implicitly. It is possible to construct malicious pickle data which will execute arbitrary code during unpickling (See https://github.com/pytorch/pytorch/blob/main/SECURITY.md#untrusted-models for more details). In a future release, the default value for `weights_only` will be flipped to `True`. This limits the functions that could be executed during unpickling. Arbitrary objects will no longer be allowed to be loaded via this mode unless they are explicitly allowlisted by the user via `torch.serialization.add_safe_globals`. We recommend you start setting `weights_only=True` for any use case where you don't have full control of the loaded file. Please open an issue on GitHub for any issues related to this experimental feature.\n",
      "\n"
     ]
    }
   ],
   "source": [
    "import torch\n",
    "import pickle\n",
    "\n",
    "# Load raw CTs\n",
    "\n",
    "# Load the encoded data\n",
    "all_encoded_cubes = torch.load('data/generated-data/vqgan_encoded_96.pt')#data/all_encoded_cubes.pt')\n",
    "\n",
    "encoded_cubes_estimated_labels = torch.load('data/generated-data/seg_cubes_tensor.pt')\n",
    "\n",
    "sampled_points_coordinates = torch.load('data/generated-data/sample_coordinates.pt')\n",
    "\n",
    "\n",
    "# Load the list of patient IDs\n",
    "with open('data/generated-data/filtered_ids.pkl', 'rb') as f:\n",
    "    all_filtered_ids = pickle.load(f)\n",
    "\n",
    "\n",
    "print(all_encoded_cubes.shape)\n",
    "print(len(all_filtered_ids))\n",
    "assert len(all_encoded_cubes) == len(all_filtered_ids)\n",
    "assert len(encoded_cubes_estimated_labels) == len(all_filtered_ids)"
   ]
  },
  {
   "cell_type": "code",
   "execution_count": 110,
   "metadata": {},
   "outputs": [],
   "source": [
    "def create_labels(n_samples=50, n_pancreas=10, n_background=45, D=24, H=24, W=24):\n",
    "    \"\"\"\n",
    "    Create a labels tensor indicating pancreas (1) vs. background (0) for each voxel.\n",
    "\n",
    "    Parameters:\n",
    "        n_samples (int): Number of CT scans.\n",
    "        n_pancreas (int): Number of pancreas points per CT scan.\n",
    "        n_background (int): Number of background points per CT scan.\n",
    "        D (int): Depth dimension size.\n",
    "        H (int): Height dimension size.\n",
    "        W (int): Width dimension size.\n",
    "\n",
    "    Returns:\n",
    "        torch.Tensor: Labels tensor of shape (n_samples * n_points * D * H * W,)\n",
    "                      where n_points = n_pancreas + n_background.\n",
    "    \"\"\"\n",
    "    # Total number of points per CT scan\n",
    "    n_points = n_pancreas + n_background  # 55\n",
    "\n",
    "    # Create labels for one CT scan: first 10 pancreas (1), next 45 background (0)\n",
    "    labels_per_ct = torch.cat([\n",
    "        torch.ones(n_pancreas, dtype=torch.long),\n",
    "        torch.zeros(n_background, dtype=torch.long)\n",
    "    ])  # Shape: [55]\n",
    "\n",
    "    # Number of voxels per point\n",
    "    n_voxels_per_point = D * H * W  # 24 * 24 * 24 = 13,824\n",
    "\n",
    "    # Repeat each label for its corresponding voxels\n",
    "    # Each point's label is repeated for all its voxels\n",
    "    labels_per_voxel = labels_per_ct.repeat_interleave(n_voxels_per_point)  # Shape: [55 * 13,824]\n",
    "\n",
    "    # Repeat for all CT scans\n",
    "    labels = labels_per_voxel.repeat(n_samples)  # Shape: [50 * 55 * 13,824] = [38,016,000]\n",
    "\n",
    "    return labels"
   ]
  },
  {
   "cell_type": "code",
   "execution_count": 111,
   "metadata": {},
   "outputs": [
    {
     "name": "stdout",
     "output_type": "stream",
     "text": [
      "torch.Size([38016000])\n"
     ]
    }
   ],
   "source": [
    "labels = create_labels(\n",
    "    n_samples=50,\n",
    "    n_pancreas=10,\n",
    "    n_background=45,\n",
    "    D=24,\n",
    "    H=24,\n",
    "    W=24\n",
    ")\n",
    "\n",
    "print(labels.shape)"
   ]
  },
  {
   "cell_type": "markdown",
   "metadata": {},
   "source": [
    "## Flattening & Extracting Middle Vector"
   ]
  },
  {
   "cell_type": "code",
   "execution_count": 112,
   "metadata": {},
   "outputs": [],
   "source": [
    "import torch\n",
    "from typing import Optional, Tuple\n",
    "\n",
    "def flatten_features(features: torch.Tensor) -> torch.Tensor:\n",
    "    \"\"\"\n",
    "    Flatten the input features while keeping the dimension of 8 intact.\n",
    "\n",
    "    Parameters:\n",
    "        features (torch.Tensor): Original features of shape (n_samples, 55, 8, 24, 24, 24).\n",
    "\n",
    "    Returns:\n",
    "        torch.Tensor: Flattened features of shape (n_samples * 55 * 24 * 24 * 24, 8).\n",
    "    \"\"\"\n",
    "    if not isinstance(features, torch.Tensor):\n",
    "        raise TypeError(\"Input features must be a torch.Tensor.\")\n",
    "\n",
    "    # Get the shape of the input tensor\n",
    "    n_samples, _, dim_8, *rest = features.shape\n",
    "\n",
    "    # Ensure the dimension of 8 is in the correct position\n",
    "    assert dim_8 == 8, \"The third dimension must be 8.\"\n",
    "\n",
    "    # Flatten the tensor while keeping the dimension of 8 intact\n",
    "    flattened = features.permute(0, 2, 1, 3, 4, 5).contiguous().view(n_samples * 55 * 24 * 24 * 24, 8)\n",
    "    \n",
    "    return flattened\n",
    "\n",
    "\n",
    "def unflatten_features(flattened: torch.Tensor, n_samples: int) -> torch.Tensor:\n",
    "    \"\"\"\n",
    "    Un-flatten the input features back to their original shape.\n",
    "\n",
    "    Parameters:\n",
    "        flattened (torch.Tensor): Flattened features of shape (n_samples * 55 * 24 * 24 * 24, 8).\n",
    "        n_samples (int): Number of samples.\n",
    "\n",
    "    Returns:\n",
    "        torch.Tensor: Original features of shape (n_samples, 55, 8, 24, 24, 24).\n",
    "    \"\"\"\n",
    "    if not isinstance(flattened, torch.Tensor):\n",
    "        raise TypeError(\"Input features must be a torch.Tensor.\")\n",
    "    \n",
    "    # Define the expected dimensions\n",
    "    num_items = 55\n",
    "    num_channels = 8\n",
    "    dim_size = 24\n",
    "    \n",
    "    # Calculate the expected size of the first dimension\n",
    "    expected_first_dim = n_samples * num_items * dim_size * dim_size * dim_size\n",
    "    \n",
    "    if flattened.shape[0] != expected_first_dim:\n",
    "        raise ValueError(\n",
    "            f\"First dimension of flattened tensor should be {expected_first_dim} \"\n",
    "            f\"(n_samples * 55 * 24 * 24 * 24), but got {flattened.shape[0]}.\"\n",
    "        )\n",
    "    \n",
    "    if flattened.shape[1] != num_channels:\n",
    "        raise ValueError(\n",
    "            f\"The last dimension of flattened tensor should be {num_channels}, \"\n",
    "            f\"but got {flattened.shape[1]}.\"\n",
    "        )\n",
    "    \n",
    "    # Reshape to (n_samples, 55, 24, 24, 24, 8)\n",
    "    reshaped = flattened.view(n_samples, num_items, dim_size, dim_size, dim_size, num_channels)\n",
    "    \n",
    "    # Permute to (n_samples, 55, 8, 24, 24, 24)\n",
    "    original = reshaped.permute(0, 1, 5, 2, 3, 4).contiguous()\n",
    "    \n",
    "    return original\n",
    "\n",
    "\n",
    "def extract_middle_vectors(flattened_features: torch.Tensor,\n",
    "                           n_samples: int = all_encoded_cubes.shape[0],\n",
    "                           n_j: int = 55,\n",
    "                           n_x: int = 24,\n",
    "                           n_y: int = 24,\n",
    "                           n_z: int = 24,\n",
    "                           middle_x: int = 12,\n",
    "                           middle_y: int = 12,\n",
    "                           middle_z: int = 12) -> (torch.Tensor, torch.Tensor):\n",
    "    \"\"\"\n",
    "    Extract the middle vectors at position (i, j, 12, 12, 12, :) from the flattened tensor\n",
    "    and return their corresponding indices.\n",
    "\n",
    "    Parameters:\n",
    "        flattened_features (torch.Tensor): Flattened features of shape (n_samples * 55 * 24 * 24 * 24, 8).\n",
    "        n_samples (int): Number of samples (e.g., 50).\n",
    "        n_j (int): Size of the second dimension (e.g., 55).\n",
    "        n_x (int): Size of the third dimension (e.g., 24).\n",
    "        n_y (int): Size of the fourth dimension (e.g., 24).\n",
    "        n_z (int): Size of the fifth dimension (e.g., 24).\n",
    "        middle_x (int): Middle index along the x-axis (e.g., 12).\n",
    "        middle_y (int): Middle index along the y-axis (e.g., 12).\n",
    "        middle_z (int): Middle index along the z-axis (e.g., 12).\n",
    "\n",
    "    Returns:\n",
    "        middle_vectors (torch.Tensor): Middle vectors of shape (n_samples * n_j, 8).\n",
    "        indices (torch.Tensor): Indices of the middle vectors in the flattened tensor, shape (n_samples * n_j,).\n",
    "    \"\"\"\n",
    "    def compute_middle_indices(n_samples: int, n_j: int, n_x: int, n_y: int, n_z: int,\n",
    "                              middle_x: int, middle_y: int, middle_z: int) -> torch.Tensor:\n",
    "        # Create tensors for i and j indices\n",
    "        i_indices = torch.arange(n_samples).unsqueeze(1)  # Shape: (n_samples, 1)\n",
    "        j_indices = torch.arange(n_j).unsqueeze(0)        # Shape: (1, n_j)\n",
    "\n",
    "        # Calculate strides based on the permutation and flattening\n",
    "        stride_j = n_x * n_y * n_z  # Stride for j dimension\n",
    "        stride_x = n_y * n_z        # Stride for x dimension\n",
    "        stride_y = n_z              # Stride for y dimension\n",
    "        stride_z = 1                # Stride for z dimension\n",
    "\n",
    "        # Compute the flattened indices using the formula:\n",
    "        # index = i * (55 * 24 * 24 * 24) + j * (24 * 24 * 24) + 12 * (24 * 24) + 12 * 24 + 12\n",
    "        indices = (i_indices * (n_j * stride_j) +\n",
    "                   j_indices * stride_j +\n",
    "                   middle_x * stride_x +\n",
    "                   middle_y * stride_y +\n",
    "                   middle_z * stride_z).view(-1)  # Shape: (n_samples * n_j,)\n",
    "\n",
    "        return indices\n",
    "\n",
    "    # Compute the indices for the middle vectors\n",
    "    indices = compute_middle_indices(n_samples, n_j, n_x, n_y, n_z, middle_x, middle_y, middle_z)\n",
    "\n",
    "    # Ensure that the indices are within the bounds of the flattened tensor\n",
    "    if torch.any(indices >= flattened_features.shape[0]):\n",
    "        raise IndexError(\"Computed indices are out of bounds.\")\n",
    "\n",
    "    # Extract the middle vectors using the computed indices\n",
    "    middle_vectors = flattened_features[indices]  # Shape: (n_samples * n_j, 8)\n",
    "\n",
    "    return middle_vectors, indices"
   ]
  },
  {
   "cell_type": "code",
   "execution_count": 113,
   "metadata": {},
   "outputs": [
    {
     "data": {
      "text/plain": [
       "torch.Size([46, 55, 8, 24, 24, 24])"
      ]
     },
     "execution_count": 113,
     "metadata": {},
     "output_type": "execute_result"
    }
   ],
   "source": [
    "all_encoded_cubes.shape"
   ]
  },
  {
   "cell_type": "code",
   "execution_count": 114,
   "metadata": {},
   "outputs": [
    {
     "name": "stdout",
     "output_type": "stream",
     "text": [
      "torch.Size([34974720, 8])\n"
     ]
    }
   ],
   "source": [
    "# Flatten the features\n",
    "flattened_features = flatten_features(all_encoded_cubes)\n",
    "print(flattened_features.shape)"
   ]
  },
  {
   "cell_type": "code",
   "execution_count": 115,
   "metadata": {},
   "outputs": [
    {
     "data": {
      "text/plain": [
       "38016000"
      ]
     },
     "execution_count": 115,
     "metadata": {},
     "output_type": "execute_result"
    }
   ],
   "source": [
    "50*55*24*24*24"
   ]
  },
  {
   "cell_type": "code",
   "execution_count": 116,
   "metadata": {},
   "outputs": [],
   "source": [
    "import pandas as pd\n",
    "\n",
    "full_data_df = pd.DataFrame(flattened_features)"
   ]
  },
  {
   "cell_type": "code",
   "execution_count": 117,
   "metadata": {},
   "outputs": [
    {
     "data": {
      "text/html": [
       "<div>\n",
       "<style scoped>\n",
       "    .dataframe tbody tr th:only-of-type {\n",
       "        vertical-align: middle;\n",
       "    }\n",
       "\n",
       "    .dataframe tbody tr th {\n",
       "        vertical-align: top;\n",
       "    }\n",
       "\n",
       "    .dataframe thead th {\n",
       "        text-align: right;\n",
       "    }\n",
       "</style>\n",
       "<table border=\"1\" class=\"dataframe\">\n",
       "  <thead>\n",
       "    <tr style=\"text-align: right;\">\n",
       "      <th></th>\n",
       "      <th>0</th>\n",
       "      <th>1</th>\n",
       "      <th>2</th>\n",
       "      <th>3</th>\n",
       "      <th>4</th>\n",
       "      <th>5</th>\n",
       "      <th>6</th>\n",
       "      <th>7</th>\n",
       "    </tr>\n",
       "  </thead>\n",
       "  <tbody>\n",
       "    <tr>\n",
       "      <th>count</th>\n",
       "      <td>3.497472e+07</td>\n",
       "      <td>3.497472e+07</td>\n",
       "      <td>3.497472e+07</td>\n",
       "      <td>3.497472e+07</td>\n",
       "      <td>3.497472e+07</td>\n",
       "      <td>3.497472e+07</td>\n",
       "      <td>3.497472e+07</td>\n",
       "      <td>3.497472e+07</td>\n",
       "    </tr>\n",
       "    <tr>\n",
       "      <th>mean</th>\n",
       "      <td>3.100173e-02</td>\n",
       "      <td>2.979364e-02</td>\n",
       "      <td>2.945063e-02</td>\n",
       "      <td>2.847370e-02</td>\n",
       "      <td>2.776948e-02</td>\n",
       "      <td>2.668520e-02</td>\n",
       "      <td>2.607240e-02</td>\n",
       "      <td>2.037364e-02</td>\n",
       "    </tr>\n",
       "    <tr>\n",
       "      <th>std</th>\n",
       "      <td>2.782908e+00</td>\n",
       "      <td>2.792408e+00</td>\n",
       "      <td>2.799766e+00</td>\n",
       "      <td>2.818037e+00</td>\n",
       "      <td>2.848969e+00</td>\n",
       "      <td>2.908543e+00</td>\n",
       "      <td>2.987523e+00</td>\n",
       "      <td>3.087688e+00</td>\n",
       "    </tr>\n",
       "    <tr>\n",
       "      <th>min</th>\n",
       "      <td>-7.929034e+01</td>\n",
       "      <td>-7.302092e+01</td>\n",
       "      <td>-7.272153e+01</td>\n",
       "      <td>-7.212237e+01</td>\n",
       "      <td>-6.388365e+01</td>\n",
       "      <td>-6.717166e+01</td>\n",
       "      <td>-7.334638e+01</td>\n",
       "      <td>-7.596774e+01</td>\n",
       "    </tr>\n",
       "    <tr>\n",
       "      <th>25%</th>\n",
       "      <td>-1.026850e+00</td>\n",
       "      <td>-1.037231e+00</td>\n",
       "      <td>-1.045993e+00</td>\n",
       "      <td>-1.055226e+00</td>\n",
       "      <td>-1.064342e+00</td>\n",
       "      <td>-1.076680e+00</td>\n",
       "      <td>-1.088917e+00</td>\n",
       "      <td>-1.104618e+00</td>\n",
       "    </tr>\n",
       "    <tr>\n",
       "      <th>50%</th>\n",
       "      <td>-4.088906e-02</td>\n",
       "      <td>-4.558366e-02</td>\n",
       "      <td>-4.871660e-02</td>\n",
       "      <td>-5.282354e-02</td>\n",
       "      <td>-5.554367e-02</td>\n",
       "      <td>-5.802238e-02</td>\n",
       "      <td>-5.941305e-02</td>\n",
       "      <td>-6.340221e-02</td>\n",
       "    </tr>\n",
       "    <tr>\n",
       "      <th>75%</th>\n",
       "      <td>1.115199e+00</td>\n",
       "      <td>1.125252e+00</td>\n",
       "      <td>1.135056e+00</td>\n",
       "      <td>1.146162e+00</td>\n",
       "      <td>1.159776e+00</td>\n",
       "      <td>1.177052e+00</td>\n",
       "      <td>1.197877e+00</td>\n",
       "      <td>1.216626e+00</td>\n",
       "    </tr>\n",
       "    <tr>\n",
       "      <th>max</th>\n",
       "      <td>6.523470e+01</td>\n",
       "      <td>7.928637e+01</td>\n",
       "      <td>7.598130e+01</td>\n",
       "      <td>6.664896e+01</td>\n",
       "      <td>5.737769e+01</td>\n",
       "      <td>7.468175e+01</td>\n",
       "      <td>6.605791e+01</td>\n",
       "      <td>7.061979e+01</td>\n",
       "    </tr>\n",
       "  </tbody>\n",
       "</table>\n",
       "</div>"
      ],
      "text/plain": [
       "                  0             1             2             3             4  \\\n",
       "count  3.497472e+07  3.497472e+07  3.497472e+07  3.497472e+07  3.497472e+07   \n",
       "mean   3.100173e-02  2.979364e-02  2.945063e-02  2.847370e-02  2.776948e-02   \n",
       "std    2.782908e+00  2.792408e+00  2.799766e+00  2.818037e+00  2.848969e+00   \n",
       "min   -7.929034e+01 -7.302092e+01 -7.272153e+01 -7.212237e+01 -6.388365e+01   \n",
       "25%   -1.026850e+00 -1.037231e+00 -1.045993e+00 -1.055226e+00 -1.064342e+00   \n",
       "50%   -4.088906e-02 -4.558366e-02 -4.871660e-02 -5.282354e-02 -5.554367e-02   \n",
       "75%    1.115199e+00  1.125252e+00  1.135056e+00  1.146162e+00  1.159776e+00   \n",
       "max    6.523470e+01  7.928637e+01  7.598130e+01  6.664896e+01  5.737769e+01   \n",
       "\n",
       "                  5             6             7  \n",
       "count  3.497472e+07  3.497472e+07  3.497472e+07  \n",
       "mean   2.668520e-02  2.607240e-02  2.037364e-02  \n",
       "std    2.908543e+00  2.987523e+00  3.087688e+00  \n",
       "min   -6.717166e+01 -7.334638e+01 -7.596774e+01  \n",
       "25%   -1.076680e+00 -1.088917e+00 -1.104618e+00  \n",
       "50%   -5.802238e-02 -5.941305e-02 -6.340221e-02  \n",
       "75%    1.177052e+00  1.197877e+00  1.216626e+00  \n",
       "max    7.468175e+01  6.605791e+01  7.061979e+01  "
      ]
     },
     "execution_count": 117,
     "metadata": {},
     "output_type": "execute_result"
    }
   ],
   "source": [
    "full_data_df.describe()"
   ]
  },
  {
   "cell_type": "markdown",
   "metadata": {},
   "source": [
    "Data is pretty much mean 0, but variance is slightly too high. Let's normalize"
   ]
  },
  {
   "cell_type": "code",
   "execution_count": 118,
   "metadata": {},
   "outputs": [
    {
     "data": {
      "text/html": [
       "<div>\n",
       "<style scoped>\n",
       "    .dataframe tbody tr th:only-of-type {\n",
       "        vertical-align: middle;\n",
       "    }\n",
       "\n",
       "    .dataframe tbody tr th {\n",
       "        vertical-align: top;\n",
       "    }\n",
       "\n",
       "    .dataframe thead th {\n",
       "        text-align: right;\n",
       "    }\n",
       "</style>\n",
       "<table border=\"1\" class=\"dataframe\">\n",
       "  <thead>\n",
       "    <tr style=\"text-align: right;\">\n",
       "      <th></th>\n",
       "      <th>0</th>\n",
       "      <th>1</th>\n",
       "      <th>2</th>\n",
       "      <th>3</th>\n",
       "      <th>4</th>\n",
       "      <th>5</th>\n",
       "      <th>6</th>\n",
       "      <th>7</th>\n",
       "    </tr>\n",
       "  </thead>\n",
       "  <tbody>\n",
       "    <tr>\n",
       "      <th>count</th>\n",
       "      <td>3.497472e+07</td>\n",
       "      <td>3.497472e+07</td>\n",
       "      <td>3.497472e+07</td>\n",
       "      <td>3.497472e+07</td>\n",
       "      <td>3.497472e+07</td>\n",
       "      <td>3.497472e+07</td>\n",
       "      <td>3.497472e+07</td>\n",
       "      <td>3.497472e+07</td>\n",
       "    </tr>\n",
       "    <tr>\n",
       "      <th>mean</th>\n",
       "      <td>6.849604e-10</td>\n",
       "      <td>-5.327422e-09</td>\n",
       "      <td>-1.708038e-09</td>\n",
       "      <td>-3.325985e-09</td>\n",
       "      <td>-3.788224e-09</td>\n",
       "      <td>-3.780371e-09</td>\n",
       "      <td>-6.764966e-09</td>\n",
       "      <td>1.308405e-09</td>\n",
       "    </tr>\n",
       "    <tr>\n",
       "      <th>std</th>\n",
       "      <td>1.000000e+00</td>\n",
       "      <td>1.000000e+00</td>\n",
       "      <td>1.000000e+00</td>\n",
       "      <td>1.000000e+00</td>\n",
       "      <td>1.000000e+00</td>\n",
       "      <td>1.000000e+00</td>\n",
       "      <td>1.000000e+00</td>\n",
       "      <td>1.000000e+00</td>\n",
       "    </tr>\n",
       "    <tr>\n",
       "      <th>min</th>\n",
       "      <td>-2.850303e+01</td>\n",
       "      <td>-2.616047e+01</td>\n",
       "      <td>-2.598467e+01</td>\n",
       "      <td>-2.560323e+01</td>\n",
       "      <td>-2.243318e+01</td>\n",
       "      <td>-2.310379e+01</td>\n",
       "      <td>-2.455963e+01</td>\n",
       "      <td>-2.461004e+01</td>\n",
       "    </tr>\n",
       "    <tr>\n",
       "      <th>25%</th>\n",
       "      <td>-3.801246e-01</td>\n",
       "      <td>-3.821162e-01</td>\n",
       "      <td>-3.841193e-01</td>\n",
       "      <td>-3.845584e-01</td>\n",
       "      <td>-3.833356e-01</td>\n",
       "      <td>-3.793534e-01</td>\n",
       "      <td>-3.732153e-01</td>\n",
       "      <td>-3.643476e-01</td>\n",
       "    </tr>\n",
       "    <tr>\n",
       "      <th>50%</th>\n",
       "      <td>-2.583297e-02</td>\n",
       "      <td>-2.699365e-02</td>\n",
       "      <td>-2.791919e-02</td>\n",
       "      <td>-2.884888e-02</td>\n",
       "      <td>-2.924326e-02</td>\n",
       "      <td>-2.912372e-02</td>\n",
       "      <td>-2.861416e-02</td>\n",
       "      <td>-2.713224e-02</td>\n",
       "    </tr>\n",
       "    <tr>\n",
       "      <th>75%</th>\n",
       "      <td>3.895916e-01</td>\n",
       "      <td>3.922989e-01</td>\n",
       "      <td>3.948919e-01</td>\n",
       "      <td>3.966193e-01</td>\n",
       "      <td>3.973392e-01</td>\n",
       "      <td>3.955130e-01</td>\n",
       "      <td>3.922329e-01</td>\n",
       "      <td>3.874264e-01</td>\n",
       "    </tr>\n",
       "    <tr>\n",
       "      <th>max</th>\n",
       "      <td>2.343006e+01</td>\n",
       "      <td>2.838288e+01</td>\n",
       "      <td>2.712793e+01</td>\n",
       "      <td>2.364074e+01</td>\n",
       "      <td>2.013006e+01</td>\n",
       "      <td>2.566751e+01</td>\n",
       "      <td>2.210254e+01</td>\n",
       "      <td>2.286482e+01</td>\n",
       "    </tr>\n",
       "  </tbody>\n",
       "</table>\n",
       "</div>"
      ],
      "text/plain": [
       "                  0             1             2             3             4  \\\n",
       "count  3.497472e+07  3.497472e+07  3.497472e+07  3.497472e+07  3.497472e+07   \n",
       "mean   6.849604e-10 -5.327422e-09 -1.708038e-09 -3.325985e-09 -3.788224e-09   \n",
       "std    1.000000e+00  1.000000e+00  1.000000e+00  1.000000e+00  1.000000e+00   \n",
       "min   -2.850303e+01 -2.616047e+01 -2.598467e+01 -2.560323e+01 -2.243318e+01   \n",
       "25%   -3.801246e-01 -3.821162e-01 -3.841193e-01 -3.845584e-01 -3.833356e-01   \n",
       "50%   -2.583297e-02 -2.699365e-02 -2.791919e-02 -2.884888e-02 -2.924326e-02   \n",
       "75%    3.895916e-01  3.922989e-01  3.948919e-01  3.966193e-01  3.973392e-01   \n",
       "max    2.343006e+01  2.838288e+01  2.712793e+01  2.364074e+01  2.013006e+01   \n",
       "\n",
       "                  5             6             7  \n",
       "count  3.497472e+07  3.497472e+07  3.497472e+07  \n",
       "mean  -3.780371e-09 -6.764966e-09  1.308405e-09  \n",
       "std    1.000000e+00  1.000000e+00  1.000000e+00  \n",
       "min   -2.310379e+01 -2.455963e+01 -2.461004e+01  \n",
       "25%   -3.793534e-01 -3.732153e-01 -3.643476e-01  \n",
       "50%   -2.912372e-02 -2.861416e-02 -2.713224e-02  \n",
       "75%    3.955130e-01  3.922329e-01  3.874264e-01  \n",
       "max    2.566751e+01  2.210254e+01  2.286482e+01  "
      ]
     },
     "execution_count": 118,
     "metadata": {},
     "output_type": "execute_result"
    }
   ],
   "source": [
    "from sklearn.preprocessing import StandardScaler\n",
    "\n",
    "scaled_data_df = pd.DataFrame(StandardScaler().fit_transform(full_data_df))\n",
    "\n",
    "scaled_data_df.describe()"
   ]
  },
  {
   "cell_type": "markdown",
   "metadata": {
    "jp-MarkdownHeadingCollapsed": true
   },
   "source": [
    "# Apply PCA w/o Reducing # Components"
   ]
  },
  {
   "cell_type": "code",
   "execution_count": 119,
   "metadata": {},
   "outputs": [],
   "source": [
    "from sklearn.decomposition import PCA"
   ]
  },
  {
   "cell_type": "code",
   "execution_count": 121,
   "metadata": {},
   "outputs": [],
   "source": [
    "# Damn, before I forgot to Scale data before PCA\n",
    "\n",
    "full_data_df = scaled_data_df"
   ]
  },
  {
   "cell_type": "code",
   "execution_count": 122,
   "metadata": {},
   "outputs": [
    {
     "data": {
      "text/plain": [
       "array([4.6531096 , 1.2169367 , 0.65168065, 0.4351029 , 0.3304614 ,\n",
       "       0.27088168, 0.23340668, 0.2084112 ], dtype=float32)"
      ]
     },
     "execution_count": 122,
     "metadata": {},
     "output_type": "execute_result"
    }
   ],
   "source": [
    "full_pca = PCA().fit(full_data_df)\n",
    "\n",
    "full_pca.explained_variance_"
   ]
  },
  {
   "cell_type": "code",
   "execution_count": 123,
   "metadata": {},
   "outputs": [],
   "source": [
    "full_pca_data = full_pca.transform(full_data_df)"
   ]
  },
  {
   "cell_type": "code",
   "execution_count": 124,
   "metadata": {},
   "outputs": [
    {
     "data": {
      "text/html": [
       "<div>\n",
       "<style scoped>\n",
       "    .dataframe tbody tr th:only-of-type {\n",
       "        vertical-align: middle;\n",
       "    }\n",
       "\n",
       "    .dataframe tbody tr th {\n",
       "        vertical-align: top;\n",
       "    }\n",
       "\n",
       "    .dataframe thead th {\n",
       "        text-align: right;\n",
       "    }\n",
       "</style>\n",
       "<table border=\"1\" class=\"dataframe\">\n",
       "  <thead>\n",
       "    <tr style=\"text-align: right;\">\n",
       "      <th></th>\n",
       "      <th>PC1</th>\n",
       "      <th>PC2</th>\n",
       "      <th>PC3</th>\n",
       "      <th>PC4</th>\n",
       "      <th>PC5</th>\n",
       "      <th>PC6</th>\n",
       "      <th>PC7</th>\n",
       "      <th>PC8</th>\n",
       "    </tr>\n",
       "  </thead>\n",
       "  <tbody>\n",
       "    <tr>\n",
       "      <th>0</th>\n",
       "      <td>-3.118732</td>\n",
       "      <td>-0.198240</td>\n",
       "      <td>0.566366</td>\n",
       "      <td>-0.800856</td>\n",
       "      <td>0.958689</td>\n",
       "      <td>1.466992</td>\n",
       "      <td>1.239095</td>\n",
       "      <td>0.740503</td>\n",
       "    </tr>\n",
       "    <tr>\n",
       "      <th>1</th>\n",
       "      <td>0.216094</td>\n",
       "      <td>-0.007377</td>\n",
       "      <td>2.738642</td>\n",
       "      <td>3.598090</td>\n",
       "      <td>-0.077773</td>\n",
       "      <td>-0.810724</td>\n",
       "      <td>0.008474</td>\n",
       "      <td>0.611982</td>\n",
       "    </tr>\n",
       "    <tr>\n",
       "      <th>2</th>\n",
       "      <td>-2.580904</td>\n",
       "      <td>-0.979509</td>\n",
       "      <td>-0.875790</td>\n",
       "      <td>-0.891503</td>\n",
       "      <td>-0.205812</td>\n",
       "      <td>-0.167122</td>\n",
       "      <td>0.330516</td>\n",
       "      <td>-0.110862</td>\n",
       "    </tr>\n",
       "    <tr>\n",
       "      <th>3</th>\n",
       "      <td>-3.075625</td>\n",
       "      <td>-0.419470</td>\n",
       "      <td>0.733986</td>\n",
       "      <td>-0.557930</td>\n",
       "      <td>0.832287</td>\n",
       "      <td>0.847383</td>\n",
       "      <td>2.077025</td>\n",
       "      <td>-0.217946</td>\n",
       "    </tr>\n",
       "    <tr>\n",
       "      <th>4</th>\n",
       "      <td>-1.067657</td>\n",
       "      <td>-1.286697</td>\n",
       "      <td>-1.141191</td>\n",
       "      <td>-2.001094</td>\n",
       "      <td>-0.707538</td>\n",
       "      <td>-0.652009</td>\n",
       "      <td>0.125299</td>\n",
       "      <td>0.124429</td>\n",
       "    </tr>\n",
       "    <tr>\n",
       "      <th>...</th>\n",
       "      <td>...</td>\n",
       "      <td>...</td>\n",
       "      <td>...</td>\n",
       "      <td>...</td>\n",
       "      <td>...</td>\n",
       "      <td>...</td>\n",
       "      <td>...</td>\n",
       "      <td>...</td>\n",
       "    </tr>\n",
       "    <tr>\n",
       "      <th>34974715</th>\n",
       "      <td>-2.838595</td>\n",
       "      <td>0.136974</td>\n",
       "      <td>0.160333</td>\n",
       "      <td>0.051658</td>\n",
       "      <td>0.104952</td>\n",
       "      <td>-0.032737</td>\n",
       "      <td>-0.040061</td>\n",
       "      <td>-0.002775</td>\n",
       "    </tr>\n",
       "    <tr>\n",
       "      <th>34974716</th>\n",
       "      <td>-2.844042</td>\n",
       "      <td>0.097962</td>\n",
       "      <td>0.164062</td>\n",
       "      <td>0.009881</td>\n",
       "      <td>0.131582</td>\n",
       "      <td>0.015301</td>\n",
       "      <td>-0.029966</td>\n",
       "      <td>0.022795</td>\n",
       "    </tr>\n",
       "    <tr>\n",
       "      <th>34974717</th>\n",
       "      <td>-3.051955</td>\n",
       "      <td>0.131487</td>\n",
       "      <td>0.172330</td>\n",
       "      <td>0.050369</td>\n",
       "      <td>0.064663</td>\n",
       "      <td>-0.022710</td>\n",
       "      <td>-0.026330</td>\n",
       "      <td>-0.015730</td>\n",
       "    </tr>\n",
       "    <tr>\n",
       "      <th>34974718</th>\n",
       "      <td>-3.053105</td>\n",
       "      <td>0.118414</td>\n",
       "      <td>0.171534</td>\n",
       "      <td>0.022998</td>\n",
       "      <td>0.097414</td>\n",
       "      <td>-0.003996</td>\n",
       "      <td>-0.022752</td>\n",
       "      <td>-0.002358</td>\n",
       "    </tr>\n",
       "    <tr>\n",
       "      <th>34974719</th>\n",
       "      <td>-3.050097</td>\n",
       "      <td>0.105271</td>\n",
       "      <td>0.168921</td>\n",
       "      <td>-0.002826</td>\n",
       "      <td>0.079981</td>\n",
       "      <td>0.035910</td>\n",
       "      <td>-0.018996</td>\n",
       "      <td>0.000623</td>\n",
       "    </tr>\n",
       "  </tbody>\n",
       "</table>\n",
       "<p>34974720 rows × 8 columns</p>\n",
       "</div>"
      ],
      "text/plain": [
       "               PC1       PC2       PC3       PC4       PC5       PC6  \\\n",
       "0        -3.118732 -0.198240  0.566366 -0.800856  0.958689  1.466992   \n",
       "1         0.216094 -0.007377  2.738642  3.598090 -0.077773 -0.810724   \n",
       "2        -2.580904 -0.979509 -0.875790 -0.891503 -0.205812 -0.167122   \n",
       "3        -3.075625 -0.419470  0.733986 -0.557930  0.832287  0.847383   \n",
       "4        -1.067657 -1.286697 -1.141191 -2.001094 -0.707538 -0.652009   \n",
       "...            ...       ...       ...       ...       ...       ...   \n",
       "34974715 -2.838595  0.136974  0.160333  0.051658  0.104952 -0.032737   \n",
       "34974716 -2.844042  0.097962  0.164062  0.009881  0.131582  0.015301   \n",
       "34974717 -3.051955  0.131487  0.172330  0.050369  0.064663 -0.022710   \n",
       "34974718 -3.053105  0.118414  0.171534  0.022998  0.097414 -0.003996   \n",
       "34974719 -3.050097  0.105271  0.168921 -0.002826  0.079981  0.035910   \n",
       "\n",
       "               PC7       PC8  \n",
       "0         1.239095  0.740503  \n",
       "1         0.008474  0.611982  \n",
       "2         0.330516 -0.110862  \n",
       "3         2.077025 -0.217946  \n",
       "4         0.125299  0.124429  \n",
       "...            ...       ...  \n",
       "34974715 -0.040061 -0.002775  \n",
       "34974716 -0.029966  0.022795  \n",
       "34974717 -0.026330 -0.015730  \n",
       "34974718 -0.022752 -0.002358  \n",
       "34974719 -0.018996  0.000623  \n",
       "\n",
       "[34974720 rows x 8 columns]"
      ]
     },
     "execution_count": 124,
     "metadata": {},
     "output_type": "execute_result"
    }
   ],
   "source": [
    "df_pca = pd.DataFrame(full_pca_data, columns=[f'PC{i+1}' for i in range(8)])\n",
    "df_pca"
   ]
  },
  {
   "cell_type": "code",
   "execution_count": 17,
   "metadata": {},
   "outputs": [],
   "source": [
    "# df_pca = df_pca.reset_index(drop=True)\n",
    "\n",
    "# df_pca.reset_index(drop=True)['Labels'] = labels"
   ]
  },
  {
   "cell_type": "markdown",
   "metadata": {},
   "source": [
    "### Explained Variance Plot"
   ]
  },
  {
   "cell_type": "code",
   "execution_count": 125,
   "metadata": {},
   "outputs": [
    {
     "data": {
      "text/plain": [
       "Text(0.5, 1.0, 'Explained Variance Ratio by Components')"
      ]
     },
     "execution_count": 125,
     "metadata": {},
     "output_type": "execute_result"
    },
    {
     "data": {
      "image/png": "[encoded data removed]",
      "text/plain": [
       "<Figure size 1000x600 with 1 Axes>"
      ]
     },
     "metadata": {},
     "output_type": "display_data"
    }
   ],
   "source": [
    "# plot that as scree plot\n",
    "import matplotlib.pyplot as plt\n",
    "\n",
    "plt.figure(figsize=(10, 6))\n",
    "plt.plot(full_pca.explained_variance_ratio_.cumsum(), marker='o', linestyle='--')\n",
    "\n",
    "plt.ylim(0, 1)\n",
    "\n",
    "plt.title('Explained Variance Ratio by Components')"
   ]
  },
  {
   "cell_type": "code",
   "execution_count": 126,
   "metadata": {},
   "outputs": [
    {
     "data": {
      "text/plain": [
       "(34974720, 8)"
      ]
     },
     "execution_count": 126,
     "metadata": {},
     "output_type": "execute_result"
    }
   ],
   "source": [
    "full_pca_data.shape"
   ]
  },
  {
   "cell_type": "code",
   "execution_count": 127,
   "metadata": {},
   "outputs": [
    {
     "data": {
      "text/plain": [
       "torch.Size([2530, 8])"
      ]
     },
     "execution_count": 127,
     "metadata": {},
     "output_type": "execute_result"
    }
   ],
   "source": [
    "middle_vectors, _ = extract_middle_vectors(torch.Tensor(full_pca_data))\n",
    "\n",
    "middle_vectors.shape"
   ]
  },
  {
   "cell_type": "code",
   "execution_count": 128,
   "metadata": {},
   "outputs": [],
   "source": [
    "middle_labels, _ = extract_middle_vectors(torch.Tensor(labels).unsqueeze(1))"
   ]
  },
  {
   "cell_type": "code",
   "execution_count": 129,
   "metadata": {},
   "outputs": [
    {
     "data": {
      "text/plain": [
       "torch.Size([2530, 1])"
      ]
     },
     "execution_count": 129,
     "metadata": {},
     "output_type": "execute_result"
    }
   ],
   "source": [
    "middle_labels.shape"
   ]
  },
  {
   "cell_type": "code",
   "execution_count": 130,
   "metadata": {},
   "outputs": [
    {
     "data": {
      "text/html": [
       "<div>\n",
       "<style scoped>\n",
       "    .dataframe tbody tr th:only-of-type {\n",
       "        vertical-align: middle;\n",
       "    }\n",
       "\n",
       "    .dataframe tbody tr th {\n",
       "        vertical-align: top;\n",
       "    }\n",
       "\n",
       "    .dataframe thead th {\n",
       "        text-align: right;\n",
       "    }\n",
       "</style>\n",
       "<table border=\"1\" class=\"dataframe\">\n",
       "  <thead>\n",
       "    <tr style=\"text-align: right;\">\n",
       "      <th></th>\n",
       "      <th>PC1</th>\n",
       "      <th>PC2</th>\n",
       "      <th>PC3</th>\n",
       "      <th>PC4</th>\n",
       "      <th>PC5</th>\n",
       "      <th>PC6</th>\n",
       "      <th>PC7</th>\n",
       "      <th>PC8</th>\n",
       "      <th>Labels</th>\n",
       "    </tr>\n",
       "  </thead>\n",
       "  <tbody>\n",
       "    <tr>\n",
       "      <th>0</th>\n",
       "      <td>-1.529843</td>\n",
       "      <td>-1.696234</td>\n",
       "      <td>-2.048688</td>\n",
       "      <td>1.277334</td>\n",
       "      <td>0.273964</td>\n",
       "      <td>0.414358</td>\n",
       "      <td>0.869498</td>\n",
       "      <td>-0.081330</td>\n",
       "      <td>1</td>\n",
       "    </tr>\n",
       "    <tr>\n",
       "      <th>1</th>\n",
       "      <td>0.131732</td>\n",
       "      <td>1.197082</td>\n",
       "      <td>2.172427</td>\n",
       "      <td>0.988806</td>\n",
       "      <td>1.641177</td>\n",
       "      <td>0.649379</td>\n",
       "      <td>-0.728399</td>\n",
       "      <td>0.165273</td>\n",
       "      <td>1</td>\n",
       "    </tr>\n",
       "    <tr>\n",
       "      <th>2</th>\n",
       "      <td>0.176190</td>\n",
       "      <td>-1.240135</td>\n",
       "      <td>0.197143</td>\n",
       "      <td>0.207933</td>\n",
       "      <td>-0.150513</td>\n",
       "      <td>-0.058646</td>\n",
       "      <td>0.143038</td>\n",
       "      <td>0.104778</td>\n",
       "      <td>1</td>\n",
       "    </tr>\n",
       "    <tr>\n",
       "      <th>3</th>\n",
       "      <td>0.092825</td>\n",
       "      <td>-0.576823</td>\n",
       "      <td>0.152049</td>\n",
       "      <td>0.122519</td>\n",
       "      <td>-0.076166</td>\n",
       "      <td>-0.130358</td>\n",
       "      <td>0.116362</td>\n",
       "      <td>0.227654</td>\n",
       "      <td>1</td>\n",
       "    </tr>\n",
       "    <tr>\n",
       "      <th>4</th>\n",
       "      <td>-0.512643</td>\n",
       "      <td>0.144265</td>\n",
       "      <td>0.070197</td>\n",
       "      <td>0.100374</td>\n",
       "      <td>0.012460</td>\n",
       "      <td>-0.177095</td>\n",
       "      <td>0.097520</td>\n",
       "      <td>-0.047704</td>\n",
       "      <td>1</td>\n",
       "    </tr>\n",
       "    <tr>\n",
       "      <th>...</th>\n",
       "      <td>...</td>\n",
       "      <td>...</td>\n",
       "      <td>...</td>\n",
       "      <td>...</td>\n",
       "      <td>...</td>\n",
       "      <td>...</td>\n",
       "      <td>...</td>\n",
       "      <td>...</td>\n",
       "      <td>...</td>\n",
       "    </tr>\n",
       "    <tr>\n",
       "      <th>2525</th>\n",
       "      <td>1.059929</td>\n",
       "      <td>0.674449</td>\n",
       "      <td>0.467285</td>\n",
       "      <td>0.477088</td>\n",
       "      <td>0.260536</td>\n",
       "      <td>0.147777</td>\n",
       "      <td>-0.017829</td>\n",
       "      <td>0.160921</td>\n",
       "      <td>0</td>\n",
       "    </tr>\n",
       "    <tr>\n",
       "      <th>2526</th>\n",
       "      <td>-1.169278</td>\n",
       "      <td>-0.084350</td>\n",
       "      <td>0.104308</td>\n",
       "      <td>-0.089856</td>\n",
       "      <td>0.045375</td>\n",
       "      <td>-0.056190</td>\n",
       "      <td>-0.314211</td>\n",
       "      <td>0.154297</td>\n",
       "      <td>0</td>\n",
       "    </tr>\n",
       "    <tr>\n",
       "      <th>2527</th>\n",
       "      <td>-0.321432</td>\n",
       "      <td>-0.303708</td>\n",
       "      <td>0.400182</td>\n",
       "      <td>-0.520929</td>\n",
       "      <td>0.547801</td>\n",
       "      <td>-0.450885</td>\n",
       "      <td>-0.355267</td>\n",
       "      <td>-0.260718</td>\n",
       "      <td>0</td>\n",
       "    </tr>\n",
       "    <tr>\n",
       "      <th>2528</th>\n",
       "      <td>0.256453</td>\n",
       "      <td>0.209588</td>\n",
       "      <td>0.006046</td>\n",
       "      <td>-0.485655</td>\n",
       "      <td>0.315482</td>\n",
       "      <td>0.003217</td>\n",
       "      <td>-0.035922</td>\n",
       "      <td>0.164627</td>\n",
       "      <td>0</td>\n",
       "    </tr>\n",
       "    <tr>\n",
       "      <th>2529</th>\n",
       "      <td>-0.087544</td>\n",
       "      <td>0.541415</td>\n",
       "      <td>0.306018</td>\n",
       "      <td>0.313936</td>\n",
       "      <td>-0.008473</td>\n",
       "      <td>-0.232092</td>\n",
       "      <td>0.249200</td>\n",
       "      <td>0.520388</td>\n",
       "      <td>0</td>\n",
       "    </tr>\n",
       "  </tbody>\n",
       "</table>\n",
       "<p>2530 rows × 9 columns</p>\n",
       "</div>"
      ],
      "text/plain": [
       "           PC1       PC2       PC3       PC4       PC5       PC6       PC7  \\\n",
       "0    -1.529843 -1.696234 -2.048688  1.277334  0.273964  0.414358  0.869498   \n",
       "1     0.131732  1.197082  2.172427  0.988806  1.641177  0.649379 -0.728399   \n",
       "2     0.176190 -1.240135  0.197143  0.207933 -0.150513 -0.058646  0.143038   \n",
       "3     0.092825 -0.576823  0.152049  0.122519 -0.076166 -0.130358  0.116362   \n",
       "4    -0.512643  0.144265  0.070197  0.100374  0.012460 -0.177095  0.097520   \n",
       "...        ...       ...       ...       ...       ...       ...       ...   \n",
       "2525  1.059929  0.674449  0.467285  0.477088  0.260536  0.147777 -0.017829   \n",
       "2526 -1.169278 -0.084350  0.104308 -0.089856  0.045375 -0.056190 -0.314211   \n",
       "2527 -0.321432 -0.303708  0.400182 -0.520929  0.547801 -0.450885 -0.355267   \n",
       "2528  0.256453  0.209588  0.006046 -0.485655  0.315482  0.003217 -0.035922   \n",
       "2529 -0.087544  0.541415  0.306018  0.313936 -0.008473 -0.232092  0.249200   \n",
       "\n",
       "           PC8  Labels  \n",
       "0    -0.081330       1  \n",
       "1     0.165273       1  \n",
       "2     0.104778       1  \n",
       "3     0.227654       1  \n",
       "4    -0.047704       1  \n",
       "...        ...     ...  \n",
       "2525  0.160921       0  \n",
       "2526  0.154297       0  \n",
       "2527 -0.260718       0  \n",
       "2528  0.164627       0  \n",
       "2529  0.520388       0  \n",
       "\n",
       "[2530 rows x 9 columns]"
      ]
     },
     "execution_count": 130,
     "metadata": {},
     "output_type": "execute_result"
    }
   ],
   "source": [
    "middle_vectors_df = pd.DataFrame(middle_vectors.numpy(), columns=[f'PC{i+1}' for i in range(8)])\n",
    "middle_vectors_df['Labels'] = middle_labels.numpy()\n",
    "\n",
    "middle_vectors_df"
   ]
  },
  {
   "cell_type": "code",
   "execution_count": 131,
   "metadata": {},
   "outputs": [
    {
     "data": {
      "text/plain": [
       "0           1          2          3          4          5          6          7        \n",
       "-13.668899   1.119399   0.755907   0.062912   0.194406   0.106310  -0.063651  -0.073756    1\n",
       " 0.334746   -0.697141   0.363651   0.204010  -0.233066   0.175817  -0.138307  -0.016605    1\n",
       " 0.317699    0.681398   0.406000  -0.774382   0.598642   0.316770  -0.009601  -0.031061    1\n",
       " 0.325265   -0.060456  -0.015653  -0.246010   0.278592  -0.085678  -0.108499   0.334439    1\n",
       " 0.325614   -0.436344  -0.165257  -0.170704  -0.286674   0.141686   0.062886  -0.168714    1\n",
       "                                                                                          ..\n",
       "-0.563914   -0.887425  -0.654265  -0.869300  -0.949494  -1.110444   0.954421  -0.252061    1\n",
       "-0.563345   -0.045261   0.141347   0.043578   0.075858   0.020274   0.050214   0.016193    1\n",
       "-0.561717   -0.241125   0.016342   0.138736   0.081775  -0.107180   0.320451   0.039422    1\n",
       "-0.560164    0.322865  -0.211896   0.539239  -0.534342   0.215644   0.243250   0.065862    1\n",
       " 15.375187  -1.348982   2.790971   1.876261  -1.083724   0.184495   0.911972   1.918914    1\n",
       "Name: count, Length: 2530, dtype: int64"
      ]
     },
     "execution_count": 131,
     "metadata": {},
     "output_type": "execute_result"
    }
   ],
   "source": [
    "pd.DataFrame(middle_vectors.numpy()).value_counts()"
   ]
  },
  {
   "cell_type": "markdown",
   "metadata": {
    "jp-MarkdownHeadingCollapsed": true
   },
   "source": [
    "# Cluster"
   ]
  },
  {
   "cell_type": "markdown",
   "metadata": {},
   "source": [
    "### Function Definitions 📚"
   ]
  },
  {
   "cell_type": "code",
   "execution_count": 26,
   "metadata": {},
   "outputs": [],
   "source": [
    "#### Function Definitions 📚\n",
    "import pandas as pd\n",
    "import dask.dataframe as dd\n",
    "from sklearn.cluster import KMeans, MiniBatchKMeans, AgglomerativeClustering, DBSCAN, Birch\n",
    "import matplotlib.pyplot as plt\n",
    "from tqdm import tqdm  # Import tqdm for progress bars\n",
    "\n",
    "def calculate_purities(data, labels, algorithms, plot=True):\n",
    "    \"\"\"\n",
    "    Calculate purity ratios for multiple clustering algorithms.\n",
    "\n",
    "    Parameters:\n",
    "    - data: array-like, shape (n_samples, n_features)\n",
    "        The data to cluster.\n",
    "    - labels: array-like, shape (n_samples,)\n",
    "        The true labels.\n",
    "    - algorithms: list of tuples (name, estimator)\n",
    "        Each tuple contains a unique name for the algorithm and an instance of a clustering estimator.\n",
    "    - plot: bool, default=True\n",
    "        Whether to plot purity ratios.\n",
    "\n",
    "    Returns:\n",
    "    - pd.DataFrame: A DataFrame containing purity counts and ratios per cluster for each algorithm.\n",
    "    \"\"\"\n",
    "    results = []\n",
    "\n",
    "    # Wrap the algorithms list with tqdm for a progress bar\n",
    "    for name, estimator in tqdm(algorithms, desc=\"Clustering Algorithms\", unit=\"alg\"):\n",
    "        # Fit the clustering algorithm\n",
    "        estimator.fit(data)\n",
    "        \n",
    "        # Obtain cluster labels\n",
    "        if hasattr(estimator, 'labels_'):\n",
    "            cluster_labels = estimator.labels_\n",
    "        elif hasattr(estimator, 'predict'):\n",
    "            cluster_labels = estimator.predict(data)\n",
    "        else:\n",
    "            raise AttributeError(f\"The estimator {name} does not have 'labels_' or 'predict' method.\")\n",
    "\n",
    "        # Create DataFrame with data, cluster labels, and true labels\n",
    "        df = pd.DataFrame(data, columns=[f'Feature_{i+1}' for i in range(data.shape[1])])\n",
    "        df = df.reset_index(drop=True)\n",
    "        df['Cluster'] = cluster_labels\n",
    "        df['Labels'] = labels\n",
    "\n",
    "        # Convert to Dask DataFrame\n",
    "        if isinstance(df, pd.DataFrame):\n",
    "            df_dd = dd.from_pandas(df, npartitions=4)  # Fixed number of partitions\n",
    "        else:\n",
    "            df_dd = df  # Assume already a Dask DataFrame\n",
    "\n",
    "        # Convert columns to categorical for memory efficiency\n",
    "        df_dd['Cluster'] = df_dd['Cluster'].astype('category')\n",
    "        df_dd['Labels'] = df_dd['Labels'].astype('category')\n",
    "\n",
    "        # Persist the DataFrame (cache in memory)\n",
    "        df_dd = df_dd.persist()\n",
    "\n",
    "        # Group by 'Cluster' and 'Labels' and count\n",
    "        counts = df_dd.groupby(['Cluster', 'Labels']).size()\n",
    "        \n",
    "        # Trigger computation to get a pandas Series\n",
    "        counts_pd = counts.compute()\n",
    "        \n",
    "        # Unstack the multi-index Series into a DataFrame\n",
    "        cluster_label_counts = counts_pd.unstack(fill_value=0)\n",
    "        \n",
    "        # Calculate ratios\n",
    "        cluster_label_ratio = cluster_label_counts.div(cluster_label_counts.sum(axis=1), axis=0)\n",
    "        \n",
    "        # Rename columns for clarity\n",
    "        cluster_label_counts.columns = [f'Count_Label_{col}' for col in cluster_label_counts.columns]\n",
    "        cluster_label_ratio.columns = [f'Ratio_Label_{col}' for col in cluster_label_ratio.columns]\n",
    "        \n",
    "        # Combine counts and ratios\n",
    "        purity_df = pd.concat([cluster_label_counts, cluster_label_ratio], axis=1).reset_index()\n",
    "        purity_df['Algorithm'] = name\n",
    "\n",
    "        # Optionally, extract n_clusters if available\n",
    "        if hasattr(estimator, 'n_clusters'):\n",
    "            purity_df['n_clusters'] = estimator.n_clusters\n",
    "        else:\n",
    "            purity_df['n_clusters'] = None\n",
    "\n",
    "        # Append to results\n",
    "        results.append(purity_df)\n",
    "\n",
    "    # Concatenate all results into a single DataFrame\n",
    "    final_df = pd.concat(results, ignore_index=True)\n",
    "\n",
    "    # Optional Plotting\n",
    "    if plot:\n",
    "        for algo in final_df['Algorithm'].unique():\n",
    "            algo_df = final_df[final_df['Algorithm'] == algo].copy()\n",
    "            algo_df.set_index('Cluster', inplace=True)\n",
    "            \n",
    "            # Identify ratio columns\n",
    "            ratio_cols = [col for col in algo_df.columns if col.startswith('Ratio_Label_')]\n",
    "            \n",
    "            # Plotting the stacked bar chart\n",
    "            ax = algo_df[ratio_cols].plot(\n",
    "                kind='bar',\n",
    "                stacked=True,\n",
    "                figsize=(12, 8),\n",
    "                edgecolor='black',\n",
    "                title=f'Purity Ratios per Cluster for {algo}'\n",
    "            )\n",
    "            \n",
    "            # Adding labels and title\n",
    "            ax.set_xlabel('Cluster', fontsize=14)\n",
    "            ax.set_ylabel('Purity Ratio', fontsize=14)\n",
    "            ax.legend(title='Labels')\n",
    "            \n",
    "            # Displaying the plot\n",
    "            plt.xticks(rotation=0)\n",
    "            plt.tight_layout()\n",
    "            plt.show()\n",
    "            \n",
    "            # Reset index for potential further use\n",
    "            algo_df.reset_index(inplace=True)\n",
    "\n",
    "    return final_df"
   ]
  },
  {
   "cell_type": "markdown",
   "metadata": {},
   "source": [
    "## Running on All Flattened Data"
   ]
  },
  {
   "cell_type": "markdown",
   "metadata": {},
   "source": [
    "### KMeans for range(2, 100, 2) Clusters"
   ]
  },
  {
   "cell_type": "code",
   "execution_count": null,
   "metadata": {},
   "outputs": [],
   "source": [
    "import warnings\n",
    "\n",
    "# Suppress only the specific FutureWarning about 'observed'\n",
    "warnings.filterwarnings(\n",
    "    \"ignore\",\n",
    "    category=FutureWarning,\n",
    "    message=\"The default of observed=False is deprecated and will be changed to True in a future version of pandas.\"\n",
    ")\n",
    "\n",
    "\n",
    "from sklearn.cluster import MiniBatchKMeans#, Birch - too slow\n",
    "import hdbscan  # Optional, if you decide to use HDBSCAN\n",
    "\n",
    "# Initialize an empty list to hold all algorithm configurations\n",
    "algorithms = []\n",
    "\n",
    "cluster_range = range(2, 102, 2)\n",
    "\n",
    "# Loop through the cluster range to create MiniBatchKMeans and Birch instances\n",
    "for n_clusters in cluster_range:\n",
    "    # MiniBatchKMeans\n",
    "    mbk_name = f'MiniBatchKMeans_n{n_clusters}'\n",
    "    mbk = MiniBatchKMeans(\n",
    "        n_clusters=n_clusters,\n",
    "        random_state=42,\n",
    "        batch_size=10000,\n",
    "        init='k-means++',  # You can adjust initialization if needed\n",
    "        n_init=10  # Number of initializations to perform\n",
    "    )\n",
    "    algorithms.append((mbk_name, mbk))\n",
    "\n",
    "\n",
    "# Calculate purities\n",
    "purity_results = calculate_purities(\n",
    "    data=full_pca_data,\n",
    "    labels=labels,\n",
    "    algorithms=algorithms,\n",
    "    plot=True  # Set to False if you don't want plots\n",
    ")\n",
    "\n",
    "# Display the results\n",
    "purity_results"
   ]
  },
  {
   "cell_type": "code",
   "execution_count": null,
   "metadata": {},
   "outputs": [],
   "source": [
    "count_zeros = (labels == 0).sum().item()\n",
    "count_ones = (labels == 1).sum().item()\n",
    "\n",
    "print(count_zeros, count_ones)\n",
    "\n",
    "print(count_zeros / len(labels), count_ones / len(labels))"
   ]
  },
  {
   "cell_type": "markdown",
   "metadata": {},
   "source": [
    "### OPTICS"
   ]
  },
  {
   "cell_type": "code",
   "execution_count": null,
   "metadata": {},
   "outputs": [],
   "source": [
    "import warnings\n",
    "\n",
    "# Suppress only the specific FutureWarning about 'observed'\n",
    "warnings.filterwarnings(\n",
    "    \"ignore\",\n",
    "    category=FutureWarning,\n",
    "    message=\"The default of observed=False is deprecated and will be changed to True in a future version of pandas.\"\n",
    ")\n",
    "\n",
    "\n",
    "from sklearn.cluster import OPTICS\n",
    "\n",
    "# Initialize an empty list to hold all algorithm configurations\n",
    "algorithms = []\n",
    "\n",
    "cluster_range = range(0,1)\n",
    "\n",
    "# Loop through the cluster range to create MiniBatchKMeans and Birch instances\n",
    "for n_clusters in cluster_range:\n",
    "    mbk_name = f'OPTICS_{n_clusters}'\n",
    "    mbk = OPTICS(\n",
    "    )\n",
    "    algorithms.append((mbk_name, mbk))\n",
    "\n",
    "\n",
    "# Calculate purities\n",
    "purity_results = calculate_purities(\n",
    "    data=middle_vectors,\n",
    "    labels=middle_labels,\n",
    "    algorithms=algorithms,\n",
    "    plot=True  # Set to False if you don't want plots\n",
    ")\n",
    "\n",
    "# Display the results\n",
    "purity_results"
   ]
  },
  {
   "cell_type": "markdown",
   "metadata": {},
   "source": [
    "### HDBSCAN"
   ]
  },
  {
   "cell_type": "code",
   "execution_count": null,
   "metadata": {},
   "outputs": [],
   "source": [
    "import warnings\n",
    "\n",
    "# Suppress only the specific FutureWarning about 'observed'\n",
    "warnings.filterwarnings(\n",
    "    \"ignore\",\n",
    "    category=FutureWarning,\n",
    "    message=\"The default of observed=False is deprecated and will be changed to True in a future version of pandas.\"\n",
    ")\n",
    "\n",
    "\n",
    "from hdbscan import HDBSCAN\n",
    "\n",
    "# Initialize an empty list to hold all algorithm configurations\n",
    "algorithms = []\n",
    "\n",
    "cluster_range = range(0,1)\n",
    "\n",
    "# Loop through the cluster range to create MiniBatchKMeans and Birch instances\n",
    "for n_clusters in cluster_range:\n",
    "    mbk_name = f'hdbscan_{n_clusters}'\n",
    "    mbk = HDBSCAN(\n",
    "    )\n",
    "    algorithms.append((mbk_name, mbk))\n",
    "\n",
    "\n",
    "# Calculate purities\n",
    "purity_results = calculate_purities(\n",
    "    data=middle_vectors,\n",
    "    labels=middle_labels,\n",
    "    algorithms=algorithms,\n",
    "    plot=True  # Set to False if you don't want plots\n",
    ")\n",
    "\n",
    "# Display the results\n",
    "purity_results"
   ]
  },
  {
   "cell_type": "markdown",
   "metadata": {},
   "source": [
    "## Running only on single Flattened CTs"
   ]
  },
  {
   "cell_type": "code",
   "execution_count": 112,
   "metadata": {},
   "outputs": [],
   "source": [
    "first_encoded_ct = all_encoded_cubes[0]\n",
    "first_ct_flattened = flatten_features(first_encoded_ct.unsqueeze(0))\n",
    "\n",
    "first_ct_data = first_ct_flattened.numpy()"
   ]
  },
  {
   "cell_type": "code",
   "execution_count": null,
   "metadata": {},
   "outputs": [],
   "source": [
    "first_ct_data.shape"
   ]
  },
  {
   "cell_type": "code",
   "execution_count": 89,
   "metadata": {},
   "outputs": [],
   "source": [
    "first_ct_labels = create_labels(\n",
    "    n_samples=1,\n",
    "    n_pancreas=10,\n",
    "    n_background=45,\n",
    "    D=24,\n",
    "    H=24,\n",
    "    W=24\n",
    ").numpy()"
   ]
  },
  {
   "cell_type": "markdown",
   "metadata": {},
   "source": [
    "### KMeans for range(2, 100, 2) Clusters"
   ]
  },
  {
   "cell_type": "code",
   "execution_count": null,
   "metadata": {},
   "outputs": [],
   "source": [
    "import warnings\n",
    "\n",
    "# Suppress only the specific FutureWarning about 'observed'\n",
    "warnings.filterwarnings(\n",
    "    \"ignore\",\n",
    "    category=FutureWarning,\n",
    "    message=\"The default of observed=False is deprecated and will be changed to True in a future version of pandas.\"\n",
    ")\n",
    "\n",
    "\n",
    "from sklearn.cluster import MiniBatchKMeans\n",
    "\n",
    "# Initialize an empty list to hold all algorithm configurations\n",
    "algorithms = []\n",
    "\n",
    "cluster_range = range(2, 51, 1)\n",
    "\n",
    "# Loop through the cluster range to create MiniBatchKMeans and Birch instances\n",
    "for n_clusters in cluster_range:\n",
    "    mbk_name = f'MiniBatchKMeans_n{n_clusters}'\n",
    "    mbk = MiniBatchKMeans(\n",
    "        n_clusters=n_clusters,\n",
    "        random_state=42,\n",
    "        batch_size=10000,\n",
    "        init='k-means++',  # You can adjust initialization if needed\n",
    "        n_init='auto'  # Number of initializations to perform\n",
    "    )\n",
    "    algorithms.append((mbk_name, mbk))\n",
    "\n",
    "\n",
    "# Calculate purities\n",
    "purity_results = calculate_purities(\n",
    "    data=data,\n",
    "    labels=first_ct_labels,\n",
    "    algorithms=algorithms,\n",
    "    plot=True  # Set to False if you don't want plots\n",
    ")\n",
    "\n",
    "# Display the results\n",
    "purity_results"
   ]
  },
  {
   "cell_type": "markdown",
   "metadata": {},
   "source": [
    "### OPTICS"
   ]
  },
  {
   "cell_type": "code",
   "execution_count": null,
   "metadata": {},
   "outputs": [],
   "source": [
    "import warnings\n",
    "\n",
    "# Suppress only the specific FutureWarning about 'observed'\n",
    "warnings.filterwarnings(\n",
    "    \"ignore\",\n",
    "    category=FutureWarning,\n",
    "    message=\"The default of observed=False is deprecated and will be changed to True in a future version of pandas.\"\n",
    ")\n",
    "\n",
    "\n",
    "from sklearn.cluster import OPTICS\n",
    "\n",
    "# Initialize an empty list to hold all algorithm configurations\n",
    "algorithms = []\n",
    "\n",
    "cluster_range = range(0,1)\n",
    "\n",
    "# Loop through the cluster range to create MiniBatchKMeans and Birch instances\n",
    "for n_clusters in cluster_range:\n",
    "    mbk_name = f'OPTICS_{n_clusters}'\n",
    "    mbk = OPTICS(\n",
    "    )\n",
    "    algorithms.append((mbk_name, mbk))\n",
    "\n",
    "\n",
    "# Calculate purities\n",
    "purity_results = calculate_purities(\n",
    "    data=first_ct_data,\n",
    "    labels=first_ct_labels,\n",
    "    algorithms=algorithms,\n",
    "    plot=True  # Set to False if you don't want plots\n",
    ")\n",
    "\n",
    "# Display the results\n",
    "purity_results"
   ]
  },
  {
   "cell_type": "markdown",
   "metadata": {},
   "source": [
    "## Pairwise Similarities"
   ]
  },
  {
   "cell_type": "markdown",
   "metadata": {},
   "source": [
    "### Between Middle Vectors"
   ]
  },
  {
   "cell_type": "code",
   "execution_count": 72,
   "metadata": {},
   "outputs": [],
   "source": [
    "import numpy as np\n",
    "\n",
    "\n",
    "def compute_cosine_similarity(matrix):\n",
    "    \"\"\"\n",
    "    Compute the pairwise cosine similarity matrix for a 2D NumPy array.\n",
    "\n",
    "    Parameters:\n",
    "    - matrix (np.ndarray): A 2D NumPy array of shape (n_samples, n_features).\n",
    "\n",
    "    Returns:\n",
    "    - cosine_sim_matrix (np.ndarray): A 2D NumPy array of shape (n_samples, n_samples) containing cosine similarities.\n",
    "    \"\"\"\n",
    "    # Step 1: Normalize the matrix\n",
    "    # Add a small epsilon to avoid division by zero\n",
    "    norm = np.linalg.norm(matrix, axis=1, keepdims=True) + 1e-10\n",
    "    normalized_matrix = matrix / norm\n",
    "\n",
    "    # Step 2: Compute cosine similarity as dot product of normalized vectors\n",
    "    cosine_sim_matrix = np.dot(normalized_matrix, normalized_matrix.T)\n",
    "\n",
    "    return cosine_sim_matrix"
   ]
  },
  {
   "cell_type": "code",
   "execution_count": 73,
   "metadata": {},
   "outputs": [],
   "source": [
    "middle_vector_dot_products = torch.mm(middle_vectors, middle_vectors.T)"
   ]
  },
  {
   "cell_type": "code",
   "execution_count": 76,
   "metadata": {},
   "outputs": [],
   "source": [
    "middle_vector_cosines = compute_cosine_similarity(middle_vectors.numpy())"
   ]
  },
  {
   "cell_type": "code",
   "execution_count": null,
   "metadata": {},
   "outputs": [],
   "source": [
    "middle_vector_dot_products"
   ]
  },
  {
   "cell_type": "code",
   "execution_count": null,
   "metadata": {},
   "outputs": [],
   "source": [
    "pd.DataFrame(middle_vector_dot_products.numpy()).describe()"
   ]
  },
  {
   "cell_type": "code",
   "execution_count": null,
   "metadata": {},
   "outputs": [],
   "source": [
    "pd.DataFrame(middle_vector_cosines).describe()"
   ]
  },
  {
   "cell_type": "code",
   "execution_count": null,
   "metadata": {},
   "outputs": [],
   "source": [
    "plt.imshow(middle_vector_cosines, cmap='hot')#, interpolation='nearest')"
   ]
  },
  {
   "cell_type": "markdown",
   "metadata": {},
   "source": [
    "### Between Vectors within same CT"
   ]
  },
  {
   "cell_type": "code",
   "execution_count": null,
   "metadata": {},
   "outputs": [],
   "source": [
    "first_encoded_ct = all_encoded_cubes[0]\n",
    "\n",
    "first_encoded_ct.shape"
   ]
  },
  {
   "cell_type": "code",
   "execution_count": null,
   "metadata": {},
   "outputs": [],
   "source": [
    "first_ct_flattened = flatten_features(first_encoded_ct.unsqueeze(0))\n",
    "\n",
    "first_ct_flattened.shape"
   ]
  },
  {
   "cell_type": "markdown",
   "metadata": {},
   "source": [
    "## Check for Repeat/High Similarity Vectors\n",
    "\n",
    "Do this for within a CT scan\n",
    "\n",
    "- [] TODO"
   ]
  },
  {
   "cell_type": "code",
   "execution_count": 38,
   "metadata": {},
   "outputs": [],
   "source": [
    "import numpy as np\n",
    "\n",
    "res, counts = np.unique(full_pca_data, axis=0, return_counts=True)"
   ]
  },
  {
   "cell_type": "code",
   "execution_count": null,
   "metadata": {},
   "outputs": [],
   "source": [
    "counts"
   ]
  },
  {
   "cell_type": "code",
   "execution_count": null,
   "metadata": {},
   "outputs": [],
   "source": [
    "pd.DataFrame(counts).value_counts()"
   ]
  },
  {
   "cell_type": "code",
   "execution_count": null,
   "metadata": {},
   "outputs": [],
   "source": [
    "full_data_df.value_counts()"
   ]
  },
  {
   "cell_type": "markdown",
   "metadata": {},
   "source": [
    "# Plotting 🗾"
   ]
  },
  {
   "cell_type": "markdown",
   "metadata": {},
   "source": [
    "### Plotting Code (Long) 📚\n",
    "\n",
    "Functions for:\n",
    "\n",
    "- Plotting 2D, with labels and cluster centroids\n",
    "- Plotting 3D, with labels and cluster centroids\n",
    "- 3D Interactive plot of the same"
   ]
  },
  {
   "cell_type": "code",
   "execution_count": 132,
   "metadata": {},
   "outputs": [],
   "source": [
    "import numpy as np\n",
    "from matplotlib import pyplot as plt\n",
    "from matplotlib.patches import Ellipse\n",
    "from matplotlib import colormaps  # Import the correct module for colormaps\n",
    "\n",
    "# Function to plot 2D scatter plot with annotations and cluster centroids with variance ellipses\n",
    "def plot_2d(features_high_dim, labels, patient_ids, clusters, title):\n",
    "    \"\"\"\n",
    "    Plots a 2D PCA scatter plot with data points colored by ground truth labels and cluster centroids.\n",
    "\n",
    "    Parameters:\n",
    "    - features_high_dim: NumPy array of shape (n_samples, n_features), original high-dimensional data.\n",
    "    - labels: List or array of ground truth labels.\n",
    "    - patient_ids: List of patient ID strings.\n",
    "    - clusters: NumPy array of cluster assignments.\n",
    "    - title: Title of the plot.\n",
    "    \"\"\"\n",
    "    # Perform PCA to reduce to 2D\n",
    "    features_2d = features_high_dim\n",
    "    if features_high_dim.shape[1] > 2:\n",
    "        pca_2d = PCA(n_components=2)\n",
    "        features_2d = pca_2d.fit_transform(features_high_dim)\n",
    "    \n",
    "    plt.figure(figsize=(12, 8))\n",
    "    \n",
    "    # Define colors for labels\n",
    "    label_colors = {0: 'blue', 1: 'red'}\n",
    "    colors = [label_colors[label] for label in labels]\n",
    "    \n",
    "    # Plot data points\n",
    "    scatter = plt.scatter(features_2d[:, 0], features_2d[:, 1], c=colors, s=50, alpha=0.7)\n",
    "    plt.title(title)\n",
    "    plt.xlabel('Component 1')\n",
    "    plt.ylabel('Component 2')\n",
    "\n",
    "    # Add annotations for patient IDs\n",
    "    # for i, patient_id in enumerate(patient_ids):\n",
    "    #     plt.annotate(patient_id, (features_2d[i, 0], features_2d[i, 1]), fontsize=8, alpha=0.6)\n",
    "\n",
    "    # Compute and plot centroids and variance ellipses\n",
    "    unique_clusters = np.unique(clusters)\n",
    "    cmap = colormaps.get_cmap('tab10')  # Use the new colormap API without the 'lut' parameter\n",
    "\n",
    "    for i, cluster in enumerate(unique_clusters):\n",
    "        cluster_points = features_2d[clusters == cluster]\n",
    "        if cluster_points.shape[0] == 0:\n",
    "            continue  # Skip empty clusters\n",
    "        centroid = cluster_points.mean(axis=0)\n",
    "        covariance = np.cov(cluster_points, rowvar=False)\n",
    "        \n",
    "        if covariance.shape == (2, 2):\n",
    "            eigenvalues, eigenvectors = np.linalg.eigh(covariance)\n",
    "            \n",
    "            # Sort eigenvalues and eigenvectors\n",
    "            order = eigenvalues.argsort()[::-1]\n",
    "            eigenvalues, eigenvectors = eigenvalues[order], eigenvectors[:, order]\n",
    "            \n",
    "            # Compute angle for the ellipse\n",
    "            angle = np.degrees(np.arctan2(eigenvectors[1, 0], eigenvectors[0, 0]))\n",
    "            \n",
    "            # Width and height are \"full\" widths, so we multiply by 2 to get full length\n",
    "            width, height = 2 * np.sqrt(eigenvalues)\n",
    "            \n",
    "            # Create and add the ellipse patch\n",
    "            ellipse = Ellipse(xy=centroid, width=width, height=height, angle=angle,\n",
    "                              edgecolor=cmap(i), facecolor='none', linewidth=2)\n",
    "            plt.gca().add_patch(ellipse)\n",
    "        \n",
    "        # Plot centroid\n",
    "        plt.scatter(centroid[0], centroid[1], marker='X', s=200, c=[cmap(i)], label=f'Centroid {cluster}')\n",
    "\n",
    "    # Create legend for labels\n",
    "    handles = [plt.Line2D([0], [0], marker='o', color='w', label=label,\n",
    "                          markerfacecolor=color, markersize=10) for label, color in label_colors.items()]\n",
    "    \n",
    "    # Create legend for centroids\n",
    "    centroid_handles = [plt.Line2D([0], [0], marker='X', color='w', label=f'Centroid {cluster}',\n",
    "                                   markerfacecolor=cmap(i), markersize=10) for i, cluster in enumerate(unique_clusters)]\n",
    "    \n",
    "    # Combine both legends\n",
    "    plt.legend(handles=handles + centroid_handles, loc='best')\n",
    "    plt.grid(True)\n",
    "    plt.show()\n",
    "\n",
    "# Function to plot 3D scatter plot with annotations and cluster centroids\n",
    "def plot_3d(features_high_dim, labels, patient_ids, clusters, title):\n",
    "    \"\"\"\n",
    "    Plots a 3D PCA scatter plot with data points colored by ground truth labels and cluster centroids.\n",
    "\n",
    "    Parameters:\n",
    "    - features_high_dim: NumPy array of shape (n_samples, n_features), original high-dimensional data.\n",
    "    - labels: List or array of ground truth labels.\n",
    "    - patient_ids: List of patient ID strings.\n",
    "    - clusters: NumPy array of cluster assignments.\n",
    "    - title: Title of the plot.\n",
    "    \"\"\"\n",
    "    # Perform PCA to reduce to 3D\n",
    "    features_3d = features_high_dim\n",
    "    if features_high_dim.shape[1] > 3:\n",
    "        pca_3d = PCA(n_components=3)\n",
    "        features_3d = pca_3d.fit_transform(features_high_dim)\n",
    "    \n",
    "    fig = plt.figure(figsize=(12, 8))\n",
    "    ax = fig.add_subplot(111, projection='3d')\n",
    "    \n",
    "    # Define colors for labels\n",
    "    label_colors = {0: 'blue', 1: 'red'}\n",
    "    colors = [label_colors[label] for label in labels]\n",
    "    \n",
    "    # Plot data points\n",
    "    scatter = ax.scatter(features_3d[:, 0], features_3d[:, 1], features_3d[:, 2],\n",
    "                         c=colors, s=50, alpha=0.7)\n",
    "    ax.set_title(title)\n",
    "    ax.set_xlabel('Component 1')\n",
    "    ax.set_ylabel('Component 2')\n",
    "    ax.set_zlabel('Component 3')\n",
    "\n",
    "    # Add annotations for patient IDs\n",
    "    # Annotations in 3D are more cluttered, so we skip them for now\n",
    "    # for i, patient_id in enumerate(patient_ids):\n",
    "        # ax.text(features_3d[i, 0], features_3d[i, 1], features_3d[i, 2], patient_id, size=8, alpha=0.6)\n",
    "    \n",
    "    # Compute and plot centroids\n",
    "    unique_clusters = np.unique(clusters)\n",
    "    cmap = colormaps.get_cmap('tab10')  # Use the new colormap API without the 'lut' parameter\n",
    "\n",
    "    for i, cluster in enumerate(unique_clusters):\n",
    "        cluster_points = features_3d[clusters == cluster]\n",
    "        if cluster_points.shape[0] == 0:\n",
    "            continue  # Skip empty clusters\n",
    "        centroid = cluster_points.mean(axis=0)\n",
    "        # Plot centroid\n",
    "        ax.scatter(centroid[0], centroid[1], centroid[2], marker='X', s=200, c=[cmap(i)], label=f'Centroid {cluster}')\n",
    "\n",
    "    # Create legend for labels\n",
    "    handles = [plt.Line2D([0], [0], marker='o', color='w', label=label,\n",
    "                          markerfacecolor=color, markersize=10) for label, color in label_colors.items()]\n",
    "    \n",
    "    # Create legend for centroids\n",
    "    centroid_handles = [plt.Line2D([0], [0], marker='X', color='w', label=f'Centroid {cluster}',\n",
    "                                   markerfacecolor=cmap(i), markersize=10) for i, cluster in enumerate(unique_clusters)]\n",
    "    \n",
    "    # Combine both legends\n",
    "    ax.legend(handles=handles + centroid_handles, loc='best')\n",
    "    plt.show()\n",
    "\n",
    "\n",
    "import plotly.graph_objs as go\n",
    "import plotly.express as px\n",
    "import numpy as np\n",
    "from typing import Optional, Tuple\n",
    "\n",
    "def plot_interactive_3d_scatter(\n",
    "    coordinates: np.ndarray,\n",
    "    cluster_labels: np.ndarray,\n",
    "    ground_truth_labels: Optional[np.ndarray] = None,\n",
    "    axis_range: Optional[Tuple[int, int, int]] = (512, 512, 512),\n",
    "    title: str = \"Interactive 3D Scatter Plot\",\n",
    "    show_legend: bool = True\n",
    "):\n",
    "    \"\"\"\n",
    "    Plots an interactive 3D scatter plot with detailed legends for each cluster and optional ground truth labels.\n",
    "\n",
    "    Parameters:\n",
    "    - coordinates (np.ndarray): Array of shape (n, 3) representing 3D coordinates.\n",
    "    - cluster_labels (np.ndarray): Array of shape (n,) containing cluster assignments for each point.\n",
    "    - ground_truth_labels (Optional[np.ndarray]): Array of shape (n,) containing ground truth labels for each point.\n",
    "    - axis_range (Optional[Tuple[int, int, int]]): Tuple specifying the max range for x, y, z axes. Defaults to (512, 512, 512).\n",
    "    - title (str): Title of the plot.\n",
    "    - show_legend (bool): Whether to display the legend.\n",
    "\n",
    "    Returns:\n",
    "    - A Plotly Figure object displaying the interactive 3D scatter plot.\n",
    "    \"\"\"\n",
    "\n",
    "    # Validate input dimensions\n",
    "    if coordinates.ndim != 2 or coordinates.shape[1] != 3:\n",
    "        raise ValueError(\"Coordinates array must be of shape (n, 3).\")\n",
    "\n",
    "    n_points = coordinates.shape[0]\n",
    "\n",
    "    if cluster_labels.ndim != 1 or cluster_labels.shape[0] != n_points:\n",
    "        raise ValueError(\"cluster_labels must be a 1D array with the same length as coordinates.\")\n",
    "\n",
    "    if ground_truth_labels is not None:\n",
    "        if ground_truth_labels.ndim != 1 or ground_truth_labels.shape[0] != n_points:\n",
    "            raise ValueError(\"ground_truth_labels must be a 1D array with the same length as coordinates.\")\n",
    "\n",
    "    # Extract X, Y, Z coordinates\n",
    "    x = coordinates[:, 0]\n",
    "    y = coordinates[:, 1]\n",
    "    z = coordinates[:, 2]\n",
    "\n",
    "    # Convert labels to strings for consistent handling\n",
    "    cluster_labels = cluster_labels.astype(str)\n",
    "    if ground_truth_labels is not None:\n",
    "        ground_truth_labels = ground_truth_labels.astype(str)\n",
    "\n",
    "    # Identify unique clusters\n",
    "    unique_clusters = np.unique(cluster_labels)\n",
    "    num_clusters = len(unique_clusters)\n",
    "\n",
    "    # Choose a color palette with enough distinct colors\n",
    "    # Using Plotly's 'Dark24' palette which has 24 distinct colors\n",
    "    color_palette = px.colors.qualitative.Dark24\n",
    "    if num_clusters > len(color_palette):\n",
    "        # If more clusters than colors, extend the palette by repeating colors\n",
    "        extended_palette = color_palette * (num_clusters // len(color_palette) + 1)\n",
    "    else:\n",
    "        extended_palette = color_palette\n",
    "    cluster_colors = {cluster: extended_palette[i] for i, cluster in enumerate(unique_clusters)}\n",
    "\n",
    "    # Create a list to hold all cluster traces\n",
    "    cluster_traces = []\n",
    "\n",
    "    for cluster in unique_clusters:\n",
    "        indices = np.where(cluster_labels == cluster)[0]\n",
    "        cluster_trace = go.Scatter3d(\n",
    "            x=x[indices],\n",
    "            y=y[indices],\n",
    "            z=z[indices],\n",
    "            mode='markers',\n",
    "            marker=dict(\n",
    "                size=5,\n",
    "                color=cluster_colors[cluster],\n",
    "                opacity=0.8\n",
    "            ),\n",
    "            name=cluster,  # This ensures each cluster appears separately in the legend\n",
    "            hovertemplate=\n",
    "                \"<b>Cluster:</b> %{text}<br>\" +\n",
    "                \"<b>X:</b> %{x:.2f}<br>\" +\n",
    "                \"<b>Y:</b> %{y:.2f}<br>\" +\n",
    "                \"<b>Z:</b> %{z:.2f}<br>\" +\n",
    "                \"<extra></extra>\",\n",
    "            text=[cluster] * len(indices)\n",
    "        )\n",
    "        cluster_traces.append(cluster_trace)\n",
    "\n",
    "    data = cluster_traces  # Start with cluster traces\n",
    "\n",
    "    # If ground truth labels are provided, add them as a separate trace\n",
    "    if ground_truth_labels is not None:\n",
    "        unique_gt = np.unique(ground_truth_labels)\n",
    "        num_gt = len(unique_gt)\n",
    "\n",
    "        # Choose a different color palette for ground truth to distinguish from clusters\n",
    "        gt_color_palette = px.colors.qualitative.Light24\n",
    "        if num_gt > len(gt_color_palette):\n",
    "            extended_gt_palette = gt_color_palette * (num_gt // len(gt_color_palette) + 1)\n",
    "        else:\n",
    "            extended_gt_palette = gt_color_palette\n",
    "        gt_colors = {gt: extended_gt_palette[i] for i, gt in enumerate(unique_gt)}\n",
    "\n",
    "        # Create a separate trace for ground truth labels\n",
    "        gt_trace = go.Scatter3d(\n",
    "            x=x,\n",
    "            y=y,\n",
    "            z=z,\n",
    "            mode='markers',\n",
    "            marker=dict(\n",
    "                size=3,\n",
    "                color=[gt_colors[gt] for gt in ground_truth_labels],\n",
    "                opacity=0.6,\n",
    "                symbol='circle'\n",
    "            ),\n",
    "            name='Ground Truth',\n",
    "            hovertemplate=\n",
    "                \"<b>Ground Truth:</b> %{text}<br>\" +\n",
    "                \"<b>X:</b> %{x:.2f}<br>\" +\n",
    "                \"<b>Y:</b> %{y:.2f}<br>\" +\n",
    "                \"<b>Z:</b> %{z:.2f}<br>\" +\n",
    "                \"<extra></extra>\",\n",
    "            text=ground_truth_labels,\n",
    "            showlegend=True  # Ensure ground truth appears in the legend\n",
    "        )\n",
    "        data.append(gt_trace)\n",
    "\n",
    "    # Define layout with customizable axis ranges\n",
    "    layout = go.Layout(\n",
    "        title=title,\n",
    "        scene=dict(\n",
    "            xaxis=dict(title='X', range=[0, axis_range[0]]),\n",
    "            yaxis=dict(title='Y', range=[0, axis_range[1]]),\n",
    "            zaxis=dict(title='Z', range=[0, axis_range[2]]),\n",
    "        ),\n",
    "        legend=dict(\n",
    "            itemsizing='constant',\n",
    "            title=\"Clusters\",\n",
    "        ),\n",
    "        margin=dict(l=0, r=0, b=0, t=50),\n",
    "        showlegend=show_legend\n",
    "    )\n",
    "\n",
    "    fig = go.Figure(data=data, layout=layout)\n",
    "    fig.show()"
   ]
  },
  {
   "cell_type": "markdown",
   "metadata": {},
   "source": [
    "## Unlabeled"
   ]
  },
  {
   "cell_type": "markdown",
   "metadata": {},
   "source": [
    "### Cluster Assignment of Sampled Points within 1 CT\n",
    "\n",
    "for the 10 pancreas, 45 non-pancreas points, show which Cluster they were assigned to, by plotting them on the same CT\n",
    "\n",
    "\n",
    "- [] Can I plot them in 3D?"
   ]
  },
  {
   "cell_type": "markdown",
   "metadata": {},
   "source": [
    "#### Apply PCA and KMeans"
   ]
  },
  {
   "cell_type": "code",
   "execution_count": 133,
   "metadata": {},
   "outputs": [],
   "source": [
    "# Put your best clustering algorithm here\n",
    "\n",
    "from sklearn.cluster import KMeans\n",
    "\n",
    "kmeans = KMeans(n_clusters=5, random_state=42)"
   ]
  },
  {
   "cell_type": "code",
   "execution_count": 134,
   "metadata": {},
   "outputs": [
    {
     "data": {
      "text/plain": [
       "torch.Size([55, 8, 24, 24, 24])"
      ]
     },
     "execution_count": 134,
     "metadata": {},
     "output_type": "execute_result"
    }
   ],
   "source": [
    "first_ct_sampled_points = all_encoded_cubes[0]\n",
    "first_ct_sampled_points.shape"
   ]
  },
  {
   "cell_type": "code",
   "execution_count": 135,
   "metadata": {},
   "outputs": [
    {
     "data": {
      "text/html": [
       "<style>#sk-container-id-3 {\n",
       "  /* Definition of color scheme common for light and dark mode */\n",
       "  --sklearn-color-text: black;\n",
       "  --sklearn-color-line: gray;\n",
       "  /* Definition of color scheme for unfitted estimators */\n",
       "  --sklearn-color-unfitted-level-0: #fff5e6;\n",
       "  --sklearn-color-unfitted-level-1: #f6e4d2;\n",
       "  --sklearn-color-unfitted-level-2: #ffe0b3;\n",
       "  --sklearn-color-unfitted-level-3: chocolate;\n",
       "  /* Definition of color scheme for fitted estimators */\n",
       "  --sklearn-color-fitted-level-0: #f0f8ff;\n",
       "  --sklearn-color-fitted-level-1: #d4ebff;\n",
       "  --sklearn-color-fitted-level-2: #b3dbfd;\n",
       "  --sklearn-color-fitted-level-3: cornflowerblue;\n",
       "\n",
       "  /* Specific color for light theme */\n",
       "  --sklearn-color-text-on-default-background: var(--sg-text-color, var(--theme-code-foreground, var(--jp-content-font-color1, black)));\n",
       "  --sklearn-color-background: var(--sg-background-color, var(--theme-background, var(--jp-layout-color0, white)));\n",
       "  --sklearn-color-border-box: var(--sg-text-color, var(--theme-code-foreground, var(--jp-content-font-color1, black)));\n",
       "  --sklearn-color-icon: #696969;\n",
       "\n",
       "  @media (prefers-color-scheme: dark) {\n",
       "    /* Redefinition of color scheme for dark theme */\n",
       "    --sklearn-color-text-on-default-background: var(--sg-text-color, var(--theme-code-foreground, var(--jp-content-font-color1, white)));\n",
       "    --sklearn-color-background: var(--sg-background-color, var(--theme-background, var(--jp-layout-color0, #111)));\n",
       "    --sklearn-color-border-box: var(--sg-text-color, var(--theme-code-foreground, var(--jp-content-font-color1, white)));\n",
       "    --sklearn-color-icon: #878787;\n",
       "  }\n",
       "}\n",
       "\n",
       "#sk-container-id-3 {\n",
       "  color: var(--sklearn-color-text);\n",
       "}\n",
       "\n",
       "#sk-container-id-3 pre {\n",
       "  padding: 0;\n",
       "}\n",
       "\n",
       "#sk-container-id-3 input.sk-hidden--visually {\n",
       "  border: 0;\n",
       "  clip: rect(1px 1px 1px 1px);\n",
       "  clip: rect(1px, 1px, 1px, 1px);\n",
       "  height: 1px;\n",
       "  margin: -1px;\n",
       "  overflow: hidden;\n",
       "  padding: 0;\n",
       "  position: absolute;\n",
       "  width: 1px;\n",
       "}\n",
       "\n",
       "#sk-container-id-3 div.sk-dashed-wrapped {\n",
       "  border: 1px dashed var(--sklearn-color-line);\n",
       "  margin: 0 0.4em 0.5em 0.4em;\n",
       "  box-sizing: border-box;\n",
       "  padding-bottom: 0.4em;\n",
       "  background-color: var(--sklearn-color-background);\n",
       "}\n",
       "\n",
       "#sk-container-id-3 div.sk-container {\n",
       "  /* jupyter's `normalize.less` sets `[hidden] { display: none; }`\n",
       "     but bootstrap.min.css set `[hidden] { display: none !important; }`\n",
       "     so we also need the `!important` here to be able to override the\n",
       "     default hidden behavior on the sphinx rendered scikit-learn.org.\n",
       "     See: https://github.com/scikit-learn/scikit-learn/issues/21755 */\n",
       "  display: inline-block !important;\n",
       "  position: relative;\n",
       "}\n",
       "\n",
       "#sk-container-id-3 div.sk-text-repr-fallback {\n",
       "  display: none;\n",
       "}\n",
       "\n",
       "div.sk-parallel-item,\n",
       "div.sk-serial,\n",
       "div.sk-item {\n",
       "  /* draw centered vertical line to link estimators */\n",
       "  background-image: linear-gradient(var(--sklearn-color-text-on-default-background), var(--sklearn-color-text-on-default-background));\n",
       "  background-size: 2px 100%;\n",
       "  background-repeat: no-repeat;\n",
       "  background-position: center center;\n",
       "}\n",
       "\n",
       "/* Parallel-specific style estimator block */\n",
       "\n",
       "#sk-container-id-3 div.sk-parallel-item::after {\n",
       "  content: \"\";\n",
       "  width: 100%;\n",
       "  border-bottom: 2px solid var(--sklearn-color-text-on-default-background);\n",
       "  flex-grow: 1;\n",
       "}\n",
       "\n",
       "#sk-container-id-3 div.sk-parallel {\n",
       "  display: flex;\n",
       "  align-items: stretch;\n",
       "  justify-content: center;\n",
       "  background-color: var(--sklearn-color-background);\n",
       "  position: relative;\n",
       "}\n",
       "\n",
       "#sk-container-id-3 div.sk-parallel-item {\n",
       "  display: flex;\n",
       "  flex-direction: column;\n",
       "}\n",
       "\n",
       "#sk-container-id-3 div.sk-parallel-item:first-child::after {\n",
       "  align-self: flex-end;\n",
       "  width: 50%;\n",
       "}\n",
       "\n",
       "#sk-container-id-3 div.sk-parallel-item:last-child::after {\n",
       "  align-self: flex-start;\n",
       "  width: 50%;\n",
       "}\n",
       "\n",
       "#sk-container-id-3 div.sk-parallel-item:only-child::after {\n",
       "  width: 0;\n",
       "}\n",
       "\n",
       "/* Serial-specific style estimator block */\n",
       "\n",
       "#sk-container-id-3 div.sk-serial {\n",
       "  display: flex;\n",
       "  flex-direction: column;\n",
       "  align-items: center;\n",
       "  background-color: var(--sklearn-color-background);\n",
       "  padding-right: 1em;\n",
       "  padding-left: 1em;\n",
       "}\n",
       "\n",
       "\n",
       "/* Toggleable style: style used for estimator/Pipeline/ColumnTransformer box that is\n",
       "clickable and can be expanded/collapsed.\n",
       "- Pipeline and ColumnTransformer use this feature and define the default style\n",
       "- Estimators will overwrite some part of the style using the `sk-estimator` class\n",
       "*/\n",
       "\n",
       "/* Pipeline and ColumnTransformer style (default) */\n",
       "\n",
       "#sk-container-id-3 div.sk-toggleable {\n",
       "  /* Default theme specific background. It is overwritten whether we have a\n",
       "  specific estimator or a Pipeline/ColumnTransformer */\n",
       "  background-color: var(--sklearn-color-background);\n",
       "}\n",
       "\n",
       "/* Toggleable label */\n",
       "#sk-container-id-3 label.sk-toggleable__label {\n",
       "  cursor: pointer;\n",
       "  display: block;\n",
       "  width: 100%;\n",
       "  margin-bottom: 0;\n",
       "  padding: 0.5em;\n",
       "  box-sizing: border-box;\n",
       "  text-align: center;\n",
       "}\n",
       "\n",
       "#sk-container-id-3 label.sk-toggleable__label-arrow:before {\n",
       "  /* Arrow on the left of the label */\n",
       "  content: \"▸\";\n",
       "  float: left;\n",
       "  margin-right: 0.25em;\n",
       "  color: var(--sklearn-color-icon);\n",
       "}\n",
       "\n",
       "#sk-container-id-3 label.sk-toggleable__label-arrow:hover:before {\n",
       "  color: var(--sklearn-color-text);\n",
       "}\n",
       "\n",
       "/* Toggleable content - dropdown */\n",
       "\n",
       "#sk-container-id-3 div.sk-toggleable__content {\n",
       "  max-height: 0;\n",
       "  max-width: 0;\n",
       "  overflow: hidden;\n",
       "  text-align: left;\n",
       "  /* unfitted */\n",
       "  background-color: var(--sklearn-color-unfitted-level-0);\n",
       "}\n",
       "\n",
       "#sk-container-id-3 div.sk-toggleable__content.fitted {\n",
       "  /* fitted */\n",
       "  background-color: var(--sklearn-color-fitted-level-0);\n",
       "}\n",
       "\n",
       "#sk-container-id-3 div.sk-toggleable__content pre {\n",
       "  margin: 0.2em;\n",
       "  border-radius: 0.25em;\n",
       "  color: var(--sklearn-color-text);\n",
       "  /* unfitted */\n",
       "  background-color: var(--sklearn-color-unfitted-level-0);\n",
       "}\n",
       "\n",
       "#sk-container-id-3 div.sk-toggleable__content.fitted pre {\n",
       "  /* unfitted */\n",
       "  background-color: var(--sklearn-color-fitted-level-0);\n",
       "}\n",
       "\n",
       "#sk-container-id-3 input.sk-toggleable__control:checked~div.sk-toggleable__content {\n",
       "  /* Expand drop-down */\n",
       "  max-height: 200px;\n",
       "  max-width: 100%;\n",
       "  overflow: auto;\n",
       "}\n",
       "\n",
       "#sk-container-id-3 input.sk-toggleable__control:checked~label.sk-toggleable__label-arrow:before {\n",
       "  content: \"▾\";\n",
       "}\n",
       "\n",
       "/* Pipeline/ColumnTransformer-specific style */\n",
       "\n",
       "#sk-container-id-3 div.sk-label input.sk-toggleable__control:checked~label.sk-toggleable__label {\n",
       "  color: var(--sklearn-color-text);\n",
       "  background-color: var(--sklearn-color-unfitted-level-2);\n",
       "}\n",
       "\n",
       "#sk-container-id-3 div.sk-label.fitted input.sk-toggleable__control:checked~label.sk-toggleable__label {\n",
       "  background-color: var(--sklearn-color-fitted-level-2);\n",
       "}\n",
       "\n",
       "/* Estimator-specific style */\n",
       "\n",
       "/* Colorize estimator box */\n",
       "#sk-container-id-3 div.sk-estimator input.sk-toggleable__control:checked~label.sk-toggleable__label {\n",
       "  /* unfitted */\n",
       "  background-color: var(--sklearn-color-unfitted-level-2);\n",
       "}\n",
       "\n",
       "#sk-container-id-3 div.sk-estimator.fitted input.sk-toggleable__control:checked~label.sk-toggleable__label {\n",
       "  /* fitted */\n",
       "  background-color: var(--sklearn-color-fitted-level-2);\n",
       "}\n",
       "\n",
       "#sk-container-id-3 div.sk-label label.sk-toggleable__label,\n",
       "#sk-container-id-3 div.sk-label label {\n",
       "  /* The background is the default theme color */\n",
       "  color: var(--sklearn-color-text-on-default-background);\n",
       "}\n",
       "\n",
       "/* On hover, darken the color of the background */\n",
       "#sk-container-id-3 div.sk-label:hover label.sk-toggleable__label {\n",
       "  color: var(--sklearn-color-text);\n",
       "  background-color: var(--sklearn-color-unfitted-level-2);\n",
       "}\n",
       "\n",
       "/* Label box, darken color on hover, fitted */\n",
       "#sk-container-id-3 div.sk-label.fitted:hover label.sk-toggleable__label.fitted {\n",
       "  color: var(--sklearn-color-text);\n",
       "  background-color: var(--sklearn-color-fitted-level-2);\n",
       "}\n",
       "\n",
       "/* Estimator label */\n",
       "\n",
       "#sk-container-id-3 div.sk-label label {\n",
       "  font-family: monospace;\n",
       "  font-weight: bold;\n",
       "  display: inline-block;\n",
       "  line-height: 1.2em;\n",
       "}\n",
       "\n",
       "#sk-container-id-3 div.sk-label-container {\n",
       "  text-align: center;\n",
       "}\n",
       "\n",
       "/* Estimator-specific */\n",
       "#sk-container-id-3 div.sk-estimator {\n",
       "  font-family: monospace;\n",
       "  border: 1px dotted var(--sklearn-color-border-box);\n",
       "  border-radius: 0.25em;\n",
       "  box-sizing: border-box;\n",
       "  margin-bottom: 0.5em;\n",
       "  /* unfitted */\n",
       "  background-color: var(--sklearn-color-unfitted-level-0);\n",
       "}\n",
       "\n",
       "#sk-container-id-3 div.sk-estimator.fitted {\n",
       "  /* fitted */\n",
       "  background-color: var(--sklearn-color-fitted-level-0);\n",
       "}\n",
       "\n",
       "/* on hover */\n",
       "#sk-container-id-3 div.sk-estimator:hover {\n",
       "  /* unfitted */\n",
       "  background-color: var(--sklearn-color-unfitted-level-2);\n",
       "}\n",
       "\n",
       "#sk-container-id-3 div.sk-estimator.fitted:hover {\n",
       "  /* fitted */\n",
       "  background-color: var(--sklearn-color-fitted-level-2);\n",
       "}\n",
       "\n",
       "/* Specification for estimator info (e.g. \"i\" and \"?\") */\n",
       "\n",
       "/* Common style for \"i\" and \"?\" */\n",
       "\n",
       ".sk-estimator-doc-link,\n",
       "a:link.sk-estimator-doc-link,\n",
       "a:visited.sk-estimator-doc-link {\n",
       "  float: right;\n",
       "  font-size: smaller;\n",
       "  line-height: 1em;\n",
       "  font-family: monospace;\n",
       "  background-color: var(--sklearn-color-background);\n",
       "  border-radius: 1em;\n",
       "  height: 1em;\n",
       "  width: 1em;\n",
       "  text-decoration: none !important;\n",
       "  margin-left: 1ex;\n",
       "  /* unfitted */\n",
       "  border: var(--sklearn-color-unfitted-level-1) 1pt solid;\n",
       "  color: var(--sklearn-color-unfitted-level-1);\n",
       "}\n",
       "\n",
       ".sk-estimator-doc-link.fitted,\n",
       "a:link.sk-estimator-doc-link.fitted,\n",
       "a:visited.sk-estimator-doc-link.fitted {\n",
       "  /* fitted */\n",
       "  border: var(--sklearn-color-fitted-level-1) 1pt solid;\n",
       "  color: var(--sklearn-color-fitted-level-1);\n",
       "}\n",
       "\n",
       "/* On hover */\n",
       "div.sk-estimator:hover .sk-estimator-doc-link:hover,\n",
       ".sk-estimator-doc-link:hover,\n",
       "div.sk-label-container:hover .sk-estimator-doc-link:hover,\n",
       ".sk-estimator-doc-link:hover {\n",
       "  /* unfitted */\n",
       "  background-color: var(--sklearn-color-unfitted-level-3);\n",
       "  color: var(--sklearn-color-background);\n",
       "  text-decoration: none;\n",
       "}\n",
       "\n",
       "div.sk-estimator.fitted:hover .sk-estimator-doc-link.fitted:hover,\n",
       ".sk-estimator-doc-link.fitted:hover,\n",
       "div.sk-label-container:hover .sk-estimator-doc-link.fitted:hover,\n",
       ".sk-estimator-doc-link.fitted:hover {\n",
       "  /* fitted */\n",
       "  background-color: var(--sklearn-color-fitted-level-3);\n",
       "  color: var(--sklearn-color-background);\n",
       "  text-decoration: none;\n",
       "}\n",
       "\n",
       "/* Span, style for the box shown on hovering the info icon */\n",
       ".sk-estimator-doc-link span {\n",
       "  display: none;\n",
       "  z-index: 9999;\n",
       "  position: relative;\n",
       "  font-weight: normal;\n",
       "  right: .2ex;\n",
       "  padding: .5ex;\n",
       "  margin: .5ex;\n",
       "  width: min-content;\n",
       "  min-width: 20ex;\n",
       "  max-width: 50ex;\n",
       "  color: var(--sklearn-color-text);\n",
       "  box-shadow: 2pt 2pt 4pt #999;\n",
       "  /* unfitted */\n",
       "  background: var(--sklearn-color-unfitted-level-0);\n",
       "  border: .5pt solid var(--sklearn-color-unfitted-level-3);\n",
       "}\n",
       "\n",
       ".sk-estimator-doc-link.fitted span {\n",
       "  /* fitted */\n",
       "  background: var(--sklearn-color-fitted-level-0);\n",
       "  border: var(--sklearn-color-fitted-level-3);\n",
       "}\n",
       "\n",
       ".sk-estimator-doc-link:hover span {\n",
       "  display: block;\n",
       "}\n",
       "\n",
       "/* \"?\"-specific style due to the `<a>` HTML tag */\n",
       "\n",
       "#sk-container-id-3 a.estimator_doc_link {\n",
       "  float: right;\n",
       "  font-size: 1rem;\n",
       "  line-height: 1em;\n",
       "  font-family: monospace;\n",
       "  background-color: var(--sklearn-color-background);\n",
       "  border-radius: 1rem;\n",
       "  height: 1rem;\n",
       "  width: 1rem;\n",
       "  text-decoration: none;\n",
       "  /* unfitted */\n",
       "  color: var(--sklearn-color-unfitted-level-1);\n",
       "  border: var(--sklearn-color-unfitted-level-1) 1pt solid;\n",
       "}\n",
       "\n",
       "#sk-container-id-3 a.estimator_doc_link.fitted {\n",
       "  /* fitted */\n",
       "  border: var(--sklearn-color-fitted-level-1) 1pt solid;\n",
       "  color: var(--sklearn-color-fitted-level-1);\n",
       "}\n",
       "\n",
       "/* On hover */\n",
       "#sk-container-id-3 a.estimator_doc_link:hover {\n",
       "  /* unfitted */\n",
       "  background-color: var(--sklearn-color-unfitted-level-3);\n",
       "  color: var(--sklearn-color-background);\n",
       "  text-decoration: none;\n",
       "}\n",
       "\n",
       "#sk-container-id-3 a.estimator_doc_link.fitted:hover {\n",
       "  /* fitted */\n",
       "  background-color: var(--sklearn-color-fitted-level-3);\n",
       "}\n",
       "</style><div id=\"sk-container-id-3\" class=\"sk-top-container\"><div class=\"sk-text-repr-fallback\"><pre>KMeans(n_clusters=5, random_state=42)</pre><b>In a Jupyter environment, please rerun this cell to show the HTML representation or trust the notebook. <br />On GitHub, the HTML representation is unable to render, please try loading this page with nbviewer.org.</b></div><div class=\"sk-container\" hidden><div class=\"sk-item\"><div class=\"sk-estimator fitted sk-toggleable\"><input class=\"sk-toggleable__control sk-hidden--visually\" id=\"sk-estimator-id-3\" type=\"checkbox\" checked><label for=\"sk-estimator-id-3\" class=\"sk-toggleable__label fitted sk-toggleable__label-arrow fitted\">&nbsp;&nbsp;KMeans<a class=\"sk-estimator-doc-link fitted\" rel=\"noreferrer\" target=\"_blank\" href=\"https://scikit-learn.org/1.5/modules/generated/sklearn.cluster.KMeans.html\">?<span>Documentation for KMeans</span></a><span class=\"sk-estimator-doc-link fitted\">i<span>Fitted</span></span></label><div class=\"sk-toggleable__content fitted\"><pre>KMeans(n_clusters=5, random_state=42)</pre></div> </div></div></div></div>"
      ],
      "text/plain": [
       "KMeans(n_clusters=5, random_state=42)"
      ]
     },
     "execution_count": 135,
     "metadata": {},
     "output_type": "execute_result"
    }
   ],
   "source": [
    "flattened_first_ct = flatten_features(first_ct_sampled_points.unsqueeze(0))\n",
    "\n",
    "first_ct_scaled = StandardScaler().fit_transform(flattened_first_ct)\n",
    "\n",
    "from sklearn.decomposition import PCA\n",
    "\n",
    "first_pca = PCA().fit(first_ct_scaled)\n",
    "\n",
    "kmeans.fit(first_ct_scaled)"
   ]
  },
  {
   "cell_type": "code",
   "execution_count": 136,
   "metadata": {},
   "outputs": [
    {
     "data": {
      "text/plain": [
       "(760320, 8)"
      ]
     },
     "execution_count": 136,
     "metadata": {},
     "output_type": "execute_result"
    }
   ],
   "source": [
    "first_ct_scaled.shape"
   ]
  },
  {
   "cell_type": "code",
   "execution_count": 137,
   "metadata": {},
   "outputs": [
    {
     "data": {
      "text/plain": [
       "(55, 8)"
      ]
     },
     "execution_count": 137,
     "metadata": {},
     "output_type": "execute_result"
    }
   ],
   "source": [
    "middle_vecs_first_ct, indices = extract_middle_vectors(first_ct_scaled, n_samples=1)\n",
    "\n",
    "middle_vecs_first_ct.shape"
   ]
  },
  {
   "cell_type": "code",
   "execution_count": 138,
   "metadata": {},
   "outputs": [
    {
     "data": {
      "text/plain": [
       "(55,)"
      ]
     },
     "execution_count": 138,
     "metadata": {},
     "output_type": "execute_result"
    }
   ],
   "source": [
    "middle_labels = kmeans.labels_[indices]\n",
    "\n",
    "middle_labels.shape"
   ]
  },
  {
   "cell_type": "code",
   "execution_count": 139,
   "metadata": {},
   "outputs": [],
   "source": [
    "first_ct_sampled_points_coordinates = sampled_points_coordinates[0]"
   ]
  },
  {
   "cell_type": "code",
   "execution_count": 140,
   "metadata": {},
   "outputs": [
    {
     "data": {
      "text/plain": [
       "torch.Size([55, 3])"
      ]
     },
     "execution_count": 140,
     "metadata": {},
     "output_type": "execute_result"
    }
   ],
   "source": [
    "first_ct_sampled_points_coordinates.shape"
   ]
  },
  {
   "cell_type": "code",
   "execution_count": 141,
   "metadata": {},
   "outputs": [],
   "source": [
    "first_ct_id = all_filtered_ids[0]"
   ]
  },
  {
   "cell_type": "code",
   "execution_count": 142,
   "metadata": {},
   "outputs": [],
   "source": [
    "import nibabel as nib\n",
    "import os\n",
    "\n",
    "first_ct_raw = nib.load(os.path.join('data/healthy-pancreas', first_ct_id, 'ct.nii.gz')).get_fdata()"
   ]
  },
  {
   "cell_type": "markdown",
   "metadata": {},
   "source": [
    "#### Save Clusters as Landmarks for ITK-SNAP"
   ]
  },
  {
   "cell_type": "code",
   "execution_count": 104,
   "metadata": {},
   "outputs": [],
   "source": [
    "import xml.etree.ElementTree as ET\n",
    "import numpy as np\n",
    "\n",
    "def save_points_with_landmarks_as_annot(points, clusters, filename='annotations.annot', line_length=1.0):\n",
    "    \"\"\"\n",
    "    Saves 3D points as red line segments and landmark annotations with cluster numbers in an .annot file for ITK-SNAP.\n",
    "\n",
    "    Parameters:\n",
    "    - points (np.ndarray): Array of shape (n_points, 3) containing x, y, z coordinates.\n",
    "    - clusters (np.ndarray): Array of shape (n_points,) containing cluster labels (integers).\n",
    "    - filename (str): Output filename for the .annot file.\n",
    "    - line_length (float): Length of the line segment to represent each point.\n",
    "                           Adjust based on your CT image's scale to ensure visibility.\n",
    "    \"\"\"\n",
    "    if points.shape[0] != clusters.shape[0]:\n",
    "        raise ValueError(\"Number of points and clusters must be the same.\")\n",
    "\n",
    "    n_points = points.shape[0]\n",
    "    total_elements = 2 * n_points  # Each point has a line and a landmark\n",
    "\n",
    "    # Define fixed red color for all annotations\n",
    "    color = \"1 0 0\"  # Red in ITK-SNAP expects RGB values between 0 and 1\n",
    "\n",
    "    # Initialize XML structure\n",
    "    registry = ET.Element('registry')\n",
    "\n",
    "    # Add header entries\n",
    "    ET.SubElement(registry, 'entry', key=\"Format\", value=\"ITK-SNAP Annotation File\")\n",
    "    ET.SubElement(registry, 'entry', key=\"FormatDate\", value=\"20241014\")  # FormatDate as YYYYMMDD\n",
    "\n",
    "    # Annotations folder\n",
    "    annotations_folder = ET.SubElement(registry, 'folder', key=\"Annotations\")\n",
    "    ET.SubElement(annotations_folder, 'entry', key=\"ArraySize\", value=str(total_elements))\n",
    "\n",
    "    # Initialize element counter\n",
    "    element_counter = 0\n",
    "\n",
    "    for i in range(n_points):\n",
    "        # Original point coordinates\n",
    "        x, y, z = points[i]\n",
    "        cluster = clusters[i]\n",
    "\n",
    "        ### **1. Create LineSegmentAnnotation**\n",
    "        element_key_line = f\"Element[{element_counter}]\"\n",
    "        element_folder_line = ET.SubElement(annotations_folder, 'folder', key=element_key_line)\n",
    "\n",
    "        # Create a small offset for the second point to form a line\n",
    "        # Offset along the x-axis; adjust as needed\n",
    "        x2, y2, z2 = x + line_length, y, z\n",
    "\n",
    "        # Define entries for the line annotation\n",
    "        ET.SubElement(element_folder_line, 'entry', key=\"Color\", value=color)\n",
    "        ET.SubElement(element_folder_line, 'entry', key=\"Plane\", value=\"2\")  # 2 typically represents axial\n",
    "        ET.SubElement(element_folder_line, 'entry', key=\"Point1\", value=f\"{x} {y} {z}\")\n",
    "        ET.SubElement(element_folder_line, 'entry', key=\"Point2\", value=f\"{x2} {y2} {z2}\")\n",
    "        ET.SubElement(element_folder_line, 'entry', key=\"Selected\", value=\"0\")\n",
    "        ET.SubElement(element_folder_line, 'entry', key=\"Tags\", value=\"\")  # Optional: Add tags if needed\n",
    "        ET.SubElement(element_folder_line, 'entry', key=\"Type\", value=\"LineSegmentAnnotation\")\n",
    "        ET.SubElement(element_folder_line, 'entry', key=\"VisibleInAllPlanes\", value=\"0\")\n",
    "        ET.SubElement(element_folder_line, 'entry', key=\"VisibleInAllSlices\", value=\"0\")\n",
    "\n",
    "        element_counter += 1\n",
    "\n",
    "        ### **2. Create LandmarkAnnotation with Cluster Number**\n",
    "        element_key_landmark = f\"Element[{element_counter}]\"\n",
    "        element_folder_landmark = ET.SubElement(annotations_folder, 'folder', key=element_key_landmark)\n",
    "\n",
    "        # Define entries for the landmark annotation\n",
    "        ET.SubElement(element_folder_landmark, 'entry', key=\"Color\", value=color)\n",
    "        ET.SubElement(element_folder_landmark, 'entry', key=\"Offset\", value=\"0 0\")  # Adjust if needed\n",
    "        ET.SubElement(element_folder_landmark, 'entry', key=\"Plane\", value=\"0\")    # 0 typically represents sagittal\n",
    "        ET.SubElement(element_folder_landmark, 'entry', key=\"Pos\", value=f\"{x} {y} {z}\")\n",
    "        ET.SubElement(element_folder_landmark, 'entry', key=\"Selected\", value=\"0\")\n",
    "        ET.SubElement(element_folder_landmark, 'entry', key=\"Tags\", value=\"\")     # Optional: Add tags if needed\n",
    "        ET.SubElement(element_folder_landmark, 'entry', key=\"Text\", value=str(cluster))\n",
    "        ET.SubElement(element_folder_landmark, 'entry', key=\"Type\", value=\"LandmarkAnnotation\")\n",
    "        ET.SubElement(element_folder_landmark, 'entry', key=\"VisibleInAllPlanes\", value=\"0\")\n",
    "        ET.SubElement(element_folder_landmark, 'entry', key=\"VisibleInAllSlices\", value=\"0\")\n",
    "\n",
    "        element_counter += 1\n",
    "\n",
    "    # Create the DOCTYPE declaration\n",
    "    doctype = '''<!DOCTYPE registry [\n",
    "<!ELEMENT registry (entry*,folder*)>\n",
    "<!ELEMENT folder (entry*,folder*)>\n",
    "<!ELEMENT entry EMPTY>\n",
    "<!ATTLIST folder key CDATA #REQUIRED>\n",
    "<!ATTLIST entry key CDATA #REQUIRED>\n",
    "<!ATTLIST entry value CDATA #REQUIRED>\n",
    "]>'''\n",
    "\n",
    "    # Generate the XML tree\n",
    "    tree = ET.ElementTree(registry)\n",
    "\n",
    "    # Write to file with XML declaration and DOCTYPE\n",
    "    with open(filename, 'w') as f:\n",
    "        f.write('<?xml version=\"1.0\" encoding=\"UTF-8\" ?>\\n')\n",
    "        f.write(doctype + '\\n')\n",
    "        tree.write(f, encoding='unicode')\n",
    "\n",
    "    print(f\"Successfully saved {n_points} points with landmarks to {filename}\")\n",
    "\n",
    "\n",
    "\n",
    "import xml.etree.ElementTree as ET\n",
    "import numpy as np\n",
    "\n",
    "def save_clusters_as_annot_all_planes(points, clusters, filename='annotations.annot', slice_range=10, image_size=512):\n",
    "    \"\"\"\n",
    "    Saves 3D points as annotations on multiple slices in an .annot file for ITK-SNAP.\n",
    "\n",
    "    Parameters:\n",
    "    - points (np.ndarray): Array of shape (n_points, 3) containing x, y, z coordinates.\n",
    "    - clusters (np.ndarray): Array of shape (n_points,) containing cluster labels (integers).\n",
    "    - filename (str): Output filename for the .annot file.\n",
    "    - slice_range (int): Number of slices above and below the point to create annotations.\n",
    "    - image_size (int or tuple): Size of the image (assumed cubic if int, or specify (x_size, y_size, z_size)).\n",
    "    \"\"\"\n",
    "    if points.shape[0] != clusters.shape[0]:\n",
    "        raise ValueError(\"Number of points and clusters must be the same.\")\n",
    "\n",
    "    n_points = points.shape[0]\n",
    "\n",
    "    # Define fixed red color for all annotations\n",
    "    color = \"1 0 0\"  # Fully red\n",
    "\n",
    "    # Initialize XML structure\n",
    "    registry = ET.Element('registry')\n",
    "\n",
    "    # Add header entries\n",
    "    ET.SubElement(registry, 'entry', key=\"Format\", value=\"ITK-SNAP Annotation File\")\n",
    "    ET.SubElement(registry, 'entry', key=\"FormatDate\", value=\"20241014\")  # FormatDate as YYYYMMDD\n",
    "\n",
    "    # Annotations folder\n",
    "    annotations_folder = ET.SubElement(registry, 'folder', key=\"Annotations\")\n",
    "    element_counter = 0  # To keep track of Element[n] keys\n",
    "\n",
    "    # Determine image dimensions\n",
    "    if isinstance(image_size, int):\n",
    "        x_max = y_max = z_max = image_size\n",
    "    elif isinstance(image_size, tuple) and len(image_size) == 3:\n",
    "        x_max, y_max, z_max = image_size\n",
    "    else:\n",
    "        raise ValueError(\"image_size must be an int or a tuple of three ints.\")\n",
    "\n",
    "    for i in range(n_points):\n",
    "        x, y, z = points[i]\n",
    "        cluster = clusters[i]\n",
    "\n",
    "        # For each plane\n",
    "        for plane in range(3):\n",
    "            if plane == 0:  # Sagittal plane (X axis)\n",
    "                coord = int(round(x))\n",
    "                coord_min = max(0, coord - slice_range)\n",
    "                coord_max = min(x_max - 1, coord + slice_range)\n",
    "            elif plane == 1:  # Coronal plane (Y axis)\n",
    "                coord = int(round(y))\n",
    "                coord_min = max(0, coord - slice_range)\n",
    "                coord_max = min(y_max - 1, coord + slice_range)\n",
    "            elif plane == 2:  # Axial plane (Z axis)\n",
    "                coord = int(round(z))\n",
    "                coord_min = max(0, coord - slice_range)\n",
    "                coord_max = min(z_max - 1, coord + slice_range)\n",
    "\n",
    "            # Loop over the coordinate range\n",
    "            for c in range(coord_min, coord_max + 1):\n",
    "                element_key = f\"Element[{element_counter}]\"\n",
    "                element_folder = ET.SubElement(annotations_folder, 'folder', key=element_key)\n",
    "\n",
    "                # Position adjusted for the current slice\n",
    "                if plane == 0:\n",
    "                    pos = f\"{float(c)} {float(y)} {float(z)}\"\n",
    "                elif plane == 1:\n",
    "                    pos = f\"{float(x)} {float(c)} {float(z)}\"\n",
    "                elif plane == 2:\n",
    "                    pos = f\"{float(x)} {float(y)} {float(c)}\"\n",
    "\n",
    "                # Define entries for LandmarkAnnotation\n",
    "                ET.SubElement(element_folder, 'entry', key=\"Color\", value=color)\n",
    "                ET.SubElement(element_folder, 'entry', key=\"Offset\", value=\"0 0\")  # No offset\n",
    "                ET.SubElement(element_folder, 'entry', key=\"Plane\", value=str(plane))\n",
    "                ET.SubElement(element_folder, 'entry', key=\"Pos\", value=pos)\n",
    "                ET.SubElement(element_folder, 'entry', key=\"Selected\", value=\"0\")\n",
    "                ET.SubElement(element_folder, 'entry', key=\"Tags\", value=\"\")\n",
    "                ET.SubElement(element_folder, 'entry', key=\"Text\", value=str(cluster))  # Removed \"Cluster\"\n",
    "                ET.SubElement(element_folder, 'entry', key=\"Type\", value=\"LandmarkAnnotation\")\n",
    "                ET.SubElement(element_folder, 'entry', key=\"VisibleInAllPlanes\", value=\"1\")  # Visible in all planes\n",
    "                ET.SubElement(element_folder, 'entry', key=\"VisibleInAllSlices\", value=\"0\")  # Visible only on this slice\n",
    "\n",
    "                element_counter += 1\n",
    "\n",
    "    # Update ArraySize to reflect the actual number of elements\n",
    "    ET.SubElement(annotations_folder, 'entry', key=\"ArraySize\", value=str(element_counter))\n",
    "\n",
    "    # Create the DOCTYPE declaration\n",
    "    doctype = '''<!DOCTYPE registry [\n",
    "<!ELEMENT registry (entry*,folder*)>\n",
    "<!ELEMENT folder (entry*,folder*)>\n",
    "<!ELEMENT entry EMPTY>\n",
    "<!ATTLIST folder key CDATA #REQUIRED>\n",
    "<!ATTLIST entry key CDATA #REQUIRED>\n",
    "<!ATTLIST entry value CDATA #REQUIRED>\n",
    "]>'''\n",
    "\n",
    "    # Generate the XML tree\n",
    "    tree = ET.ElementTree(registry)\n",
    "\n",
    "    # Write to file with XML declaration and DOCTYPE\n",
    "    with open(filename, 'w') as f:\n",
    "        f.write('<?xml version=\"1.0\" encoding=\"UTF-8\" ?>\\n')\n",
    "        f.write(doctype + '\\n')\n",
    "        tree.write(f, encoding='unicode')\n",
    "\n",
    "    total_annotations = element_counter\n",
    "    print(f\"Successfully saved {total_annotations} LandmarkAnnotations to '{filename}'.\")"
   ]
  },
  {
   "cell_type": "code",
   "execution_count": 108,
   "metadata": {},
   "outputs": [
    {
     "name": "stdout",
     "output_type": "stream",
     "text": [
      "Successfully saved 1815 LandmarkAnnotations to 'all_planes_sampled_points.annot'.\n"
     ]
    }
   ],
   "source": [
    "save_clusters_as_annot_all_planes(first_ct_sampled_points_coordinates.numpy(), middle_labels, filename='all_planes_sampled_points.annot', slice_range=5)"
   ]
  },
  {
   "cell_type": "markdown",
   "metadata": {},
   "source": [
    "#### Simply plot Sampled Coordinates and their Clusters in Interactive 3D"
   ]
  },
  {
   "cell_type": "code",
   "execution_count": 143,
   "metadata": {},
   "outputs": [
    {
     "data": {
      "text/plain": [
       "(403, 313, 201)"
      ]
     },
     "execution_count": 143,
     "metadata": {},
     "output_type": "execute_result"
    }
   ],
   "source": [
    "first_ct_raw.shape"
   ]
  },
  {
   "cell_type": "code",
   "execution_count": 144,
   "metadata": {},
   "outputs": [
    {
     "data": {
      "application/vnd.plotly.v1+json": {
       "config": {
        "plotlyServerURL": "https://plot.ly"
       },
       "data": [
        {
         "hovertemplate": "<b>Cluster:</b> %{text}<br><b>X:</b> %{x:.2f}<br><b>Y:</b> %{y:.2f}<br><b>Z:</b> %{z:.2f}<br><extra></extra>",
         "marker": {
          "color": "#2E91E5",
          "opacity": 0.8,
          "size": 5
         },
         "mode": "markers",
         "name": "0",
         "text": [
          "0",
          "0",
          "0"
         ],
         "type": "scatter3d",
         "x": [
          270,
          347,
          148
         ],
         "y": [
          152,
          52,
          211
         ],
         "z": [
          63,
          83,
          76
         ]
        },
        {
         "hovertemplate": "<b>Cluster:</b> %{text}<br><b>X:</b> %{x:.2f}<br><b>Y:</b> %{y:.2f}<br><b>Z:</b> %{z:.2f}<br><extra></extra>",
         "marker": {
          "color": "#E15F99",
          "opacity": 0.8,
          "size": 5
         },
         "mode": "markers",
         "name": "1",
         "text": [
          "1",
          "1"
         ],
         "type": "scatter3d",
         "x": [
          237,
          88
         ],
         "y": [
          172,
          152
         ],
         "z": [
          70,
          67
         ]
        },
        {
         "hovertemplate": "<b>Cluster:</b> %{text}<br><b>X:</b> %{x:.2f}<br><b>Y:</b> %{y:.2f}<br><b>Z:</b> %{z:.2f}<br><extra></extra>",
         "marker": {
          "color": "#1CA71C",
          "opacity": 0.8,
          "size": 5
         },
         "mode": "markers",
         "name": "2",
         "text": [
          "2",
          "2",
          "2",
          "2",
          "2",
          "2",
          "2",
          "2",
          "2",
          "2",
          "2",
          "2",
          "2",
          "2",
          "2",
          "2",
          "2",
          "2",
          "2",
          "2",
          "2",
          "2",
          "2",
          "2",
          "2",
          "2",
          "2",
          "2",
          "2",
          "2",
          "2",
          "2"
         ],
         "type": "scatter3d",
         "x": [
          233,
          211,
          205,
          137,
          122,
          235,
          178,
          225,
          257,
          120,
          144,
          218,
          172,
          74,
          201,
          291,
          310,
          227,
          275,
          269,
          190,
          71,
          224,
          352,
          336,
          55,
          173,
          222,
          355,
          124,
          238,
          87
         ],
         "y": [
          198,
          173,
          178,
          150,
          140,
          196,
          175,
          85,
          236,
          166,
          162,
          94,
          91,
          150,
          140,
          129,
          253,
          76,
          139,
          135,
          52,
          141,
          94,
          223,
          154,
          203,
          224,
          142,
          53,
          144,
          112,
          263
         ],
         "z": [
          60,
          74,
          101,
          111,
          99,
          89,
          112,
          97,
          109,
          143,
          120,
          129,
          61,
          92,
          61,
          92,
          127,
          119,
          53,
          102,
          137,
          62,
          75,
          63,
          123,
          49,
          63,
          118,
          106,
          135,
          63,
          141
         ]
        },
        {
         "hovertemplate": "<b>Cluster:</b> %{text}<br><b>X:</b> %{x:.2f}<br><b>Y:</b> %{y:.2f}<br><b>Z:</b> %{z:.2f}<br><extra></extra>",
         "marker": {
          "color": "#FB0D0D",
          "opacity": 0.8,
          "size": 5
         },
         "mode": "markers",
         "name": "3",
         "text": [
          "3",
          "3"
         ],
         "type": "scatter3d",
         "x": [
          340,
          327
         ],
         "y": [
          217,
          254
         ],
         "z": [
          105,
          58
         ]
        },
        {
         "hovertemplate": "<b>Cluster:</b> %{text}<br><b>X:</b> %{x:.2f}<br><b>Y:</b> %{y:.2f}<br><b>Z:</b> %{z:.2f}<br><extra></extra>",
         "marker": {
          "color": "#DA16FF",
          "opacity": 0.8,
          "size": 5
         },
         "mode": "markers",
         "name": "4",
         "text": [
          "4",
          "4",
          "4",
          "4",
          "4",
          "4",
          "4",
          "4",
          "4",
          "4",
          "4",
          "4",
          "4",
          "4",
          "4",
          "4"
         ],
         "type": "scatter3d",
         "x": [
          249,
          226,
          117,
          283,
          262,
          245,
          267,
          130,
          259,
          268,
          346,
          309,
          112,
          297,
          67,
          267
         ],
         "y": [
          182,
          187,
          162,
          58,
          182,
          202,
          248,
          139,
          87,
          129,
          234,
          82,
          168,
          90,
          82,
          187
         ],
         "z": [
          72,
          67,
          69,
          54,
          131,
          119,
          74,
          137,
          118,
          89,
          96,
          50,
          140,
          63,
          82,
          70
         ]
        }
       ],
       "layout": {
        "legend": {
         "itemsizing": "constant",
         "title": {
          "text": "Clusters"
         }
        },
        "margin": {
         "b": 0,
         "l": 0,
         "r": 0,
         "t": 50
        },
        "scene": {
         "xaxis": {
          "range": [
           0,
           403
          ],
          "title": {
           "text": "X"
          }
         },
         "yaxis": {
          "range": [
           0,
           313
          ],
          "title": {
           "text": "Y"
          }
         },
         "zaxis": {
          "range": [
           0,
           201
          ],
          "title": {
           "text": "Z"
          }
         }
        },
        "showlegend": true,
        "template": {
         "data": {
          "bar": [
           {
            "error_x": {
             "color": "#2a3f5f"
            },
            "error_y": {
             "color": "#2a3f5f"
            },
            "marker": {
             "line": {
              "color": "#E5ECF6",
              "width": 0.5
             },
             "pattern": {
              "fillmode": "overlay",
              "size": 10,
              "solidity": 0.2
             }
            },
            "type": "bar"
           }
          ],
          "barpolar": [
           {
            "marker": {
             "line": {
              "color": "#E5ECF6",
              "width": 0.5
             },
             "pattern": {
              "fillmode": "overlay",
              "size": 10,
              "solidity": 0.2
             }
            },
            "type": "barpolar"
           }
          ],
          "carpet": [
           {
            "aaxis": {
             "endlinecolor": "#2a3f5f",
             "gridcolor": "white",
             "linecolor": "white",
             "minorgridcolor": "white",
             "startlinecolor": "#2a3f5f"
            },
            "baxis": {
             "endlinecolor": "#2a3f5f",
             "gridcolor": "white",
             "linecolor": "white",
             "minorgridcolor": "white",
             "startlinecolor": "#2a3f5f"
            },
            "type": "carpet"
           }
          ],
          "choropleth": [
           {
            "colorbar": {
             "outlinewidth": 0,
             "ticks": ""
            },
            "type": "choropleth"
           }
          ],
          "contour": [
           {
            "colorbar": {
             "outlinewidth": 0,
             "ticks": ""
            },
            "colorscale": [
             [
              0,
              "#0d0887"
             ],
             [
              0.1111111111111111,
              "#46039f"
             ],
             [
              0.2222222222222222,
              "#7201a8"
             ],
             [
              0.3333333333333333,
              "#9c179e"
             ],
             [
              0.4444444444444444,
              "#bd3786"
             ],
             [
              0.5555555555555556,
              "#d8576b"
             ],
             [
              0.6666666666666666,
              "#ed7953"
             ],
             [
              0.7777777777777778,
              "#fb9f3a"
             ],
             [
              0.8888888888888888,
              "#fdca26"
             ],
             [
              1,
              "#f0f921"
             ]
            ],
            "type": "contour"
           }
          ],
          "contourcarpet": [
           {
            "colorbar": {
             "outlinewidth": 0,
             "ticks": ""
            },
            "type": "contourcarpet"
           }
          ],
          "heatmap": [
           {
            "colorbar": {
             "outlinewidth": 0,
             "ticks": ""
            },
            "colorscale": [
             [
              0,
              "#0d0887"
             ],
             [
              0.1111111111111111,
              "#46039f"
             ],
             [
              0.2222222222222222,
              "#7201a8"
             ],
             [
              0.3333333333333333,
              "#9c179e"
             ],
             [
              0.4444444444444444,
              "#bd3786"
             ],
             [
              0.5555555555555556,
              "#d8576b"
             ],
             [
              0.6666666666666666,
              "#ed7953"
             ],
             [
              0.7777777777777778,
              "#fb9f3a"
             ],
             [
              0.8888888888888888,
              "#fdca26"
             ],
             [
              1,
              "#f0f921"
             ]
            ],
            "type": "heatmap"
           }
          ],
          "heatmapgl": [
           {
            "colorbar": {
             "outlinewidth": 0,
             "ticks": ""
            },
            "colorscale": [
             [
              0,
              "#0d0887"
             ],
             [
              0.1111111111111111,
              "#46039f"
             ],
             [
              0.2222222222222222,
              "#7201a8"
             ],
             [
              0.3333333333333333,
              "#9c179e"
             ],
             [
              0.4444444444444444,
              "#bd3786"
             ],
             [
              0.5555555555555556,
              "#d8576b"
             ],
             [
              0.6666666666666666,
              "#ed7953"
             ],
             [
              0.7777777777777778,
              "#fb9f3a"
             ],
             [
              0.8888888888888888,
              "#fdca26"
             ],
             [
              1,
              "#f0f921"
             ]
            ],
            "type": "heatmapgl"
           }
          ],
          "histogram": [
           {
            "marker": {
             "pattern": {
              "fillmode": "overlay",
              "size": 10,
              "solidity": 0.2
             }
            },
            "type": "histogram"
           }
          ],
          "histogram2d": [
           {
            "colorbar": {
             "outlinewidth": 0,
             "ticks": ""
            },
            "colorscale": [
             [
              0,
              "#0d0887"
             ],
             [
              0.1111111111111111,
              "#46039f"
             ],
             [
              0.2222222222222222,
              "#7201a8"
             ],
             [
              0.3333333333333333,
              "#9c179e"
             ],
             [
              0.4444444444444444,
              "#bd3786"
             ],
             [
              0.5555555555555556,
              "#d8576b"
             ],
             [
              0.6666666666666666,
              "#ed7953"
             ],
             [
              0.7777777777777778,
              "#fb9f3a"
             ],
             [
              0.8888888888888888,
              "#fdca26"
             ],
             [
              1,
              "#f0f921"
             ]
            ],
            "type": "histogram2d"
           }
          ],
          "histogram2dcontour": [
           {
            "colorbar": {
             "outlinewidth": 0,
             "ticks": ""
            },
            "colorscale": [
             [
              0,
              "#0d0887"
             ],
             [
              0.1111111111111111,
              "#46039f"
             ],
             [
              0.2222222222222222,
              "#7201a8"
             ],
             [
              0.3333333333333333,
              "#9c179e"
             ],
             [
              0.4444444444444444,
              "#bd3786"
             ],
             [
              0.5555555555555556,
              "#d8576b"
             ],
             [
              0.6666666666666666,
              "#ed7953"
             ],
             [
              0.7777777777777778,
              "#fb9f3a"
             ],
             [
              0.8888888888888888,
              "#fdca26"
             ],
             [
              1,
              "#f0f921"
             ]
            ],
            "type": "histogram2dcontour"
           }
          ],
          "mesh3d": [
           {
            "colorbar": {
             "outlinewidth": 0,
             "ticks": ""
            },
            "type": "mesh3d"
           }
          ],
          "parcoords": [
           {
            "line": {
             "colorbar": {
              "outlinewidth": 0,
              "ticks": ""
             }
            },
            "type": "parcoords"
           }
          ],
          "pie": [
           {
            "automargin": true,
            "type": "pie"
           }
          ],
          "scatter": [
           {
            "fillpattern": {
             "fillmode": "overlay",
             "size": 10,
             "solidity": 0.2
            },
            "type": "scatter"
           }
          ],
          "scatter3d": [
           {
            "line": {
             "colorbar": {
              "outlinewidth": 0,
              "ticks": ""
             }
            },
            "marker": {
             "colorbar": {
              "outlinewidth": 0,
              "ticks": ""
             }
            },
            "type": "scatter3d"
           }
          ],
          "scattercarpet": [
           {
            "marker": {
             "colorbar": {
              "outlinewidth": 0,
              "ticks": ""
             }
            },
            "type": "scattercarpet"
           }
          ],
          "scattergeo": [
           {
            "marker": {
             "colorbar": {
              "outlinewidth": 0,
              "ticks": ""
             }
            },
            "type": "scattergeo"
           }
          ],
          "scattergl": [
           {
            "marker": {
             "colorbar": {
              "outlinewidth": 0,
              "ticks": ""
             }
            },
            "type": "scattergl"
           }
          ],
          "scattermapbox": [
           {
            "marker": {
             "colorbar": {
              "outlinewidth": 0,
              "ticks": ""
             }
            },
            "type": "scattermapbox"
           }
          ],
          "scatterpolar": [
           {
            "marker": {
             "colorbar": {
              "outlinewidth": 0,
              "ticks": ""
             }
            },
            "type": "scatterpolar"
           }
          ],
          "scatterpolargl": [
           {
            "marker": {
             "colorbar": {
              "outlinewidth": 0,
              "ticks": ""
             }
            },
            "type": "scatterpolargl"
           }
          ],
          "scatterternary": [
           {
            "marker": {
             "colorbar": {
              "outlinewidth": 0,
              "ticks": ""
             }
            },
            "type": "scatterternary"
           }
          ],
          "surface": [
           {
            "colorbar": {
             "outlinewidth": 0,
             "ticks": ""
            },
            "colorscale": [
             [
              0,
              "#0d0887"
             ],
             [
              0.1111111111111111,
              "#46039f"
             ],
             [
              0.2222222222222222,
              "#7201a8"
             ],
             [
              0.3333333333333333,
              "#9c179e"
             ],
             [
              0.4444444444444444,
              "#bd3786"
             ],
             [
              0.5555555555555556,
              "#d8576b"
             ],
             [
              0.6666666666666666,
              "#ed7953"
             ],
             [
              0.7777777777777778,
              "#fb9f3a"
             ],
             [
              0.8888888888888888,
              "#fdca26"
             ],
             [
              1,
              "#f0f921"
             ]
            ],
            "type": "surface"
           }
          ],
          "table": [
           {
            "cells": {
             "fill": {
              "color": "#EBF0F8"
             },
             "line": {
              "color": "white"
             }
            },
            "header": {
             "fill": {
              "color": "#C8D4E3"
             },
             "line": {
              "color": "white"
             }
            },
            "type": "table"
           }
          ]
         },
         "layout": {
          "annotationdefaults": {
           "arrowcolor": "#2a3f5f",
           "arrowhead": 0,
           "arrowwidth": 1
          },
          "autotypenumbers": "strict",
          "coloraxis": {
           "colorbar": {
            "outlinewidth": 0,
            "ticks": ""
           }
          },
          "colorscale": {
           "diverging": [
            [
             0,
             "#8e0152"
            ],
            [
             0.1,
             "#c51b7d"
            ],
            [
             0.2,
             "#de77ae"
            ],
            [
             0.3,
             "#f1b6da"
            ],
            [
             0.4,
             "#fde0ef"
            ],
            [
             0.5,
             "#f7f7f7"
            ],
            [
             0.6,
             "#e6f5d0"
            ],
            [
             0.7,
             "#b8e186"
            ],
            [
             0.8,
             "#7fbc41"
            ],
            [
             0.9,
             "#4d9221"
            ],
            [
             1,
             "#276419"
            ]
           ],
           "sequential": [
            [
             0,
             "#0d0887"
            ],
            [
             0.1111111111111111,
             "#46039f"
            ],
            [
             0.2222222222222222,
             "#7201a8"
            ],
            [
             0.3333333333333333,
             "#9c179e"
            ],
            [
             0.4444444444444444,
             "#bd3786"
            ],
            [
             0.5555555555555556,
             "#d8576b"
            ],
            [
             0.6666666666666666,
             "#ed7953"
            ],
            [
             0.7777777777777778,
             "#fb9f3a"
            ],
            [
             0.8888888888888888,
             "#fdca26"
            ],
            [
             1,
             "#f0f921"
            ]
           ],
           "sequentialminus": [
            [
             0,
             "#0d0887"
            ],
            [
             0.1111111111111111,
             "#46039f"
            ],
            [
             0.2222222222222222,
             "#7201a8"
            ],
            [
             0.3333333333333333,
             "#9c179e"
            ],
            [
             0.4444444444444444,
             "#bd3786"
            ],
            [
             0.5555555555555556,
             "#d8576b"
            ],
            [
             0.6666666666666666,
             "#ed7953"
            ],
            [
             0.7777777777777778,
             "#fb9f3a"
            ],
            [
             0.8888888888888888,
             "#fdca26"
            ],
            [
             1,
             "#f0f921"
            ]
           ]
          },
          "colorway": [
           "#636efa",
           "#EF553B",
           "#00cc96",
           "#ab63fa",
           "#FFA15A",
           "#19d3f3",
           "#FF6692",
           "#B6E880",
           "#FF97FF",
           "#FECB52"
          ],
          "font": {
           "color": "#2a3f5f"
          },
          "geo": {
           "bgcolor": "white",
           "lakecolor": "white",
           "landcolor": "#E5ECF6",
           "showlakes": true,
           "showland": true,
           "subunitcolor": "white"
          },
          "hoverlabel": {
           "align": "left"
          },
          "hovermode": "closest",
          "mapbox": {
           "style": "light"
          },
          "paper_bgcolor": "white",
          "plot_bgcolor": "#E5ECF6",
          "polar": {
           "angularaxis": {
            "gridcolor": "white",
            "linecolor": "white",
            "ticks": ""
           },
           "bgcolor": "#E5ECF6",
           "radialaxis": {
            "gridcolor": "white",
            "linecolor": "white",
            "ticks": ""
           }
          },
          "scene": {
           "xaxis": {
            "backgroundcolor": "#E5ECF6",
            "gridcolor": "white",
            "gridwidth": 2,
            "linecolor": "white",
            "showbackground": true,
            "ticks": "",
            "zerolinecolor": "white"
           },
           "yaxis": {
            "backgroundcolor": "#E5ECF6",
            "gridcolor": "white",
            "gridwidth": 2,
            "linecolor": "white",
            "showbackground": true,
            "ticks": "",
            "zerolinecolor": "white"
           },
           "zaxis": {
            "backgroundcolor": "#E5ECF6",
            "gridcolor": "white",
            "gridwidth": 2,
            "linecolor": "white",
            "showbackground": true,
            "ticks": "",
            "zerolinecolor": "white"
           }
          },
          "shapedefaults": {
           "line": {
            "color": "#2a3f5f"
           }
          },
          "ternary": {
           "aaxis": {
            "gridcolor": "white",
            "linecolor": "white",
            "ticks": ""
           },
           "baxis": {
            "gridcolor": "white",
            "linecolor": "white",
            "ticks": ""
           },
           "bgcolor": "#E5ECF6",
           "caxis": {
            "gridcolor": "white",
            "linecolor": "white",
            "ticks": ""
           }
          },
          "title": {
           "x": 0.05
          },
          "xaxis": {
           "automargin": true,
           "gridcolor": "white",
           "linecolor": "white",
           "ticks": "",
           "title": {
            "standoff": 15
           },
           "zerolinecolor": "white",
           "zerolinewidth": 2
          },
          "yaxis": {
           "automargin": true,
           "gridcolor": "white",
           "linecolor": "white",
           "ticks": "",
           "title": {
            "standoff": 15
           },
           "zerolinecolor": "white",
           "zerolinewidth": 2
          }
         }
        },
        "title": {
         "text": "Interactive 3D Scatter Plot"
        }
       }
      }
     },
     "metadata": {},
     "output_type": "display_data"
    }
   ],
   "source": [
    "plot_interactive_3d_scatter(first_ct_sampled_points_coordinates.numpy(), cluster_labels=middle_labels, axis_range=first_ct_raw.shape)"
   ]
  },
  {
   "cell_type": "code",
   "execution_count": 145,
   "metadata": {},
   "outputs": [
    {
     "data": {
      "text/plain": [
       "0\n",
       "2    32\n",
       "4    16\n",
       "0     3\n",
       "1     2\n",
       "3     2\n",
       "Name: count, dtype: int64"
      ]
     },
     "execution_count": 145,
     "metadata": {},
     "output_type": "execute_result"
    }
   ],
   "source": [
    "pd.DataFrame(middle_labels).value_counts()"
   ]
  },
  {
   "cell_type": "markdown",
   "metadata": {},
   "source": [
    "##### 3D CT plot looks horrific. Never do it again"
   ]
  },
  {
   "cell_type": "markdown",
   "metadata": {},
   "source": [
    "## Labels: Pancreatic vs. Non-Pancreatic sampled point\n",
    "\n",
    "The $96^3$ cube is labeled as \"pancreatic\" vs. not based on the location of its center point. If it's within the pancreas segmentation mask, it's labeled as \"pancreatic\"."
   ]
  },
  {
   "cell_type": "markdown",
   "metadata": {},
   "source": [
    "### First 2 and 3 Components"
   ]
  },
  {
   "cell_type": "markdown",
   "metadata": {},
   "source": [
    "### Only Middle Vectors\n",
    "\n",
    "I.e. out of the $24^3$, plotting only point with coordinates $(12, 12, 12)$"
   ]
  },
  {
   "cell_type": "code",
   "execution_count": null,
   "metadata": {},
   "outputs": [],
   "source": [
    "import numpy as np\n",
    "from sklearn.cluster import OPTICS\n",
    "\n",
    "\n",
    "# Initialize OPTICS\n",
    "optics = OPTICS()#min_samples=50, xi=0.05, min_cluster_size=0.1)\n",
    "\n",
    "# Fit the model\n",
    "optics.fit(middle_vectors)\n",
    "\n",
    "# Retrieve cluster labels\n",
    "cluster_labels = optics.labels_\n",
    "\n",
    "# Add cluster labels to a DataFrame for easier handling\n",
    "middle_vectors_df['OPTICS_Clusters'] = cluster_labels\n",
    "\n",
    "# Display cluster assignments\n",
    "print(middle_vectors_df.head())"
   ]
  },
  {
   "cell_type": "code",
   "execution_count": null,
   "metadata": {},
   "outputs": [],
   "source": [
    "np.all(cluster_labels == -1)"
   ]
  },
  {
   "cell_type": "code",
   "execution_count": null,
   "metadata": {},
   "outputs": [],
   "source": [
    "pd.DataFrame(middle_labels).value_counts()"
   ]
  },
  {
   "cell_type": "code",
   "execution_count": null,
   "metadata": {},
   "outputs": [],
   "source": [
    "pd.DataFrame(cluster_labels).value_counts()"
   ]
  },
  {
   "cell_type": "code",
   "execution_count": null,
   "metadata": {},
   "outputs": [],
   "source": [
    "plot_3d(middle_vectors_df)"
   ]
  },
  {
   "cell_type": "markdown",
   "metadata": {},
   "source": [
    "### Datashader Plotting 10 clusters on the PCA-ed features"
   ]
  },
  {
   "cell_type": "code",
   "execution_count": null,
   "metadata": {},
   "outputs": [],
   "source": [
    "import holoviews as hv\n",
    "from holoviews.operation.datashader import datashade\n",
    "import datashader as ds\n",
    "from bokeh.palettes import Category10, Category20, viridis\n",
    "hv.extension('bokeh')\n",
    "\n",
    "# Define color palette based on the number of unique clusters\n",
    "unique_clusters = sorted(df_pca['Cluster'].unique())\n",
    "num_clusters = len(unique_clusters)\n",
    "\n",
    "if num_clusters <= 10:\n",
    "    palette = Category10[10]\n",
    "elif num_clusters <= 20:\n",
    "    palette = Category20[20]\n",
    "else:\n",
    "    palette = viridis(num_clusters)\n",
    "\n",
    "# Create a categorical color map\n",
    "color_key = {str(cluster): palette[i % len(palette)] for i, cluster in enumerate(unique_clusters)}\n",
    "\n",
    "# Create HoloViews Points element with 'Cluster' as a categorical dimension\n",
    "points = hv.Points(df_pca, ['PC1', 'PC2'], 'Cluster')\n",
    "\n",
    "# Apply Datashader with the defined color map and appropriate aggregator\n",
    "shaded = datashade(\n",
    "    points, \n",
    "    cmap=palette, \n",
    "    aggregator=ds.count_cat('Cluster'),  # Aggregate counts per cluster\n",
    ").opts(\n",
    "    width=800,\n",
    "    height=600,\n",
    "    title='KMeans Clusters on First Two Principal Components'\n",
    ")\n",
    "\n",
    "# Display the plot\n",
    "shaded"
   ]
  },
  {
   "cell_type": "markdown",
   "metadata": {},
   "source": [
    "##### <font color='orange'> 3D non-datashader: This is gonna take forever</font>\n",
    "\n",
    "Datashader doesn't support 3D plots. This means very slow projection"
   ]
  },
  {
   "cell_type": "markdown",
   "metadata": {},
   "source": [
    "## Labels: Healthy vs. Unhealthy CT"
   ]
  },
  {
   "cell_type": "code",
   "execution_count": null,
   "metadata": {},
   "outputs": [],
   "source": [
    "patient_ids = healthy_patient_ids + panc_patient_ids\n",
    "labels = labels.tolist()"
   ]
  },
  {
   "cell_type": "markdown",
   "metadata": {},
   "source": [
    "### Plotting all (38M, 8) vectors\n",
    "\n",
    "Using 2D PCA features"
   ]
  },
  {
   "cell_type": "code",
   "execution_count": null,
   "metadata": {},
   "outputs": [],
   "source": [
    "# Results for PCA on (50, 55, 8, 24, 24, 24), 8\n",
    "\n",
    "from matplotlib import pyplot as plt\n",
    "\n",
    "plt.scatter(pca_results[:, 0], pca_results[:, 1], c=labels, cmap='viridis', s=1)"
   ]
  },
  {
   "cell_type": "markdown",
   "metadata": {},
   "source": [
    "#### Same Plot but Much Faster - holoview, bokeh"
   ]
  },
  {
   "cell_type": "code",
   "execution_count": null,
   "metadata": {},
   "outputs": [],
   "source": [
    "pca_solver_2d = PCA(n_components=2, random_state=42)\n",
    "\n",
    "pca_results = pca_solver_2d.fit_transform(flattened_features)"
   ]
  },
  {
   "cell_type": "code",
   "execution_count": null,
   "metadata": {},
   "outputs": [],
   "source": [
    "import holoviews as hv\n",
    "hv.extension('bokeh')  # Initialize HoloViews with the Bokeh backend\n",
    "import datashader as ds\n",
    "from holoviews.operation.datashader import datashade\n",
    "from sklearn.decomposition import PCA\n",
    "import pandas as pd\n",
    "from bokeh.palettes import Category10, Category20\n",
    "\n",
    "\n",
    "# Create a DataFrame\n",
    "df = pd.DataFrame(pca_results, columns=['PC1', 'PC2'])\n",
    "\n",
    "df['Label'] = labels.numpy().astype(str)  # Convert labels to string for categorical coloring\n",
    "\n",
    "# Define color palette\n",
    "unique_labels = df['Label'].unique()\n",
    "num_labels = len(unique_labels)\n",
    "palette = Category10[10] if num_labels <= 10 else Category20[20]\n",
    "\n",
    "# Create a color key mapping each label to a color\n",
    "color_key = {label: palette[i % len(palette)] for i, label in enumerate(unique_labels)}\n",
    "\n",
    "# Create HoloViews Points with 'Label' as a categorical dimension\n",
    "points = hv.Points(df, ['PC1', 'PC2'], ['Label'])\n",
    "\n",
    "# Apply Datashader with the color_key\n",
    "shaded = datashade(points, cmap=color_key, how='log', aggregator=ds.count_cat('Label')).opts(\n",
    "    width=800,  # Set the width\n",
    "    height=600  # Set the height\n",
    ")\n",
    "\n",
    "# Display the shaded plot\n",
    "shaded"
   ]
  },
  {
   "cell_type": "code",
   "execution_count": 35,
   "metadata": {},
   "outputs": [],
   "source": [
    "from sklearn.decomposition import PCA\n",
    "\n",
    "pca_solver_3d = PCA(n_components=3, random_state=42)\n",
    "\n",
    "pca_results_3d = pca_solver_3d.fit_transform(flattened_features)"
   ]
  },
  {
   "cell_type": "code",
   "execution_count": null,
   "metadata": {},
   "outputs": [],
   "source": [
    "import holoviews as hv\n",
    "import pandas as pd\n",
    "import numpy as np\n",
    "import plotly.io as pio\n",
    "\n",
    "# Initialize HoloViews with the Plotly backend\n",
    "hv.extension('plotly')\n",
    "\n",
    "# Assuming you have 3 PCA components and labels\n",
    "# Generate some random PCA data for illustration\n",
    "pca_results = np.random.rand(1000, 3)  # Replace with your actual PCA results\n",
    "labels = np.random.randint(0, 5, size=1000)  # Replace with your actual labels\n",
    "\n",
    "# Create a DataFrame with PCA results and labels\n",
    "df = pd.DataFrame(pca_results, columns=['PC1', 'PC2', 'PC3'])\n",
    "df['Label'] = labels.astype(str)  # Convert labels to string for categorical coloring\n",
    "\n",
    "# Create a 3D scatter plot using HoloViews and Plotly\n",
    "scatter = hv.Scatter3D(df, kdims=['PC1', 'PC2', 'PC3'], vdims='Label').opts(\n",
    "    color='Label',  # Color based on Label\n",
    "    cmap='Category10',  # Choose a colormap for the labels\n",
    "    size=5,  # Set marker size\n",
    "    width=800,  # Set width of the plot\n",
    "    height=600,  # Set height of the plot\n",
    "    marker='circle',  # Set marker type\n",
    "    title=\"3D PCA Scatter Plot\"  # Add a title\n",
    ")\n",
    "\n",
    "# Display the 3D plot\n",
    "scatter"
   ]
  },
  {
   "cell_type": "markdown",
   "metadata": {},
   "source": [
    "### Hyperparameter Search Plots"
   ]
  },
  {
   "cell_type": "markdown",
   "metadata": {},
   "source": [
    "#### Best PCA"
   ]
  },
  {
   "cell_type": "markdown",
   "metadata": {},
   "source": [
    "First, perform best clustering - need to find optimal hyperparameters above\n",
    "\n",
    "<font color='cyan'>From Excel spreadsheet, best choice was: PCA - 36 components - 6 clusters AND T-SNE: 7 clusters, learning_rate\tn_components\tn_iter\tperplexity 10\t42\t1000\t50</font>"
   ]
  },
  {
   "cell_type": "code",
   "execution_count": 19,
   "metadata": {},
   "outputs": [],
   "source": [
    "from sklearn.decomposition import PCA\n",
    "\n",
    "best_PCA = PCA(n_components=36, random_state=42)\n",
    "\n",
    "best_pca_features = best_PCA.fit_transform(flattened_features_std)"
   ]
  },
  {
   "cell_type": "code",
   "execution_count": 20,
   "metadata": {},
   "outputs": [],
   "source": [
    "from sklearn.cluster import KMeans\n",
    "\n",
    "best_pca_clustering = KMeans(n_clusters=7, random_state=42)"
   ]
  },
  {
   "cell_type": "code",
   "execution_count": null,
   "metadata": {},
   "outputs": [],
   "source": [
    "best_pca_clusters = best_pca_clustering.fit_predict(best_pca_features)"
   ]
  },
  {
   "cell_type": "code",
   "execution_count": null,
   "metadata": {},
   "outputs": [],
   "source": [
    "best_pca_features.shape"
   ]
  },
  {
   "cell_type": "code",
   "execution_count": null,
   "metadata": {},
   "outputs": [],
   "source": [
    "# --- Plotting the Results ---\n",
    "\n",
    "# Plot the best unsupervised result in 2D\n",
    "plot_2d(best_pca_features, labels, patient_ids, best_pca_clusters, f'Best Unsupervised Result - PCA - 2D')\n",
    "\n",
    "# Plot the best unsupervised result in 3D\n",
    "plot_3d(best_pca_features, labels, patient_ids, best_pca_clusters, f'Best Unsupervised Result - PCA - 3D')"
   ]
  },
  {
   "cell_type": "code",
   "execution_count": null,
   "metadata": {},
   "outputs": [],
   "source": [
    "plot_3d_interactive(\n",
    "    features_high_dim=best_pca_features,\n",
    "    labels=labels,\n",
    "    patient_ids=patient_ids,\n",
    "    clusters=best_pca_clusters,\n",
    "    title='Best Unsupervised Result - PCA - 3D (Interactive)'\n",
    ")"
   ]
  },
  {
   "cell_type": "markdown",
   "metadata": {},
   "source": [
    "#### Best T-SNE"
   ]
  },
  {
   "cell_type": "code",
   "execution_count": 24,
   "metadata": {},
   "outputs": [],
   "source": [
    "from sklearn.manifold import TSNE\n",
    "\n",
    "best_tsne = TSNE(n_components=42, perplexity=50, learning_rate=10, n_iter=1000, random_state=42, method='exact')\n",
    "\n",
    "best_tsne_features = best_tsne.fit_transform(flattened_features_std)"
   ]
  },
  {
   "cell_type": "code",
   "execution_count": null,
   "metadata": {},
   "outputs": [],
   "source": [
    "best_tsne_clustering = KMeans(n_clusters=7, random_state=42)\n",
    "\n",
    "best_tsne_clusters = best_tsne_clustering.fit_predict(best_tsne_features)"
   ]
  },
  {
   "cell_type": "code",
   "execution_count": null,
   "metadata": {},
   "outputs": [],
   "source": [
    "plot_2d(best_tsne_features, labels, patient_ids, best_tsne_clusters, f'Best Unsupervised Result - T-SNE - 2D')\n",
    "\n",
    "# Plot the best unsupervised result in 3D\n",
    "plot_3d(best_tsne_features, labels, patient_ids, best_tsne_clusters, f'Best Unsupervised Result - T-SNE - 3D')"
   ]
  },
  {
   "cell_type": "code",
   "execution_count": null,
   "metadata": {},
   "outputs": [],
   "source": [
    "plot_3d_interactive(\n",
    "    features_high_dim=best_tsne_features,\n",
    "    labels=labels,\n",
    "    patient_ids=patient_ids,\n",
    "    clusters=best_tsne_clusters,\n",
    "    title='Best Unsupervised Result - T-SNE - 3D (Interactive)',\n",
    "    plot_axes=True\n",
    ")"
   ]
  },
  {
   "cell_type": "markdown",
   "metadata": {},
   "source": [
    "Outlier 5070\n",
    "\n",
    "![5070.png](mkdown-imgs/5070.png)\n",
    "\n",
    "\n",
    "Outlier 3427\n",
    "\n",
    "![3427.png](mkdown-imgs/3427.png)\n",
    "\n",
    "\n",
    "Outlier 928 - I think this CT is just Shifted from the rest, so it appears as an outlier\n",
    "\n",
    "\n",
    "\n",
    "![928.png](mkdown-imgs/928.png)"
   ]
  },
  {
   "cell_type": "code",
   "execution_count": null,
   "metadata": {},
   "outputs": [],
   "source": []
  },
  {
   "cell_type": "markdown",
   "metadata": {},
   "source": [
    "#### T-SNE w/ only 2,3 components (Worse)"
   ]
  },
  {
   "cell_type": "code",
   "execution_count": 28,
   "metadata": {},
   "outputs": [],
   "source": [
    "best_2d_tsne = TSNE(n_components=2, perplexity=40, learning_rate=10, n_iter=1000, random_state=42, method='exact')\n",
    "best_2d_tsne_clusterer = KMeans(n_clusters=2, random_state=42)\n",
    "\n",
    "best_3d_tsne = TSNE(n_components=3, perplexity=50, learning_rate=10, n_iter=1000, random_state=42, method='exact')\n",
    "best_3d_tsne_clusterer = KMeans(n_clusters=2, random_state=42)"
   ]
  },
  {
   "cell_type": "code",
   "execution_count": null,
   "metadata": {},
   "outputs": [],
   "source": [
    "best_2d_tsne_features = best_2d_tsne.fit_transform(flattened_features_std)\n",
    "best_3d_tsne_features = best_3d_tsne.fit_transform(flattened_features_std)\n",
    "\n",
    "best_2d_tsne_clusters = best_2d_tsne_clusterer.fit_predict(best_2d_tsne_features)\n",
    "best_3d_tsne_clusters = best_3d_tsne_clusterer.fit_predict(best_3d_tsne_features)"
   ]
  },
  {
   "cell_type": "code",
   "execution_count": null,
   "metadata": {},
   "outputs": [],
   "source": [
    "plot_2d(best_2d_tsne_features, labels, patient_ids, best_2d_tsne_clusters, f'Best Unsupervised Result - T-SNE - 2D')"
   ]
  },
  {
   "cell_type": "code",
   "execution_count": null,
   "metadata": {},
   "outputs": [],
   "source": [
    "best_3d_tsne_features.shape"
   ]
  },
  {
   "cell_type": "code",
   "execution_count": null,
   "metadata": {},
   "outputs": [],
   "source": [
    "plot_3d(best_3d_tsne_features, labels, patient_ids, best_3d_tsne_clusters, f'Best Unsupervised Result - T-SNE - 3D')"
   ]
  },
  {
   "cell_type": "code",
   "execution_count": null,
   "metadata": {},
   "outputs": [],
   "source": [
    "plot_3d_interactive(\n",
    "    features_high_dim=best_3d_tsne_features,\n",
    "    labels=labels,\n",
    "    patient_ids=patient_ids,\n",
    "    clusters=best_3d_tsne_clusters,\n",
    "    title='Best Unsupervised Result - T-SNE - 3D (Interactive)')\n",
    "\n",
    "    "
   ]
  },
  {
   "cell_type": "markdown",
   "metadata": {},
   "source": [
    "# Supervised Clustering"
   ]
  },
  {
   "cell_type": "code",
   "execution_count": null,
   "metadata": {},
   "outputs": [],
   "source": [
    "import numpy as np\n",
    "import pandas as pd\n",
    "from sklearn.preprocessing import StandardScaler, LabelBinarizer\n",
    "from sklearn.decomposition import PCA\n",
    "from sklearn.manifold import TSNE\n",
    "import umap.umap_ as umap\n",
    "from sklearn.neighbors import NeighborhoodComponentsAnalysis\n",
    "from sklearn.cross_decomposition import PLSRegression\n",
    "from sklearn.cluster import KMeans, AgglomerativeClustering\n",
    "from sklearn.mixture import GaussianMixture\n",
    "from sklearn.metrics import silhouette_score, calinski_harabasz_score, davies_bouldin_score\n",
    "import warnings\n",
    "\n",
    "# Suppress warnings for cleaner output\n",
    "warnings.filterwarnings('ignore')"
   ]
  },
  {
   "cell_type": "code",
   "execution_count": null,
   "metadata": {},
   "outputs": [],
   "source": [
    "def apply_nca(features, labels, n_components):\n",
    "    \"\"\"\n",
    "    Apply Neighborhood Components Analysis (NCA).\n",
    "\n",
    "    Parameters:\n",
    "        features (numpy.ndarray): Input features.\n",
    "        labels (numpy.ndarray): Class labels.\n",
    "        n_components (int): Number of dimensions to reduce to.\n",
    "\n",
    "    Returns:\n",
    "        numpy.ndarray: Transformed features.\n",
    "    \"\"\"\n",
    "    nca = NeighborhoodComponentsAnalysis(n_components=n_components, random_state=42)\n",
    "    nca.fit(features, labels)\n",
    "    return nca.transform(features)\n",
    "\n",
    "\n",
    "def apply_pls(features, labels, n_components):\n",
    "    \"\"\"\n",
    "    Apply Partial Least Squares (PLS) regression.\n",
    "\n",
    "    Parameters:\n",
    "        features (numpy.ndarray): Input features.\n",
    "        labels (numpy.ndarray): Class labels.\n",
    "        n_components (int): Number of components to keep.\n",
    "\n",
    "    Returns:\n",
    "        numpy.ndarray: Transformed features.\n",
    "    \"\"\"\n",
    "    lb = LabelBinarizer()\n",
    "    labels_binarized = lb.fit_transform(labels)\n",
    "    pls = PLSRegression(n_components=n_components)\n",
    "    pls.fit(features, labels_binarized)\n",
    "    return pls.transform(features)\n",
    "\n",
    "\n",
    "def apply_supervised_umap(features, labels, n_components, n_neighbors=15, min_dist=0.1):\n",
    "    \"\"\"\n",
    "    Apply Supervised UMAP.\n",
    "\n",
    "    Parameters:\n",
    "        features (numpy.ndarray): Input features.\n",
    "        labels (numpy.ndarray): Class labels.\n",
    "        n_components (int): Number of dimensions to reduce to.\n",
    "\n",
    "    Returns:\n",
    "        numpy.ndarray: Transformed features.\n",
    "    \"\"\"\n",
    "    reducer = umap.UMAP(\n",
    "        n_components=n_components,\n",
    "        n_neighbors=n_neighbors,\n",
    "        min_dist=min_dist,\n",
    "        random_state=42\n",
    "    )\n",
    "    return reducer.fit_transform(features, y=labels)"
   ]
  },
  {
   "cell_type": "code",
   "execution_count": null,
   "metadata": {},
   "outputs": [],
   "source": [
    "def evaluate_supervised_methods(features, labels):\n",
    "    \"\"\"\n",
    "    Evaluate clustering with supervised dimensionality reduction methods.\n",
    "\n",
    "    Parameters:\n",
    "        features (numpy.ndarray): Scaled features.\n",
    "        labels (numpy.ndarray): Class labels.\n",
    "\n",
    "    Returns:\n",
    "        dict: Results for each method.\n",
    "    \"\"\"\n",
    "    n_components_list = list(range(2, min(features.shape[1], 56), 5))\n",
    "    n_clusters_list = list(range(2, 8))\n",
    "    dim_reduction_methods = ['NCA', 'PLS', 'Supervised UMAP']\n",
    "    clustering_methods = ['kmeans', 'agglomerative', 'gmm']\n",
    "    \n",
    "    results = {}\n",
    "    \n",
    "    for method in dim_reduction_methods:\n",
    "        print(f\"\\nDimensionality Reduction Method: {method}\")\n",
    "        results[method] = {}\n",
    "        for n_components in n_components_list:\n",
    "            print(f\"  n_components = {n_components}\")\n",
    "            if method == 'NCA':\n",
    "                try:\n",
    "                    transformed_features = apply_nca(features, labels, n_components)\n",
    "                except Exception as e:\n",
    "                    print(f\"    NCA failed at n_components={n_components}: {e}\")\n",
    "                    continue\n",
    "            elif method == 'PLS':\n",
    "                try:\n",
    "                    transformed_features = apply_pls(features, labels, n_components)\n",
    "                except Exception as e:\n",
    "                    print(f\"    PLS failed at n_components={n_components}: {e}\")\n",
    "                    continue\n",
    "            elif method == 'Supervised UMAP':\n",
    "                transformed_features = apply_supervised_umap(features, labels, n_components)\n",
    "            \n",
    "            results_key = f\"n_components_{n_components}\"\n",
    "            results[method][results_key] = pd.DataFrame(\n",
    "                index=n_clusters_list,\n",
    "                columns=clustering_methods\n",
    "            )\n",
    "            \n",
    "            for n_clusters in n_clusters_list:\n",
    "                for cluster_method in clustering_methods:\n",
    "                    evaluation = cluster_and_evaluate(\n",
    "                        transformed_features,\n",
    "                        method=cluster_method,\n",
    "                        n_clusters=n_clusters\n",
    "                    )\n",
    "                    # Store Silhouette Score\n",
    "                    results[method][results_key].loc[n_clusters, cluster_method] = evaluation['Silhouette Score']\n",
    "        print(\"  Evaluation complete.\")\n",
    "    return results"
   ]
  },
  {
   "cell_type": "code",
   "execution_count": null,
   "metadata": {},
   "outputs": [],
   "source": [
    "supervised_results = evaluate_supervised_methods(flattened_features_std, labels)"
   ]
  },
  {
   "cell_type": "code",
   "execution_count": null,
   "metadata": {},
   "outputs": [],
   "source": [
    "for method, n_components_dict in supervised_results.items():\n",
    "    print(f\"\\nResults for {method}:\\n\")\n",
    "    for n_components, df in n_components_dict.items():\n",
    "        print(f\"{n_components}\")\n",
    "        print(df)\n",
    "        print(\"\\n\")"
   ]
  },
  {
   "cell_type": "markdown",
   "metadata": {},
   "source": [
    "Based on the Silhouette Scores, the best clustering result is:\n",
    "\n",
    "\t•\tDimensionality Reduction Method: Supervised UMAP\n",
    "\t•\tNumber of Components (n_components): 17\n",
    "\t•\tClustering Method: K-Means\n",
    "\t•\tNumber of Clusters (n_clusters): 2\n",
    "\t•\tSilhouette Score: 0.959937\n",
    "\n",
    "\n",
    "Saving that as a TSV for Projector.tensorflow.org"
   ]
  },
  {
   "cell_type": "markdown",
   "metadata": {},
   "source": [
    "# Code for Saving for projector.tensorflow.org"
   ]
  },
  {
   "cell_type": "code",
   "execution_count": null,
   "metadata": {},
   "outputs": [],
   "source": [
    "# Import necessary libraries\n",
    "import numpy as np\n",
    "import pandas as pd\n",
    "from sklearn.preprocessing import StandardScaler\n",
    "import umap.umap_ as umap\n",
    "from sklearn.cluster import KMeans\n",
    "\n",
    "cluster_assignments = best_pca_clusters\n",
    "\n",
    "def save_to_projector_tensorflow_tsv(embedding, cluster_assignments, labels, save_name=\"\"):\n",
    "    # Prepare data for TSV files\n",
    "    # Create a DataFrame for the embedding\n",
    "    embedding_df = pd.DataFrame(embedding)\n",
    "\n",
    "    # Add cluster assignments and true labels\n",
    "    embedding_df['Cluster'] = cluster_assignments\n",
    "    embedding_df['Label'] = labels  # Ensure 'labels' is an array-like object\n",
    "\n",
    "    feature_save_name = os.path.join(\"tsv_projections\", f'features_{save_name}.tsv')\n",
    "    metadata_save_name = os.path.join(\"tsv_projections\", f'metadata_{save_name}.tsv')\n",
    "\n",
    "    # Save the embedding vectors (without Cluster and Label columns)\n",
    "    embedding_df.drop(columns=['Cluster', 'Label']).to_csv(feature_save_name, sep='\\t', index=False, header=False)\n",
    "    print(f\"Embedding vectors saved to {feature_save_name}\")\n",
    "\n",
    "    # Save the metadata (Cluster assignments and Labels)\n",
    "    metadata_df = embedding_df[['Cluster', 'Label']]\n",
    "    metadata_df.to_csv(metadata_save_name, sep='\\t', index=False)\n",
    "    print(f\"Metadata saved to {metadata_save_name}\")"
   ]
  },
  {
   "cell_type": "code",
   "execution_count": null,
   "metadata": {},
   "outputs": [],
   "source": [
    "save_to_projector_tensorflow_tsv(best_pca_features, best_pca_clusters, labels, save_name=\"best_pca\")"
   ]
  },
  {
   "cell_type": "code",
   "execution_count": null,
   "metadata": {},
   "outputs": [],
   "source": [
    "save_to_projector_tensorflow_tsv(best_tsne_features, best_tsne_clusters, labels, save_name=\"best_tsne\")"
   ]
  },
  {
   "cell_type": "code",
   "execution_count": null,
   "metadata": {},
   "outputs": [],
   "source": [
    "save_to_projector_tensorflow_tsv(best_2d_tsne_features, best_2d_tsne_clusters, labels, save_name=\"best_2d_tsne\")"
   ]
  },
  {
   "cell_type": "code",
   "execution_count": null,
   "metadata": {},
   "outputs": [],
   "source": [
    "save_to_projector_tensorflow_tsv(best_3d_tsne_features, best_3d_tsne_clusters, labels, save_name=\"best_3d_tsne\")"
   ]
  }
 ],
 "metadata": {
  "kernelspec": {
   "display_name": "DiffTumor_venv",
   "language": "python",
   "name": "difftumor_venv"
  },
  "language_info": {
   "codemirror_mode": {
    "name": "ipython",
    "version": 3
   },
   "file_extension": ".py",
   "mimetype": "text/x-python",
   "name": "python",
   "nbconvert_exporter": "python",
   "pygments_lexer": "ipython3",
   "version": "3.11.9"
  }
 },
 "nbformat": 4,
 "nbformat_minor": 4
}
