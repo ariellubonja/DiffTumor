{
 "cells": [
  {
   "cell_type": "code",
   "execution_count": 1,
   "id": "d59f5176-0293-47a7-98d8-aa074f9e48da",
   "metadata": {},
   "outputs": [
    {
     "name": "stderr",
     "output_type": "stream",
     "text": [
      "/scratch4/randalburns/DiffTumor/venv-py38/lib/python3.8/site-packages/tqdm/auto.py:22: TqdmWarning: IProgress not found. Please update jupyter and ipywidgets. See https://ipywidgets.readthedocs.io/en/stable/user_install.html\n",
      "  from .autonotebook import tqdm as notebook_tqdm\n"
     ]
    },
    {
     "name": "stdout",
     "output_type": "stream",
     "text": [
      "1\n"
     ]
    }
   ],
   "source": [
    "import torch\n",
    "print(torch.cuda.device_count())"
   ]
  },
  {
   "cell_type": "code",
   "execution_count": 2,
   "id": "c35ea09a-15b6-4e9d-ae72-48a1bbdcf4d5",
   "metadata": {},
   "outputs": [
    {
     "name": "stdout",
     "output_type": "stream",
     "text": [
      "/scratch4/randalburns/DiffTumor/STEP1.AutoencoderModel\n"
     ]
    }
   ],
   "source": [
    "%cd STEP1.AutoencoderModel/"
   ]
  },
  {
   "cell_type": "code",
   "execution_count": null,
   "id": "94842ea0-9417-4872-812e-b964ef28bfd3",
   "metadata": {},
   "outputs": [
    {
     "name": "stderr",
     "output_type": "stream",
     "text": [
      "/scratch4/randalburns/DiffTumor/venv-py38/lib/python3.8/site-packages/torchvision/models/_utils.py:208: UserWarning: The parameter 'pretrained' is deprecated since 0.13 and will be removed in 0.15, please use 'weights' instead.\n",
      "  warnings.warn(\n",
      "/scratch4/randalburns/DiffTumor/venv-py38/lib/python3.8/site-packages/torchvision/models/_utils.py:223: UserWarning: Arguments other than a weight enum or `None` for 'weights' are deprecated since 0.13 and will be removed in 0.15. The current behavior is equivalent to passing `weights=VGG16_Weights.IMAGENET1K_V1`. You can also use `weights=VGG16_Weights.DEFAULT` to get the most up-to-date weights.\n",
      "  warnings.warn(msg)\n"
     ]
    },
    {
     "name": "stdout",
     "output_type": "stream",
     "text": [
      "loaded pretrained LPIPS loss from /scratch4/randalburns/DiffTumor/STEP1.AutoencoderModel/vq_gan_3d/model/cache/vgg.pth\n"
     ]
    },
    {
     "name": "stderr",
     "output_type": "stream",
     "text": [
      "/scratch4/randalburns/DiffTumor/venv-py38/lib/python3.8/site-packages/torch/cuda/__init__.py:146: UserWarning: \n",
      "NVIDIA A100-PCIE-40GB with CUDA capability sm_80 is not compatible with the current PyTorch installation.\n",
      "The current PyTorch install supports CUDA capabilities sm_37 sm_50 sm_60 sm_70.\n",
      "If you want to use the NVIDIA A100-PCIE-40GB GPU with PyTorch, please check the instructions at https://pytorch.org/get-started/locally/\n",
      "\n",
      "  warnings.warn(incompatible_device_warn.format(device_name, capability, \" \".join(arch_list), device_name))\n"
     ]
    }
   ],
   "source": [
    "import torch\n",
    "from vq_gan_3d.model.vqgan import VQGAN  # Adjust the import path based on your project structure\n",
    "from torchvision import transforms\n",
    "from PIL import Image\n",
    "\n",
    "# Step 1: Load the pretrained VQGAN model\n",
    "vqgan_ckpt = '../STEP2.DiffusionModel/pretrained_models/AutoencoderModel.ckpt'  # Replace with the actual path to your checkpoint file\n",
    "vqgan_model = VQGAN.load_from_checkpoint(vqgan_ckpt).cuda()\n",
    "vqgan_model.eval()\n",
    "\n",
    "# Step 2: Define a function to encode images using the encoder from VQGAN\n",
    "def encode_image(image_path):\n",
    "    # Define the image transformation pipeline (same as the one used during training)\n",
    "    transform = transforms.Compose([\n",
    "        transforms.Resize((128, 128)),  # Adjust based on training preprocessing\n",
    "        transforms.ToTensor(),\n",
    "    ])\n",
    "\n",
    "    # Load and preprocess the image\n",
    "    image = Image.open(image_path).convert('L')  # Convert to grayscale if necessary\n",
    "    image = transform(image).unsqueeze(0).cuda()  # Add batch dimension and move to GPU\n",
    "\n",
    "    with torch.no_grad():\n",
    "        encoded_image = vqgan_model.encode(image, quantize=False, include_embeddings=True)\n",
    "        # Normalize the encoded output to match the expected range (-1 to 1)\n",
    "        encoded_image = ((encoded_image - vqgan_model.codebook.embeddings.min()) /\n",
    "                         (vqgan_model.codebook.embeddings.max() - vqgan_model.codebook.embeddings.min())) * 2.0 - 1.0\n",
    "    return encoded_image\n",
    "\n",
    "# Step 3: Use the function to encode a new CT image\n",
    "image_path = 'path/to/ct_image.png'  # Replace with the actual path to your CT image\n",
    "encoded_image = encode_image(image_path)\n",
    "print(encoded_image.shape)  # Inspect the shape of the encoded image\n"
   ]
  },
  {
   "cell_type": "code",
   "execution_count": null,
   "id": "4a7dffc5-11fe-4fbe-91d5-4ca28134b7ac",
   "metadata": {},
   "outputs": [],
   "source": []
  }
 ],
 "metadata": {
  "kernelspec": {
   "display_name": "Python 3 (ipykernel)",
   "language": "python",
   "name": "python3"
  },
  "language_info": {
   "codemirror_mode": {
    "name": "ipython",
    "version": 3
   },
   "file_extension": ".py",
   "mimetype": "text/x-python",
   "name": "python",
   "nbconvert_exporter": "python",
   "pygments_lexer": "ipython3",
   "version": "3.8.6"
  }
 },
 "nbformat": 4,
 "nbformat_minor": 5
}
