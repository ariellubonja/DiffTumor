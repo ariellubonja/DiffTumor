{
 "cells": [
  {
   "cell_type": "markdown",
   "metadata": {},
   "source": [
    "<font color=\"gray\">\n",
    "\n",
    "### 0. Ensure CUDA and torch is loaded correctly\n",
    "\n",
    "\n",
    "Also ensure on Rockfish that you are using only 1/however GPUs you specified, not 4\n",
    "\n",
    "</font>"
   ]
  },
  {
   "cell_type": "code",
   "execution_count": null,
   "metadata": {},
   "outputs": [],
   "source": [
    "!export CUDA_VISIBLE_DEVICES=0"
   ]
  },
  {
   "cell_type": "code",
   "execution_count": 1,
   "metadata": {},
   "outputs": [
    {
     "name": "stdout",
     "output_type": "stream",
     "text": [
      "Thu Oct  3 15:46:58 2024       \n",
      "+---------------------------------------------------------------------------------------+\n",
      "| NVIDIA-SMI 530.30.02              Driver Version: 530.30.02    CUDA Version: 12.1     |\n",
      "|-----------------------------------------+----------------------+----------------------+\n",
      "| GPU  Name                  Persistence-M| Bus-Id        Disp.A | Volatile Uncorr. ECC |\n",
      "| Fan  Temp  Perf            Pwr:Usage/Cap|         Memory-Usage | GPU-Util  Compute M. |\n",
      "|                                         |                      |               MIG M. |\n",
      "|=========================================+======================+======================|\n",
      "|   0  NVIDIA A100-PCIE-40GB           On | 00000000:06:00.0 Off |                    0 |\n",
      "| N/A   66C    P0               85W / 250W|   4437MiB / 40960MiB |     53%      Default |\n",
      "|                                         |                      |             Disabled |\n",
      "+-----------------------------------------+----------------------+----------------------+\n",
      "|   1  NVIDIA A100-PCIE-40GB           On | 00000000:2F:00.0 Off |                    0 |\n",
      "| N/A   68C    P0               95W / 250W|   4437MiB / 40960MiB |     49%      Default |\n",
      "|                                         |                      |             Disabled |\n",
      "+-----------------------------------------+----------------------+----------------------+\n",
      "|   2  NVIDIA A100-PCIE-40GB           On | 00000000:86:00.0 Off |                    0 |\n",
      "| N/A   33C    P0               34W / 250W|      0MiB / 40960MiB |      0%      Default |\n",
      "|                                         |                      |             Disabled |\n",
      "+-----------------------------------------+----------------------+----------------------+\n",
      "|   3  NVIDIA A100-PCIE-40GB           On | 00000000:D8:00.0 Off |                    0 |\n",
      "| N/A   34C    P0               36W / 250W|      0MiB / 40960MiB |      0%      Default |\n",
      "|                                         |                      |             Disabled |\n",
      "+-----------------------------------------+----------------------+----------------------+\n",
      "                                                                                         \n",
      "+---------------------------------------------------------------------------------------+\n",
      "| Processes:                                                                            |\n",
      "|  GPU   GI   CI        PID   Type   Process name                            GPU Memory |\n",
      "|        ID   ID                                                             Usage      |\n",
      "|=======================================================================================|\n",
      "|    0   N/A  N/A   1419176      C   python                                     4420MiB |\n",
      "|    1   N/A  N/A   1401177      C   python                                     4420MiB |\n",
      "+---------------------------------------------------------------------------------------+\n"
     ]
    }
   ],
   "source": [
    "!nvidia-smi"
   ]
  },
  {
   "cell_type": "code",
   "execution_count": 2,
   "metadata": {},
   "outputs": [
    {
     "name": "stdout",
     "output_type": "stream",
     "text": [
      "1\n"
     ]
    }
   ],
   "source": [
    "import torch\n",
    "print(torch.cuda.device_count())"
   ]
  },
  {
   "cell_type": "markdown",
   "metadata": {},
   "source": [
    "If the below says 10.2, you will get the `sm_80` CUDA compatibility warning"
   ]
  },
  {
   "cell_type": "code",
   "execution_count": 3,
   "metadata": {},
   "outputs": [
    {
     "data": {
      "text/plain": [
       "'11.3'"
      ]
     },
     "execution_count": 3,
     "metadata": {},
     "output_type": "execute_result"
    }
   ],
   "source": [
    "torch.version.cuda"
   ]
  },
  {
   "cell_type": "markdown",
   "metadata": {},
   "source": [
    "# 1. Load Tensors"
   ]
  },
  {
   "cell_type": "code",
   "execution_count": 5,
   "metadata": {},
   "outputs": [
    {
     "name": "stdout",
     "output_type": "stream",
     "text": [
      "torch.Size([50, 55, 96, 96, 96])\n",
      "['BDMAP_00000002', 'BDMAP_00000110', 'BDMAP_00000198', 'BDMAP_00000246', 'BDMAP_00000351', 'BDMAP_00000598', 'BDMAP_00000673', 'BDMAP_00000682', 'BDMAP_00000764', 'BDMAP_00000846']\n"
     ]
    }
   ],
   "source": [
    "import torch\n",
    "import pickle\n",
    "\n",
    "# Load the tensor\n",
    "all_sampled_cubes = torch.load('data/all_sampled_cubes.pt')\n",
    "\n",
    "# Load the list of patient IDs\n",
    "with open('data/all_filtered_ids.pkl', 'rb') as f:\n",
    "    all_filtered_ids = pickle.load(f)\n",
    "\n",
    "\n",
    "print(all_sampled_cubes.shape)\n",
    "print(all_filtered_ids[:10])\n",
    "assert len(all_sampled_cubes) == len(all_filtered_ids)"
   ]
  },
  {
   "cell_type": "markdown",
   "metadata": {},
   "source": [
    "# 2. Encode Images using VQ-GAN Encoder\n",
    "\n",
    "<font color=\"color: #ff7f50;\">\n",
    "\n",
    "- [x] Take $96^3$ subcubes\n",
    "\n",
    "- - [ ] Take different size subcubes? GAN wasn't trained on different sizes\n",
    "\n",
    "</font>\n",
    "\n",
    "- [x] <font color=\"gray\"><s>Deal w/ padding</s></font>"
   ]
  },
  {
   "cell_type": "markdown",
   "metadata": {},
   "source": [
    "<font color=\"blue\">\n",
    "\n",
    "## 2.1 Load Encoder model from DiffTumor\n",
    "\n",
    "</font>"
   ]
  },
  {
   "cell_type": "code",
   "execution_count": 6,
   "metadata": {},
   "outputs": [
    {
     "name": "stdout",
     "output_type": "stream",
     "text": [
      "/scratch4/randalburns/DiffTumor/STEP1.AutoencoderModel\n"
     ]
    }
   ],
   "source": [
    "%cd STEP1.AutoencoderModel/"
   ]
  },
  {
   "cell_type": "code",
   "execution_count": 7,
   "metadata": {
    "scrolled": true
   },
   "outputs": [
    {
     "name": "stderr",
     "output_type": "stream",
     "text": [
      "/scratch4/randalburns/DiffTumor/venv-py38/lib/python3.8/site-packages/torchvision/models/_utils.py:208: UserWarning: The parameter 'pretrained' is deprecated since 0.13 and will be removed in 0.15, please use 'weights' instead.\n",
      "  warnings.warn(\n",
      "/scratch4/randalburns/DiffTumor/venv-py38/lib/python3.8/site-packages/torchvision/models/_utils.py:223: UserWarning: Arguments other than a weight enum or `None` for 'weights' are deprecated since 0.13 and will be removed in 0.15. The current behavior is equivalent to passing `weights=VGG16_Weights.IMAGENET1K_V1`. You can also use `weights=VGG16_Weights.DEFAULT` to get the most up-to-date weights.\n",
      "  warnings.warn(msg)\n"
     ]
    },
    {
     "name": "stdout",
     "output_type": "stream",
     "text": [
      "loaded pretrained LPIPS loss from /scratch4/randalburns/DiffTumor/STEP1.AutoencoderModel/vq_gan_3d/model/cache/vgg.pth\n"
     ]
    },
    {
     "data": {
      "text/plain": [
       "VQGAN(\n",
       "  (encoder): Encoder(\n",
       "    (conv_blocks): ModuleList(\n",
       "      (0): Module(\n",
       "        (down): SamePadConv3d(\n",
       "          (conv): Conv3d(16, 32, kernel_size=(4, 4, 4), stride=(2, 2, 2))\n",
       "        )\n",
       "        (res): ResBlock(\n",
       "          (norm1): GroupNorm(32, 32, eps=1e-06, affine=True)\n",
       "          (conv1): SamePadConv3d(\n",
       "            (conv): Conv3d(32, 32, kernel_size=(3, 3, 3), stride=(1, 1, 1))\n",
       "          )\n",
       "          (dropout): Dropout(p=0.0, inplace=False)\n",
       "          (norm2): GroupNorm(32, 32, eps=1e-06, affine=True)\n",
       "          (conv2): SamePadConv3d(\n",
       "            (conv): Conv3d(32, 32, kernel_size=(3, 3, 3), stride=(1, 1, 1))\n",
       "          )\n",
       "        )\n",
       "      )\n",
       "      (1): Module(\n",
       "        (down): SamePadConv3d(\n",
       "          (conv): Conv3d(32, 64, kernel_size=(4, 4, 4), stride=(2, 2, 2))\n",
       "        )\n",
       "        (res): ResBlock(\n",
       "          (norm1): GroupNorm(32, 64, eps=1e-06, affine=True)\n",
       "          (conv1): SamePadConv3d(\n",
       "            (conv): Conv3d(64, 64, kernel_size=(3, 3, 3), stride=(1, 1, 1))\n",
       "          )\n",
       "          (dropout): Dropout(p=0.0, inplace=False)\n",
       "          (norm2): GroupNorm(32, 64, eps=1e-06, affine=True)\n",
       "          (conv2): SamePadConv3d(\n",
       "            (conv): Conv3d(64, 64, kernel_size=(3, 3, 3), stride=(1, 1, 1))\n",
       "          )\n",
       "        )\n",
       "      )\n",
       "    )\n",
       "    (conv_first): SamePadConv3d(\n",
       "      (conv): Conv3d(1, 16, kernel_size=(3, 3, 3), stride=(1, 1, 1))\n",
       "    )\n",
       "    (final_block): Sequential(\n",
       "      (0): GroupNorm(32, 64, eps=1e-06, affine=True)\n",
       "      (1): SiLU()\n",
       "    )\n",
       "  )\n",
       "  (decoder): Decoder(\n",
       "    (final_block): Sequential(\n",
       "      (0): GroupNorm(32, 64, eps=1e-06, affine=True)\n",
       "      (1): SiLU()\n",
       "    )\n",
       "    (conv_blocks): ModuleList(\n",
       "      (0): Module(\n",
       "        (up): SamePadConvTranspose3d(\n",
       "          (convt): ConvTranspose3d(64, 64, kernel_size=(4, 4, 4), stride=(2, 2, 2), padding=(3, 3, 3))\n",
       "        )\n",
       "        (res1): ResBlock(\n",
       "          (norm1): GroupNorm(32, 64, eps=1e-06, affine=True)\n",
       "          (conv1): SamePadConv3d(\n",
       "            (conv): Conv3d(64, 64, kernel_size=(3, 3, 3), stride=(1, 1, 1))\n",
       "          )\n",
       "          (dropout): Dropout(p=0.0, inplace=False)\n",
       "          (norm2): GroupNorm(32, 64, eps=1e-06, affine=True)\n",
       "          (conv2): SamePadConv3d(\n",
       "            (conv): Conv3d(64, 64, kernel_size=(3, 3, 3), stride=(1, 1, 1))\n",
       "          )\n",
       "        )\n",
       "        (res2): ResBlock(\n",
       "          (norm1): GroupNorm(32, 64, eps=1e-06, affine=True)\n",
       "          (conv1): SamePadConv3d(\n",
       "            (conv): Conv3d(64, 64, kernel_size=(3, 3, 3), stride=(1, 1, 1))\n",
       "          )\n",
       "          (dropout): Dropout(p=0.0, inplace=False)\n",
       "          (norm2): GroupNorm(32, 64, eps=1e-06, affine=True)\n",
       "          (conv2): SamePadConv3d(\n",
       "            (conv): Conv3d(64, 64, kernel_size=(3, 3, 3), stride=(1, 1, 1))\n",
       "          )\n",
       "        )\n",
       "      )\n",
       "      (1): Module(\n",
       "        (up): SamePadConvTranspose3d(\n",
       "          (convt): ConvTranspose3d(64, 32, kernel_size=(4, 4, 4), stride=(2, 2, 2), padding=(3, 3, 3))\n",
       "        )\n",
       "        (res1): ResBlock(\n",
       "          (norm1): GroupNorm(32, 32, eps=1e-06, affine=True)\n",
       "          (conv1): SamePadConv3d(\n",
       "            (conv): Conv3d(32, 32, kernel_size=(3, 3, 3), stride=(1, 1, 1))\n",
       "          )\n",
       "          (dropout): Dropout(p=0.0, inplace=False)\n",
       "          (norm2): GroupNorm(32, 32, eps=1e-06, affine=True)\n",
       "          (conv2): SamePadConv3d(\n",
       "            (conv): Conv3d(32, 32, kernel_size=(3, 3, 3), stride=(1, 1, 1))\n",
       "          )\n",
       "        )\n",
       "        (res2): ResBlock(\n",
       "          (norm1): GroupNorm(32, 32, eps=1e-06, affine=True)\n",
       "          (conv1): SamePadConv3d(\n",
       "            (conv): Conv3d(32, 32, kernel_size=(3, 3, 3), stride=(1, 1, 1))\n",
       "          )\n",
       "          (dropout): Dropout(p=0.0, inplace=False)\n",
       "          (norm2): GroupNorm(32, 32, eps=1e-06, affine=True)\n",
       "          (conv2): SamePadConv3d(\n",
       "            (conv): Conv3d(32, 32, kernel_size=(3, 3, 3), stride=(1, 1, 1))\n",
       "          )\n",
       "        )\n",
       "      )\n",
       "    )\n",
       "    (conv_last): SamePadConv3d(\n",
       "      (conv): Conv3d(32, 1, kernel_size=(3, 3, 3), stride=(1, 1, 1))\n",
       "    )\n",
       "  )\n",
       "  (pre_vq_conv): SamePadConv3d(\n",
       "    (conv): Conv3d(64, 8, kernel_size=(1, 1, 1), stride=(1, 1, 1))\n",
       "  )\n",
       "  (post_vq_conv): SamePadConv3d(\n",
       "    (conv): Conv3d(8, 64, kernel_size=(1, 1, 1), stride=(1, 1, 1))\n",
       "  )\n",
       "  (codebook): Codebook()\n",
       "  (image_discriminator): NLayerDiscriminator(\n",
       "    (model0): Sequential(\n",
       "      (0): Conv2d(1, 64, kernel_size=(4, 4), stride=(2, 2), padding=(2, 2))\n",
       "      (1): LeakyReLU(negative_slope=0.2, inplace=True)\n",
       "    )\n",
       "    (model1): Sequential(\n",
       "      (0): Conv2d(64, 128, kernel_size=(4, 4), stride=(2, 2), padding=(2, 2))\n",
       "      (1): BatchNorm2d(128, eps=1e-05, momentum=0.1, affine=True, track_running_stats=True)\n",
       "      (2): LeakyReLU(negative_slope=0.2, inplace=True)\n",
       "    )\n",
       "    (model2): Sequential(\n",
       "      (0): Conv2d(128, 256, kernel_size=(4, 4), stride=(2, 2), padding=(2, 2))\n",
       "      (1): BatchNorm2d(256, eps=1e-05, momentum=0.1, affine=True, track_running_stats=True)\n",
       "      (2): LeakyReLU(negative_slope=0.2, inplace=True)\n",
       "    )\n",
       "    (model3): Sequential(\n",
       "      (0): Conv2d(256, 512, kernel_size=(4, 4), stride=(1, 1), padding=(2, 2))\n",
       "      (1): BatchNorm2d(512, eps=1e-05, momentum=0.1, affine=True, track_running_stats=True)\n",
       "      (2): LeakyReLU(negative_slope=0.2, inplace=True)\n",
       "    )\n",
       "    (model4): Sequential(\n",
       "      (0): Conv2d(512, 1, kernel_size=(4, 4), stride=(1, 1), padding=(2, 2))\n",
       "    )\n",
       "  )\n",
       "  (video_discriminator): NLayerDiscriminator3D(\n",
       "    (model0): Sequential(\n",
       "      (0): Conv3d(1, 64, kernel_size=(4, 4, 4), stride=(2, 2, 2), padding=(2, 2, 2))\n",
       "      (1): LeakyReLU(negative_slope=0.2, inplace=True)\n",
       "    )\n",
       "    (model1): Sequential(\n",
       "      (0): Conv3d(64, 128, kernel_size=(4, 4, 4), stride=(2, 2, 2), padding=(2, 2, 2))\n",
       "      (1): BatchNorm3d(128, eps=1e-05, momentum=0.1, affine=True, track_running_stats=True)\n",
       "      (2): LeakyReLU(negative_slope=0.2, inplace=True)\n",
       "    )\n",
       "    (model2): Sequential(\n",
       "      (0): Conv3d(128, 256, kernel_size=(4, 4, 4), stride=(2, 2, 2), padding=(2, 2, 2))\n",
       "      (1): BatchNorm3d(256, eps=1e-05, momentum=0.1, affine=True, track_running_stats=True)\n",
       "      (2): LeakyReLU(negative_slope=0.2, inplace=True)\n",
       "    )\n",
       "    (model3): Sequential(\n",
       "      (0): Conv3d(256, 512, kernel_size=(4, 4, 4), stride=(1, 1, 1), padding=(2, 2, 2))\n",
       "      (1): BatchNorm3d(512, eps=1e-05, momentum=0.1, affine=True, track_running_stats=True)\n",
       "      (2): LeakyReLU(negative_slope=0.2, inplace=True)\n",
       "    )\n",
       "    (model4): Sequential(\n",
       "      (0): Conv3d(512, 1, kernel_size=(4, 4, 4), stride=(1, 1, 1), padding=(2, 2, 2))\n",
       "    )\n",
       "  )\n",
       "  (perceptual_model): LPIPS(\n",
       "    (scaling_layer): ScalingLayer()\n",
       "    (net): vgg16(\n",
       "      (slice1): Sequential(\n",
       "        (0): Conv2d(3, 64, kernel_size=(3, 3), stride=(1, 1), padding=(1, 1))\n",
       "        (1): ReLU(inplace=True)\n",
       "        (2): Conv2d(64, 64, kernel_size=(3, 3), stride=(1, 1), padding=(1, 1))\n",
       "        (3): ReLU(inplace=True)\n",
       "      )\n",
       "      (slice2): Sequential(\n",
       "        (4): MaxPool2d(kernel_size=2, stride=2, padding=0, dilation=1, ceil_mode=False)\n",
       "        (5): Conv2d(64, 128, kernel_size=(3, 3), stride=(1, 1), padding=(1, 1))\n",
       "        (6): ReLU(inplace=True)\n",
       "        (7): Conv2d(128, 128, kernel_size=(3, 3), stride=(1, 1), padding=(1, 1))\n",
       "        (8): ReLU(inplace=True)\n",
       "      )\n",
       "      (slice3): Sequential(\n",
       "        (9): MaxPool2d(kernel_size=2, stride=2, padding=0, dilation=1, ceil_mode=False)\n",
       "        (10): Conv2d(128, 256, kernel_size=(3, 3), stride=(1, 1), padding=(1, 1))\n",
       "        (11): ReLU(inplace=True)\n",
       "        (12): Conv2d(256, 256, kernel_size=(3, 3), stride=(1, 1), padding=(1, 1))\n",
       "        (13): ReLU(inplace=True)\n",
       "        (14): Conv2d(256, 256, kernel_size=(3, 3), stride=(1, 1), padding=(1, 1))\n",
       "        (15): ReLU(inplace=True)\n",
       "      )\n",
       "      (slice4): Sequential(\n",
       "        (16): MaxPool2d(kernel_size=2, stride=2, padding=0, dilation=1, ceil_mode=False)\n",
       "        (17): Conv2d(256, 512, kernel_size=(3, 3), stride=(1, 1), padding=(1, 1))\n",
       "        (18): ReLU(inplace=True)\n",
       "        (19): Conv2d(512, 512, kernel_size=(3, 3), stride=(1, 1), padding=(1, 1))\n",
       "        (20): ReLU(inplace=True)\n",
       "        (21): Conv2d(512, 512, kernel_size=(3, 3), stride=(1, 1), padding=(1, 1))\n",
       "        (22): ReLU(inplace=True)\n",
       "      )\n",
       "      (slice5): Sequential(\n",
       "        (23): MaxPool2d(kernel_size=2, stride=2, padding=0, dilation=1, ceil_mode=False)\n",
       "        (24): Conv2d(512, 512, kernel_size=(3, 3), stride=(1, 1), padding=(1, 1))\n",
       "        (25): ReLU(inplace=True)\n",
       "        (26): Conv2d(512, 512, kernel_size=(3, 3), stride=(1, 1), padding=(1, 1))\n",
       "        (27): ReLU(inplace=True)\n",
       "        (28): Conv2d(512, 512, kernel_size=(3, 3), stride=(1, 1), padding=(1, 1))\n",
       "        (29): ReLU(inplace=True)\n",
       "      )\n",
       "    )\n",
       "    (lin0): NetLinLayer(\n",
       "      (model): Sequential(\n",
       "        (0): Dropout(p=0.5, inplace=False)\n",
       "        (1): Conv2d(64, 1, kernel_size=(1, 1), stride=(1, 1), bias=False)\n",
       "      )\n",
       "    )\n",
       "    (lin1): NetLinLayer(\n",
       "      (model): Sequential(\n",
       "        (0): Dropout(p=0.5, inplace=False)\n",
       "        (1): Conv2d(128, 1, kernel_size=(1, 1), stride=(1, 1), bias=False)\n",
       "      )\n",
       "    )\n",
       "    (lin2): NetLinLayer(\n",
       "      (model): Sequential(\n",
       "        (0): Dropout(p=0.5, inplace=False)\n",
       "        (1): Conv2d(256, 1, kernel_size=(1, 1), stride=(1, 1), bias=False)\n",
       "      )\n",
       "    )\n",
       "    (lin3): NetLinLayer(\n",
       "      (model): Sequential(\n",
       "        (0): Dropout(p=0.5, inplace=False)\n",
       "        (1): Conv2d(512, 1, kernel_size=(1, 1), stride=(1, 1), bias=False)\n",
       "      )\n",
       "    )\n",
       "    (lin4): NetLinLayer(\n",
       "      (model): Sequential(\n",
       "        (0): Dropout(p=0.5, inplace=False)\n",
       "        (1): Conv2d(512, 1, kernel_size=(1, 1), stride=(1, 1), bias=False)\n",
       "      )\n",
       "    )\n",
       "  )\n",
       ")"
      ]
     },
     "execution_count": 7,
     "metadata": {},
     "output_type": "execute_result"
    }
   ],
   "source": [
    "import torch\n",
    "from vq_gan_3d.model.vqgan import VQGAN\n",
    "from torchvision import transforms\n",
    "import nibabel as nib\n",
    "import numpy as np\n",
    "\n",
    "# Load the pretrained VQGAN model\n",
    "vqgan_ckpt = '../STEP2.DiffusionModel/pretrained_models/AutoencoderModel.ckpt'\n",
    "vqgan_model = VQGAN.load_from_checkpoint(vqgan_ckpt).cuda()\n",
    "vqgan_model.eval()"
   ]
  },
  {
   "cell_type": "code",
   "execution_count": 8,
   "metadata": {},
   "outputs": [
    {
     "name": "stdout",
     "output_type": "stream",
     "text": [
      "/scratch4/randalburns/DiffTumor\n"
     ]
    }
   ],
   "source": [
    "%cd .."
   ]
  },
  {
   "cell_type": "markdown",
   "metadata": {},
   "source": [
    "## 2.2 Input Images into Encoder\n",
    "\n",
    "Do not use Codebook for first run. Use plain Encoder output\n",
    "\n",
    "- [ ] Fix error when running with Tiling\n",
    "- [X] Loop over all images - both Healthy and Unhealthy\n",
    "- [ ] Future: plot Codebook itself\n",
    "- [X] <font color=\"gray\"><s>Why 12 extra channels? Just no. tiles that fit in image</s></font>"
   ]
  },
  {
   "cell_type": "code",
   "execution_count": 14,
   "metadata": {},
   "outputs": [],
   "source": [
    "from tqdm import tqdm\n",
    "\n",
    "# Define a function to encode 3D CT scans using the encoder from VQGAN\n",
    "def encode_ct_scan(img_data):\n",
    "    img_data_tensor = torch.tensor(img_data, dtype=torch.float32).to(vqgan_model.device)\n",
    "    img_data_tensor = img_data_tensor.unsqueeze(0).unsqueeze(0)  # Add batch and channel dimension (B, C, D, H, W)\n",
    "\n",
    "    with torch.no_grad():\n",
    "        encoded_img = vqgan_model.encode(img_data_tensor, quantize=False, include_embeddings=True)\n",
    "\n",
    "    return encoded_img.cpu()\n",
    "\n",
    "\n",
    "def encode_ct_scans_batch(img_data_batch, model, device='cuda', batch_size=16):\n",
    "    \"\"\"\n",
    "    Encodes a batch of 3D CT scan cubes using the VQGAN encoder.\n",
    "\n",
    "    Args:\n",
    "        img_data_batch (torch.Tensor): Tensor of shape (N, 1, D, H, W).\n",
    "        model (VQGAN): The pretrained VQGAN model.\n",
    "        device (str): Device to perform computation on ('cuda' or 'cpu').\n",
    "        batch_size (int): Number of samples to process in each sub-batch.\n",
    "\n",
    "    Returns:\n",
    "        torch.Tensor: Encoded tensor of shape (N, 8, 24, 24, 24).\n",
    "    \"\"\"\n",
    "    encoded_batches = []\n",
    "    num_samples = img_data_batch.size(0)\n",
    "    \n",
    "    with torch.no_grad():\n",
    "        for start_idx in tqdm(range(0, num_samples, batch_size), desc=\"Encoding Batches\"):\n",
    "            end_idx = min(start_idx + batch_size, num_samples)\n",
    "            batch = img_data_batch[start_idx:end_idx].to(device)  # Shape: (batch_size, 1, 96, 96, 96)\n",
    "            \n",
    "            # Pass through the encoder\n",
    "            encoded = model.encode(batch, quantize=False, include_embeddings=True)  # Assuming output shape: (batch_size, 8, 24, 24, 24)\n",
    "            \n",
    "            encoded_batches.append(encoded.cpu())\n",
    "    \n",
    "    # Concatenate all encoded batches\n",
    "    encoded_all = torch.cat(encoded_batches, dim=0)  # Shape: (N, 8, 24, 24, 24)\n",
    "    return encoded_all"
   ]
  },
  {
   "cell_type": "code",
   "execution_count": 11,
   "metadata": {},
   "outputs": [],
   "source": [
    "# enc_img = encode_ct_scan(list(healthy_cubes.values())[0][0])\n",
    "# print(enc_img.shape)"
   ]
  },
  {
   "cell_type": "code",
   "execution_count": 12,
   "metadata": {},
   "outputs": [],
   "source": [
    "def encode_all_cts(all_sampled_cubes, vqgan_model, batch_size=16):\n",
    "    \"\"\"\n",
    "    Encodes all CT scan cubes and returns the encoded tensor and corresponding patient IDs.\n",
    "\n",
    "    Args:\n",
    "        all_sampled_cubes (torch.Tensor): Tensor of shape [52, 55, 96, 96, 96].\n",
    "        vqgan_model (VQGAN): The pretrained VQGAN model.\n",
    "        batch_size (int): Batch size for encoding.\n",
    "\n",
    "    Returns:\n",
    "        torch.Tensor: Encoded tensor of shape [52, 55, 8, 24, 24, 24].\n",
    "    \"\"\"\n",
    "    num_cts, num_cubes, D, H, W = all_sampled_cubes.shape\n",
    "    total_cubes = num_cts * num_cubes\n",
    "\n",
    "    # Reshape to [N, 1, D, H, W]\n",
    "    all_cubes_reshaped = all_sampled_cubes.view(total_cubes, 1, D, H, W)  # Shape: [52*55, 1, 96, 96, 96]\n",
    "    \n",
    "    # Encode in batches\n",
    "    encoded_cubes = encode_ct_scans_batch(all_cubes_reshaped, vqgan_model, device='cuda', batch_size=batch_size)\n",
    "    # Shape: [52*55, 8, 24, 24, 24]\n",
    "    \n",
    "    # Reshape back to [52, 55, 8, 24, 24, 24]\n",
    "    encoded_cubes_final = encoded_cubes.view(num_cts, num_cubes, 8, 24, 24, 24)\n",
    "    \n",
    "    return encoded_cubes_final"
   ]
  },
  {
   "cell_type": "code",
   "execution_count": null,
   "metadata": {},
   "outputs": [],
   "source": [
    "all_encoded_cubes = encode_all_cts(all_sampled_cubes, vqgan_model, batch_size=16)\n"
   ]
  },
  {
   "cell_type": "code",
   "execution_count": 15,
   "metadata": {},
   "outputs": [
    {
     "name": "stderr",
     "output_type": "stream",
     "text": [
      "Encoding Batches: 100%|███████████████████████████████████████████████████████████████████████████████████| 172/172 [00:23<00:00,  7.30it/s]\n"
     ]
    }
   ],
   "source": [
    "all_encoded_cubes = encode_all_cts(all_sampled_cubes, vqgan_model, batch_size=16)"
   ]
  },
  {
   "cell_type": "code",
   "execution_count": 16,
   "metadata": {},
   "outputs": [],
   "source": [
    "def save_encoded_data(encoded_tensor, patient_ids, tensor_path='all_encoded_cubes.pt', ids_path='all_filtered_ids.pkl'):\n",
    "    \"\"\"\n",
    "    Saves the encoded tensor and patient IDs to disk.\n",
    "\n",
    "    Args:\n",
    "        encoded_tensor (torch.Tensor): Encoded tensor to save.\n",
    "        patient_ids (List[str]): List of patient IDs.\n",
    "        tensor_path (str): File path to save the tensor.\n",
    "        ids_path (str): File path to save the patient IDs.\n",
    "    \"\"\"\n",
    "    import torch\n",
    "    import pickle\n",
    "\n",
    "    # Save the tensor\n",
    "    torch.save(encoded_tensor, tensor_path)\n",
    "    print(f\"Encoded tensor saved to {tensor_path}\")\n",
    "\n",
    "    # Save the patient IDs\n",
    "    with open(ids_path, 'wb') as f:\n",
    "        pickle.dump(patient_ids, f)\n",
    "    print(f\"Patient IDs saved to {ids_path}\")"
   ]
  },
  {
   "cell_type": "code",
   "execution_count": 17,
   "metadata": {},
   "outputs": [
    {
     "name": "stdout",
     "output_type": "stream",
     "text": [
      "Encoded tensor saved to all_encoded_cubes.pt\n",
      "Patient IDs saved to all_filtered_ids.pkl\n"
     ]
    }
   ],
   "source": [
    "save_encoded_data(all_encoded_cubes, all_filtered_ids, tensor_path='data/all_encoded_cubes.pt', ids_path='data/all_filtered_ids.pkl')"
   ]
  },
  {
   "cell_type": "code",
   "execution_count": null,
   "metadata": {},
   "outputs": [],
   "source": [
    "# enc_pancreatic_tumor_cubes = encode_cubes_for_all_cts(pancreatic_tumor_cubes)\n",
    "# len(enc_pancreatic_tumor_cubes)"
   ]
  },
  {
   "cell_type": "code",
   "execution_count": 18,
   "metadata": {},
   "outputs": [
    {
     "data": {
      "text/plain": [
       "torch.Size([50, 55, 8, 24, 24, 24])"
      ]
     },
     "execution_count": 18,
     "metadata": {},
     "output_type": "execute_result"
    }
   ],
   "source": [
    "all_encoded_cubes.shape"
   ]
  },
  {
   "cell_type": "markdown",
   "metadata": {
    "jp-MarkdownHeadingCollapsed": true
   },
   "source": [
    "## 2.3 Plot Encoded Image. How do these encoded image channels look like?\n",
    "- [X] Use Gray cmap\n",
    "- [x] Flip 90deg so front faces up\n",
    "- [X] Re-create nii.gz file?"
   ]
  },
  {
   "cell_type": "code",
   "execution_count": null,
   "metadata": {},
   "outputs": [],
   "source": [
    "raw_img = healthy_cts_dict['BDMAP_00000002']"
   ]
  },
  {
   "cell_type": "code",
   "execution_count": null,
   "metadata": {},
   "outputs": [],
   "source": [
    "enc_img = enc_healthy_cubes['BDMAP_00000002'][0].squeeze()"
   ]
  },
  {
   "cell_type": "code",
   "execution_count": null,
   "metadata": {},
   "outputs": [],
   "source": [
    "from matplotlib import pyplot as plt\n",
    "\n",
    "plt.imshow(raw_img.get_fdata()[:,:,15])"
   ]
  },
  {
   "cell_type": "code",
   "execution_count": null,
   "metadata": {},
   "outputs": [
    {
     "data": {
      "text/plain": [
       "torch.Size([8, 24, 24, 24])"
      ]
     },
     "metadata": {},
     "output_type": "display_data"
    }
   ],
   "source": [
    "enc_img.shape"
   ]
  },
  {
   "cell_type": "code",
   "execution_count": null,
   "metadata": {},
   "outputs": [
    {
     "data": {
      "text/plain": [
       "<Figure size 640x480 with 0 Axes>"
      ]
     },
     "metadata": {},
     "output_type": "display_data"
    },
    {
     "data": {
      "image/png": "[encoded data removed]",
      "text/plain": [
       "<Figure size 640x480 with 2 Axes>"
      ]
     },
     "metadata": {},
     "output_type": "display_data"
    },
    {
     "data": {
      "text/plain": [
       "<Figure size 640x480 with 0 Axes>"
      ]
     },
     "metadata": {},
     "output_type": "display_data"
    },
    {
     "data": {
      "image/png": "[encoded data removed]",
      "text/plain": [
       "<Figure size 640x480 with 2 Axes>"
      ]
     },
     "metadata": {},
     "output_type": "display_data"
    },
    {
     "data": {
      "text/plain": [
       "<Figure size 640x480 with 0 Axes>"
      ]
     },
     "metadata": {},
     "output_type": "display_data"
    },
    {
     "data": {
      "image/png": "[encoded data removed]",
      "text/plain": [
       "<Figure size 640x480 with 2 Axes>"
      ]
     },
     "metadata": {},
     "output_type": "display_data"
    },
    {
     "data": {
      "text/plain": [
       "<Figure size 640x480 with 0 Axes>"
      ]
     },
     "metadata": {},
     "output_type": "display_data"
    },
    {
     "data": {
      "image/png": "[encoded data removed]",
      "text/plain": [
       "<Figure size 640x480 with 2 Axes>"
      ]
     },
     "metadata": {},
     "output_type": "display_data"
    },
    {
     "data": {
      "text/plain": [
       "<Figure size 640x480 with 0 Axes>"
      ]
     },
     "metadata": {},
     "output_type": "display_data"
    },
    {
     "data": {
      "image/png": "[encoded data removed]",
      "text/plain": [
       "<Figure size 640x480 with 2 Axes>"
      ]
     },
     "metadata": {},
     "output_type": "display_data"
    },
    {
     "data": {
      "text/plain": [
       "<Figure size 640x480 with 0 Axes>"
      ]
     },
     "metadata": {},
     "output_type": "display_data"
    },
    {
     "data": {
      "image/png": "[encoded data removed]",
      "text/plain": [
       "<Figure size 640x480 with 2 Axes>"
      ]
     },
     "metadata": {},
     "output_type": "display_data"
    },
    {
     "data": {
      "text/plain": [
       "<Figure size 640x480 with 0 Axes>"
      ]
     },
     "metadata": {},
     "output_type": "display_data"
    },
    {
     "data": {
      "image/png": "[encoded data removed]",
      "text/plain": [
       "<Figure size 640x480 with 2 Axes>"
      ]
     },
     "metadata": {},
     "output_type": "display_data"
    },
    {
     "data": {
      "text/plain": [
       "<Figure size 640x480 with 0 Axes>"
      ]
     },
     "metadata": {},
     "output_type": "display_data"
    },
    {
     "data": {
      "image/png": "[encoded data removed]",
      "text/plain": [
       "<Figure size 640x480 with 2 Axes>"
      ]
     },
     "metadata": {},
     "output_type": "display_data"
    }
   ],
   "source": [
    "from matplotlib import pyplot as plt\n",
    "import numpy as np\n",
    "\n",
    "slice_idx = 15#60 // 4\n",
    "\n",
    "vmin = enc_img[:, :, :, slice_idx].min().item()\n",
    "vmax = enc_img[:, :, :, slice_idx].max().item()\n",
    "\n",
    "for channel in range(enc_img.shape[0]):\n",
    "    plt.figure()\n",
    "    fig, ax = plt.subplots()\n",
    "\n",
    "    # Rotate the image 90 degrees counterclockwise\n",
    "    rotated_img = np.rot90(enc_img[channel, :, :, slice_idx].cpu().numpy())\n",
    "\n",
    "    plt.imshow(rotated_img, vmin=vmin, vmax=vmax, cmap=\"gray\")\n",
    "    plt.title(f\"Channel {channel+1}\")\n",
    "\n",
    "    plt.colorbar()\n",
    "    \n",
    "    plt.axis('off')  # Remove axis for cleaner visualization\n",
    "    \n",
    "    \n",
    "    plt.show()"
   ]
  },
  {
   "cell_type": "markdown",
   "metadata": {},
   "source": [
    "<font color=\"Purple\">\n",
    "\n",
    "#### GAN Hates -1000 Padded images, why?\n",
    "\n",
    "</font>\n",
    "\n",
    "gives checkerboard output"
   ]
  },
  {
   "cell_type": "markdown",
   "metadata": {
    "jp-MarkdownHeadingCollapsed": true
   },
   "source": [
    "## 2.4 (Optional) Save/Load Stuff from Disk"
   ]
  },
  {
   "cell_type": "markdown",
   "metadata": {},
   "source": [
    "### 2.4.1 Save Enc_cubes as dict object using Pickle"
   ]
  },
  {
   "cell_type": "code",
   "execution_count": null,
   "metadata": {},
   "outputs": [],
   "source": [
    "encoded_images_dir = os.path.join(data_folder, \"encoded_imgs\")"
   ]
  },
  {
   "cell_type": "markdown",
   "metadata": {},
   "source": [
    "#### 2.4.1.1 Save to Pickle"
   ]
  },
  {
   "cell_type": "code",
   "execution_count": null,
   "metadata": {},
   "outputs": [],
   "source": [
    "import pickle\n",
    "\n",
    "with open(os.path.join(encoded_images_dir, 'enc_healthy_cubes.pkl'), 'wb') as f:\n",
    "    pickle.dump(enc_healthy_cubes, f)\n",
    "\n",
    "with open(os.path.join(encoded_images_dir, 'enc_pancreatic_tumor_cubes.pkl'), 'wb') as f:\n",
    "    pickle.dump(enc_pancreatic_tumor_cubes, f)"
   ]
  },
  {
   "cell_type": "markdown",
   "metadata": {},
   "source": [
    "#### 2.4.1.2 Load from Pickle"
   ]
  },
  {
   "cell_type": "code",
   "execution_count": null,
   "metadata": {},
   "outputs": [
    {
     "data": {
      "text/plain": [
       "'./data/encoded_imgs/enc_healthy_cubes.pkl'"
      ]
     },
     "metadata": {},
     "output_type": "display_data"
    }
   ],
   "source": [
    "os.path.join(encoded_images_dir, 'enc_healthy_cubes.pkl')"
   ]
  },
  {
   "cell_type": "code",
   "execution_count": null,
   "metadata": {},
   "outputs": [],
   "source": [
    "import pickle\n",
    "\n",
    "with open(os.path.join(encoded_images_dir, 'enc_healthy_cubes.pkl'), 'rb') as f:\n",
    "    enc_healthy_cubes = pickle.load(f)\n",
    "\n",
    "with open(os.path.join(encoded_images_dir, 'enc_pancreatic_tumor_cubes.pkl'), 'rb') as f:\n",
    "    enc_pancreatic_tumor_cubes = pickle.load(f)"
   ]
  },
  {
   "cell_type": "code",
   "execution_count": null,
   "metadata": {},
   "outputs": [
    {
     "name": "stdout",
     "output_type": "stream",
     "text": [
      "len enc_healthy_cubes: 42\n",
      "len enc_pancreatic_tumor_cubes: 37\n"
     ]
    }
   ],
   "source": [
    "print(\"len enc_healthy_cubes:\", len(enc_healthy_cubes))\n",
    "print(\"len enc_pancreatic_tumor_cubes:\", len(enc_pancreatic_tumor_cubes))"
   ]
  },
  {
   "cell_type": "markdown",
   "metadata": {},
   "source": [
    "### 2.4.1 Save/Load encoded images as NII.GZ for viewing in ITK-SNAP"
   ]
  },
  {
   "cell_type": "code",
   "execution_count": null,
   "metadata": {},
   "outputs": [],
   "source": [
    "encoded_imgs_folder = \"encoded_imgs\"\n",
    "healthy_enc_imgs_folder = os.path.join(data_folder, encoded_imgs_folder, \"healthy-pancreas\")\n",
    "pancreatic_tumor_enc_imgs_folder = os.path.join(data_folder, encoded_imgs_folder, \"pancreatic-tumor\")"
   ]
  },
  {
   "cell_type": "code",
   "execution_count": null,
   "metadata": {},
   "outputs": [
    {
     "name": "stderr",
     "output_type": "stream",
     "text": [
      "Saving NIfTI files: 100%|██████████| 42/42 [00:28<00:00,  1.45image/s]"
     ]
    },
    {
     "name": "stdout",
     "output_type": "stream",
     "text": [
      "All NIfTI files saved successfully in './data/encoded_imgs/healthy-pancreas'\n"
     ]
    },
    {
     "name": "stderr",
     "output_type": "stream",
     "text": [
      "\n"
     ]
    }
   ],
   "source": [
    "save_images_as_nifti(healthy_pancreas_enc_img_pairs, healthy_enc_imgs_folder)"
   ]
  },
  {
   "cell_type": "code",
   "execution_count": null,
   "metadata": {},
   "outputs": [
    {
     "name": "stderr",
     "output_type": "stream",
     "text": [
      "Saving NIfTI files: 100%|██████████| 89/89 [00:28<00:00,  3.13image/s]"
     ]
    },
    {
     "name": "stdout",
     "output_type": "stream",
     "text": [
      "All NIfTI files saved successfully in './data/encoded_imgs/pancreatic-tumor'\n"
     ]
    },
    {
     "name": "stderr",
     "output_type": "stream",
     "text": [
      "\n"
     ]
    }
   ],
   "source": [
    "save_images_as_nifti(pancreas_tumor_enc_img_pairs, pancreatic_tumor_enc_imgs_folder)"
   ]
  },
  {
   "cell_type": "markdown",
   "metadata": {},
   "source": [
    "### 2.4.1 (Optional) Directly load saved encoded images"
   ]
  },
  {
   "cell_type": "code",
   "execution_count": null,
   "metadata": {},
   "outputs": [],
   "source": [
    "import os\n",
    "\n",
    "encoded_imgs_folder = \"encoded_imgs\"\n",
    "healthy_enc_imgs_folder = os.path.join(data_folder, encoded_imgs_folder, \"healthy-pancreas\")\n",
    "pancreatic_tumor_enc_imgs_folder = os.path.join(data_folder, encoded_imgs_folder, \"pancreatic-tumor\")"
   ]
  },
  {
   "cell_type": "code",
   "execution_count": null,
   "metadata": {},
   "outputs": [],
   "source": [
    "healthy_patient_enc_img_folders = [os.path.join(healthy_enc_imgs_folder, j) for j in healthy_pancreas_ids]\n",
    "pancreatic_tumor_enc_img_folders = [os.path.join(pancreatic_tumor_enc_imgs_folder, j) for j in pancreatic_tumor_ids]"
   ]
  },
  {
   "cell_type": "code",
   "execution_count": null,
   "metadata": {},
   "outputs": [],
   "source": [
    "from tqdm import tqdm\n",
    "import nibabel as nib\n",
    "\n",
    "def load_encoded_imgs_in_folders(folders_list: list):\n",
    "    encoded_cts = []\n",
    "    for path in tqdm(folders_list, desc=\"Loading Encoded CT Scans\"):\n",
    "        encoded_cts.append(nib.load(os.path.join(path, ct_filename)).get_fdata())\n",
    "\n",
    "    return encoded_cts"
   ]
  },
  {
   "cell_type": "code",
   "execution_count": null,
   "metadata": {},
   "outputs": [
    {
     "name": "stderr",
     "output_type": "stream",
     "text": [
      "Loading Encoded CT Scans: 100%|██████████| 42/42 [00:02<00:00, 18.20it/s]\n",
      "Loading Encoded CT Scans: 100%|██████████| 89/89 [00:02<00:00, 38.03it/s]\n"
     ]
    }
   ],
   "source": [
    "healthy_pancreas_enc_imgs = load_encoded_imgs_in_folders(healthy_patient_enc_img_folders)\n",
    "pancreatic_tumor_enc_imgs = load_encoded_imgs_in_folders(pancreatic_tumor_enc_img_folders)"
   ]
  },
  {
   "cell_type": "code",
   "execution_count": null,
   "metadata": {},
   "outputs": [
    {
     "data": {
      "text/plain": [
       "numpy.ndarray"
      ]
     },
     "metadata": {},
     "output_type": "display_data"
    }
   ],
   "source": [
    "type(healthy_pancreas_enc_imgs[0])"
   ]
  },
  {
   "cell_type": "code",
   "execution_count": null,
   "metadata": {},
   "outputs": [
    {
     "data": {
      "text/plain": [
       "(100, 78, 50, 8)"
      ]
     },
     "metadata": {},
     "output_type": "display_data"
    }
   ],
   "source": [
    "healthy_pancreas_enc_imgs[0].shape"
   ]
  },
  {
   "cell_type": "code",
   "execution_count": null,
   "metadata": {},
   "outputs": [
    {
     "data": {
      "text/plain": [
       "<matplotlib.image.AxesImage at 0x1178a8490>"
      ]
     },
     "metadata": {},
     "output_type": "display_data"
    },
    {
     "data": {
      "image/png": "[encoded data removed]",
      "text/plain": [
       "<Figure size 640x480 with 1 Axes>"
      ]
     },
     "metadata": {},
     "output_type": "display_data"
    }
   ],
   "source": [
    "from matplotlib import pyplot as plt\n",
    "\n",
    "\n",
    "plt.imshow(healthy_pancreas_enc_imgs[0][:,:,0, 0])"
   ]
  }
 ],
 "metadata": {
  "kernelspec": {
   "display_name": "Python 3 (ipykernel)",
   "language": "python",
   "name": "python3"
  },
  "language_info": {
   "codemirror_mode": {
    "name": "ipython",
    "version": 3
   },
   "file_extension": ".py",
   "mimetype": "text/x-python",
   "name": "python",
   "nbconvert_exporter": "python",
   "pygments_lexer": "ipython3",
   "version": "3.11.9"
  }
 },
 "nbformat": 4,
 "nbformat_minor": 4
}
