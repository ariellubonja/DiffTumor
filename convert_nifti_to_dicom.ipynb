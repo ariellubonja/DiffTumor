{
 "cells": [
  {
   "cell_type": "code",
   "execution_count": 1,
   "metadata": {},
   "outputs": [],
   "source": [
    "import os\n",
    "\n",
    "# Define the HuggingFace repository and local path\n",
    "ct_filename = \"ct.nii.gz\"\n",
    "segmentations_dir = \"segmentations\"\n",
    "pancreas_segmentations_filename = os.path.join(segmentations_dir, \"pancreas.nii.gz\")\n",
    "\n",
    "data_folder = \"./data\"\n",
    "healthy_pancreas_data_path = os.path.join(data_folder, \"healthy-pancreas\")\n",
    "unhealthy_pancreas_data_path = os.path.join(data_folder, \"pancreatic-tumor\")\n",
    "\n",
    "os.makedirs(healthy_pancreas_data_path, exist_ok=True)\n",
    "os.makedirs(unhealthy_pancreas_data_path, exist_ok=True)"
   ]
  },
  {
   "cell_type": "code",
   "execution_count": 2,
   "metadata": {},
   "outputs": [
    {
     "data": {
      "text/plain": [
       "'./data/healthy-pancreas'"
      ]
     },
     "execution_count": 2,
     "metadata": {},
     "output_type": "execute_result"
    }
   ],
   "source": [
    "healthy_pancreas_data_path"
   ]
  },
  {
   "cell_type": "code",
   "execution_count": 3,
   "metadata": {},
   "outputs": [],
   "source": [
    "import os\n",
    "import nibabel as nib\n",
    "import pydicom\n",
    "from pydicom.uid import generate_uid\n",
    "import numpy as np\n",
    "\n",
    "# Function to load data and get patient folder names\n",
    "def Load_Data(data_dir):\n",
    "    \"\"\"\n",
    "    Loads NIfTI files from the specified directory.\n",
    "    Args:\n",
    "        data_dir (str): Path to the directory containing NIfTI files.\n",
    "    Returns:\n",
    "        list of tuples: List of (nifti_file_path, patient_folder_name)\n",
    "    \"\"\"\n",
    "    nifti_files = []\n",
    "    for root, dirs, files in os.walk(data_dir):\n",
    "        for file in files:\n",
    "            if file.endswith('ct.nii.gz'):\n",
    "                nifti_file_path = os.path.join(root, file)\n",
    "                patient_folder_name = os.path.basename(root)\n",
    "                nifti_files.append((nifti_file_path, patient_folder_name))\n",
    "    return nifti_files\n",
    "\n",
    "# Define the paths to your data directories\n",
    "healthy_data_dir = healthy_pancreas_data_path\n",
    "unhealthy_data_dir = unhealthy_pancreas_data_path\n",
    "\n",
    "# Load NIfTI files using your Load_Data function\n",
    "healthy_nifti_files = Load_Data(healthy_data_dir)\n",
    "unhealthy_nifti_files = Load_Data(unhealthy_data_dir)\n",
    "\n",
    "# Define the output directories\n",
    "healthy_output_dir = os.path.join(data_folder, 'dicom/healthy')\n",
    "unhealthy_output_dir = os.path.join(data_folder, 'dicom/unhealthy')\n",
    "\n",
    "# Create output directories if they don't exist\n",
    "os.makedirs(healthy_output_dir, exist_ok=True)\n",
    "os.makedirs(unhealthy_output_dir, exist_ok=True)\n"
   ]
  },
  {
   "cell_type": "code",
   "execution_count": 4,
   "metadata": {},
   "outputs": [
    {
     "data": {
      "text/plain": [
       "42"
      ]
     },
     "execution_count": 4,
     "metadata": {},
     "output_type": "execute_result"
    }
   ],
   "source": [
    "len(healthy_nifti_files)"
   ]
  },
  {
   "cell_type": "code",
   "execution_count": 18,
   "metadata": {},
   "outputs": [],
   "source": [
    "def convert_nifti_to_dicom(nifti_file, output_dir, patient_name='Anonymous', patient_id='123456'):\n",
    "    import os\n",
    "    import nibabel as nib\n",
    "    import pydicom\n",
    "    from pydicom.uid import generate_uid, PYDICOM_IMPLEMENTATION_UID\n",
    "    import numpy as np\n",
    "\n",
    "    # Helper function to format DS values\n",
    "    def format_ds(value):\n",
    "        return ('%.10g' % value)[:16]\n",
    "\n",
    "    # Load NIfTI file\n",
    "    nifti_image = nib.load(nifti_file)\n",
    "    image_data = nifti_image.get_fdata()\n",
    "    affine = nifti_image.affine.copy()\n",
    "    header = nifti_image.header\n",
    "\n",
    "    # Flip the image data along the Y-axis\n",
    "    image_data = np.flip(image_data, axis=0)\n",
    "\n",
    "    # Adjust the affine matrix to account for the flip\n",
    "    affine[:, 1] *= -1\n",
    "    affine[:3, 3] += affine[:3, 1] * (image_data.shape[1] - 1)\n",
    "\n",
    "    # Get the number of slices\n",
    "    num_slices = image_data.shape[2]\n",
    "\n",
    "    # Generate UIDs\n",
    "    study_instance_uid = generate_uid()\n",
    "    series_instance_uid = generate_uid()\n",
    "    frame_of_reference_uid = generate_uid()\n",
    "\n",
    "    # Compute the pixel spacings\n",
    "    delta_i = np.linalg.norm(affine[:3, 0])  # Spacing along rows (axis 0)\n",
    "    delta_j = np.linalg.norm(affine[:3, 1])  # Spacing along columns (axis 1)\n",
    "    delta_k = np.linalg.norm(affine[:3, 2])  # Spacing between slices\n",
    "\n",
    "    # Compute direction cosines\n",
    "    row_cosines = affine[:3, 1] / delta_j  # Direction along increasing column index (axis 1)\n",
    "    column_cosines = affine[:3, 0] / delta_i  # Direction along increasing row index (axis 0)\n",
    "\n",
    "    # Set PixelSpacing and SliceThickness\n",
    "    pixel_spacing = [format_ds(delta_j), format_ds(delta_i)]  # [spacing between columns, spacing between rows]\n",
    "    slice_thickness = format_ds(delta_k)\n",
    "\n",
    "    # ImageOrientationPatient\n",
    "    image_orientation_patient = [\n",
    "        format_ds(row_cosines[0]), format_ds(row_cosines[1]), format_ds(row_cosines[2]),\n",
    "        format_ds(column_cosines[0]), format_ds(column_cosines[1]), format_ds(column_cosines[2])\n",
    "    ]\n",
    "\n",
    "    # Loop over slices\n",
    "    for i in range(num_slices):\n",
    "        slice_data = image_data[:, :, i]\n",
    "\n",
    "        # Create a new DICOM dataset\n",
    "        ds = pydicom.Dataset()\n",
    "\n",
    "        # File Meta Information\n",
    "        file_meta = pydicom.Dataset()\n",
    "        file_meta.MediaStorageSOPClassUID = pydicom.uid.CTImageStorage\n",
    "        sop_instance_uid = generate_uid()\n",
    "        file_meta.MediaStorageSOPInstanceUID = sop_instance_uid\n",
    "        file_meta.TransferSyntaxUID = pydicom.uid.ExplicitVRLittleEndian\n",
    "        file_meta.ImplementationClassUID = PYDICOM_IMPLEMENTATION_UID\n",
    "        ds.file_meta = file_meta\n",
    "\n",
    "        # Set the transfer syntax\n",
    "        ds.is_little_endian = True\n",
    "        ds.is_implicit_VR = False\n",
    "\n",
    "        # Populate required values\n",
    "        ds.SOPClassUID = file_meta.MediaStorageSOPClassUID\n",
    "        ds.SOPInstanceUID = sop_instance_uid\n",
    "\n",
    "        # Patient Module\n",
    "        ds.PatientName = patient_name\n",
    "        ds.PatientID = patient_id\n",
    "\n",
    "        # General Study Module\n",
    "        ds.StudyInstanceUID = study_instance_uid\n",
    "\n",
    "        # General Series Module\n",
    "        ds.Modality = 'CT'\n",
    "        ds.SeriesInstanceUID = series_instance_uid\n",
    "        ds.SeriesNumber = 1\n",
    "\n",
    "        # Frame of Reference Module\n",
    "        ds.FrameOfReferenceUID = frame_of_reference_uid\n",
    "\n",
    "        # Image Plane Module\n",
    "        voxel_coord = np.array([0, 0, i, 1])\n",
    "        position = affine @ voxel_coord\n",
    "        ds.ImagePositionPatient = [\n",
    "            format_ds(position[0]), format_ds(position[1]), format_ds(position[2])\n",
    "        ]\n",
    "        ds.ImageOrientationPatient = image_orientation_patient\n",
    "        ds.PixelSpacing = pixel_spacing\n",
    "        ds.SliceThickness = slice_thickness\n",
    "\n",
    "        # Image Pixel Module\n",
    "        ds.SamplesPerPixel = 1\n",
    "        ds.PhotometricInterpretation = 'MONOCHROME2'\n",
    "        ds.Rows, ds.Columns = slice_data.shape\n",
    "        ds.BitsAllocated = 16\n",
    "        ds.BitsStored = 16\n",
    "        ds.HighBit = 15\n",
    "        ds.PixelRepresentation = 1  # 0 for unsigned, 1 for signed data\n",
    "\n",
    "        # Instance Module\n",
    "        ds.InstanceNumber = i + 1\n",
    "\n",
    "        # Set Pixel Data\n",
    "        pixel_array = slice_data.astype(np.int16)\n",
    "        ds.PixelData = pixel_array.tobytes()\n",
    "\n",
    "        # Save DICOM file\n",
    "        base_filename = os.path.splitext(os.path.basename(nifti_file))[0]\n",
    "        filename = os.path.join(output_dir, f'{base_filename}_slice_{i+1:04d}.dcm')\n",
    "        ds.save_as(filename, write_like_original=False)"
   ]
  },
  {
   "cell_type": "code",
   "execution_count": 19,
   "metadata": {},
   "outputs": [
    {
     "data": {
      "text/plain": [
       "('./data/healthy-pancreas/BDMAP_00000682/ct.nii.gz', 'BDMAP_00000682')"
      ]
     },
     "execution_count": 19,
     "metadata": {},
     "output_type": "execute_result"
    }
   ],
   "source": [
    "healthy_nifti_files[0]"
   ]
  },
  {
   "cell_type": "code",
   "execution_count": 20,
   "metadata": {},
   "outputs": [
    {
     "data": {
      "text/plain": [
       "'BDMAP_00004480'"
      ]
     },
     "execution_count": 20,
     "metadata": {},
     "output_type": "execute_result"
    }
   ],
   "source": [
    "healthy_nifti_files[1][1]"
   ]
  },
  {
   "cell_type": "code",
   "execution_count": 21,
   "metadata": {},
   "outputs": [
    {
     "name": "stdout",
     "output_type": "stream",
     "text": [
      "('R', 'A', 'S')\n"
     ]
    }
   ],
   "source": [
    "print(nib.aff2axcodes(nib.load(healthy_nifti_files[0][0]).affine))"
   ]
  },
  {
   "cell_type": "code",
   "execution_count": 22,
   "metadata": {},
   "outputs": [],
   "source": [
    "for f in healthy_nifti_files:\n",
    "    assert nib.aff2axcodes(nib.load(f[0]).affine) == ('R', 'A', 'S')"
   ]
  },
  {
   "cell_type": "code",
   "execution_count": 23,
   "metadata": {},
   "outputs": [],
   "source": [
    "import os\n",
    "import shutil\n",
    "\n",
    "for patient_id in healthy_nifti_files:\n",
    "    patient_id = patient_id[1]\n",
    "    dir_path = os.path.join(healthy_output_dir, patient_id)\n",
    "    \n",
    "    # Delete the directory if it exists\n",
    "    if os.path.exists(dir_path):\n",
    "        shutil.rmtree(dir_path)\n",
    "    \n",
    "    # Recreate the directory\n",
    "    os.makedirs(dir_path)"
   ]
  },
  {
   "cell_type": "code",
   "execution_count": 24,
   "metadata": {},
   "outputs": [],
   "source": [
    "import os\n",
    "import shutil\n",
    "\n",
    "for patient_id in unhealthy_nifti_files:\n",
    "    patient_id = patient_id[1]\n",
    "    dir_path = os.path.join(unhealthy_output_dir, patient_id)\n",
    "    \n",
    "    # Delete the directory if it exists\n",
    "    if os.path.exists(dir_path):\n",
    "        shutil.rmtree(dir_path)\n",
    "    \n",
    "    # Recreate the directory\n",
    "    os.makedirs(dir_path)"
   ]
  },
  {
   "cell_type": "code",
   "execution_count": 25,
   "metadata": {},
   "outputs": [
    {
     "name": "stderr",
     "output_type": "stream",
     "text": [
      "100%|██████████| 42/42 [00:23<00:00,  1.79it/s]\n"
     ]
    }
   ],
   "source": [
    "from tqdm import tqdm\n",
    "\n",
    "for patient in tqdm(healthy_nifti_files):\n",
    "    nifti_file = patient[0]\n",
    "    patient_id = patient[1]\n",
    "    convert_nifti_to_dicom(nifti_file, os.path.join(healthy_output_dir, patient_id), patient_name=patient_id, patient_id=patient_id)\n",
    "# convert_nifti_to_dicom(healthy_nifti_files[0][0], os.path.join(healthy_output_dir, \"BDMAP_00000002\"), patient_name='Healthy', patient_id='BDMAP_00000002')"
   ]
  },
  {
   "cell_type": "code",
   "execution_count": null,
   "metadata": {},
   "outputs": [],
   "source": [
    "# from tqdm import tqdm\n",
    "\n",
    "# for patient in tqdm(unhealthy_nifti_files):\n",
    "#     nifti_file = patient[0]\n",
    "#     patient_id = patient[1]\n",
    "#     convert_nifti_to_dicom(nifti_file, os.path.join(unhealthy_output_dir, patient_id), patient_name=patient_id, patient_id=patient_id)\n",
    "# # convert_nifti_to_dicom(healthy_nifti_files[0][0], os.path.join(healthy_output_dir, \"BDMAP_00000002\"), patient_name='Healthy', patient_id='BDMAP_00000002')"
   ]
  },
  {
   "cell_type": "code",
   "execution_count": null,
   "metadata": {},
   "outputs": [],
   "source": []
  }
 ],
 "metadata": {
  "kernelspec": {
   "display_name": "venv",
   "language": "python",
   "name": "python3"
  },
  "language_info": {
   "codemirror_mode": {
    "name": "ipython",
    "version": 3
   },
   "file_extension": ".py",
   "mimetype": "text/x-python",
   "name": "python",
   "nbconvert_exporter": "python",
   "pygments_lexer": "ipython3",
   "version": "3.11.9"
  }
 },
 "nbformat": 4,
 "nbformat_minor": 2
}
